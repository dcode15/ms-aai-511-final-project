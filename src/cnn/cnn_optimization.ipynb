{
 "cells": [
  {
   "cell_type": "code",
   "execution_count": 10,
   "id": "d2fea45111280c3e",
   "metadata": {
    "ExecuteTime": {
     "end_time": "2024-07-18T02:43:48.685297Z",
     "start_time": "2024-07-18T02:43:43.570690Z"
    },
    "collapsed": true
   },
   "outputs": [],
   "source": [
    "import matplotlib.pyplot as plt\n",
    "import pandas as pd\n",
    "import seaborn as sns\n",
    "from sklearn.ensemble import HistGradientBoostingClassifier\n",
    "from sklearn.metrics import classification_report, confusion_matrix\n",
    "from sklearn.model_selection import train_test_split\n",
    "from sklearn.preprocessing import LabelEncoder\n",
    "import torch\n",
    "import torch.nn as nn\n",
    "import torch.nn.functional as F\n",
    "from torch.utils.data import Dataset, DataLoader\n",
    "\n",
    "import sys\n",
    "sys.path.append(\"..\") # Add parent directory to sys.path to access preprocessing module\n",
    "\n",
    "from preprocessing.feature_extractor import FeatureExtractor"
   ]
  },
  {
   "cell_type": "code",
   "execution_count": 11,
   "id": "initial_id",
   "metadata": {
    "ExecuteTime": {
     "end_time": "2024-07-18T02:43:57.989888Z",
     "start_time": "2024-07-18T02:43:55.889750Z"
    }
   },
   "outputs": [
    {
     "name": "stdout",
     "output_type": "stream",
     "text": [
      "Loading existing features from ../../data/Composer_Dataset/extracted_features.pkl\n"
     ]
    }
   ],
   "source": [
    "data_dir = \"../../data/Composer_Dataset\"\n",
    "composers = [\"Bach\", \"Beethoven\", \"Chopin\", \"Mozart\"]\n",
    "scalar_features, multidimensional_features = FeatureExtractor.extract_features_for_directory(data_dir, composers)"
   ]
  },
  {
   "cell_type": "code",
   "execution_count": 12,
   "id": "2e5db583236dfbcb",
   "metadata": {
    "ExecuteTime": {
     "end_time": "2024-07-18T02:44:04.615360Z",
     "start_time": "2024-07-18T02:44:04.597740Z"
    }
   },
   "outputs": [
    {
     "data": {
      "text/html": [
       "<div>\n",
       "<style scoped>\n",
       "    .dataframe tbody tr th:only-of-type {\n",
       "        vertical-align: middle;\n",
       "    }\n",
       "\n",
       "    .dataframe tbody tr th {\n",
       "        vertical-align: top;\n",
       "    }\n",
       "\n",
       "    .dataframe thead th {\n",
       "        text-align: right;\n",
       "    }\n",
       "</style>\n",
       "<table border=\"1\" class=\"dataframe\">\n",
       "  <thead>\n",
       "    <tr style=\"text-align: right;\">\n",
       "      <th></th>\n",
       "      <th>max_independent_voices</th>\n",
       "      <th>avg_independent_voices</th>\n",
       "      <th>var_independent_voices</th>\n",
       "      <th>avg_simultaneity</th>\n",
       "      <th>var_simultaneity</th>\n",
       "      <th>note_density</th>\n",
       "      <th>avg_note_duration</th>\n",
       "      <th>var_note_duration</th>\n",
       "      <th>initial_tempo</th>\n",
       "      <th>time_signature_numerator</th>\n",
       "      <th>...</th>\n",
       "      <th>perfect_vertical_intervals</th>\n",
       "      <th>vertical_minor_seconds</th>\n",
       "      <th>vertical_thirds</th>\n",
       "      <th>vertical_fifths</th>\n",
       "      <th>vertical_tritones</th>\n",
       "      <th>vertical_octaves</th>\n",
       "      <th>avg_chord_duration</th>\n",
       "      <th>length</th>\n",
       "      <th>file_name</th>\n",
       "      <th>composer</th>\n",
       "    </tr>\n",
       "  </thead>\n",
       "  <tbody>\n",
       "    <tr>\n",
       "      <th>0</th>\n",
       "      <td>4.0</td>\n",
       "      <td>3.899642</td>\n",
       "      <td>0.300477</td>\n",
       "      <td>3.720000</td>\n",
       "      <td>1.020588</td>\n",
       "      <td>6.439026</td>\n",
       "      <td>0.621212</td>\n",
       "      <td>0.296121</td>\n",
       "      <td>143.000038</td>\n",
       "      <td>4.0</td>\n",
       "      <td>...</td>\n",
       "      <td>0.391195</td>\n",
       "      <td>0.000000</td>\n",
       "      <td>0.327044</td>\n",
       "      <td>0.200000</td>\n",
       "      <td>0.045283</td>\n",
       "      <td>0.122013</td>\n",
       "      <td>0.465000</td>\n",
       "      <td>29.999992</td>\n",
       "      <td>042100b_.mid</td>\n",
       "      <td>Bach</td>\n",
       "    </tr>\n",
       "    <tr>\n",
       "      <th>1</th>\n",
       "      <td>4.0</td>\n",
       "      <td>3.986667</td>\n",
       "      <td>0.114698</td>\n",
       "      <td>3.600000</td>\n",
       "      <td>1.200000</td>\n",
       "      <td>7.394595</td>\n",
       "      <td>0.526316</td>\n",
       "      <td>0.250579</td>\n",
       "      <td>189.176471</td>\n",
       "      <td>4.0</td>\n",
       "      <td>...</td>\n",
       "      <td>0.400447</td>\n",
       "      <td>0.005220</td>\n",
       "      <td>0.307979</td>\n",
       "      <td>0.168531</td>\n",
       "      <td>0.042506</td>\n",
       "      <td>0.123788</td>\n",
       "      <td>0.321429</td>\n",
       "      <td>25.000000</td>\n",
       "      <td>043100b_.mid</td>\n",
       "      <td>Bach</td>\n",
       "    </tr>\n",
       "    <tr>\n",
       "      <th>2</th>\n",
       "      <td>7.0</td>\n",
       "      <td>2.664012</td>\n",
       "      <td>1.617631</td>\n",
       "      <td>2.331998</td>\n",
       "      <td>1.816512</td>\n",
       "      <td>6.292553</td>\n",
       "      <td>0.371665</td>\n",
       "      <td>0.686803</td>\n",
       "      <td>181.905446</td>\n",
       "      <td>4.0</td>\n",
       "      <td>...</td>\n",
       "      <td>0.378734</td>\n",
       "      <td>0.006634</td>\n",
       "      <td>0.291590</td>\n",
       "      <td>0.120602</td>\n",
       "      <td>0.057594</td>\n",
       "      <td>0.158185</td>\n",
       "      <td>0.177695</td>\n",
       "      <td>923.701235</td>\n",
       "      <td>Bwv0564-Toccata-Adagio-and-Fugue.mid</td>\n",
       "      <td>Bach</td>\n",
       "    </tr>\n",
       "    <tr>\n",
       "      <th>3</th>\n",
       "      <td>4.0</td>\n",
       "      <td>3.970874</td>\n",
       "      <td>0.168160</td>\n",
       "      <td>3.662222</td>\n",
       "      <td>1.112213</td>\n",
       "      <td>8.775758</td>\n",
       "      <td>0.455801</td>\n",
       "      <td>0.212811</td>\n",
       "      <td>177.509434</td>\n",
       "      <td>4.0</td>\n",
       "      <td>...</td>\n",
       "      <td>0.375205</td>\n",
       "      <td>0.009852</td>\n",
       "      <td>0.312808</td>\n",
       "      <td>0.130542</td>\n",
       "      <td>0.030378</td>\n",
       "      <td>0.115764</td>\n",
       "      <td>0.321875</td>\n",
       "      <td>22.500000</td>\n",
       "      <td>027400b_.mid</td>\n",
       "      <td>Bach</td>\n",
       "    </tr>\n",
       "    <tr>\n",
       "      <th>4</th>\n",
       "      <td>4.0</td>\n",
       "      <td>3.917323</td>\n",
       "      <td>0.275394</td>\n",
       "      <td>3.455782</td>\n",
       "      <td>1.371385</td>\n",
       "      <td>5.195127</td>\n",
       "      <td>0.713614</td>\n",
       "      <td>0.442007</td>\n",
       "      <td>153.000153</td>\n",
       "      <td>4.0</td>\n",
       "      <td>...</td>\n",
       "      <td>0.478439</td>\n",
       "      <td>0.002738</td>\n",
       "      <td>0.309377</td>\n",
       "      <td>0.206023</td>\n",
       "      <td>0.016427</td>\n",
       "      <td>0.140999</td>\n",
       "      <td>0.470370</td>\n",
       "      <td>29.333304</td>\n",
       "      <td>026400b_.mid</td>\n",
       "      <td>Bach</td>\n",
       "    </tr>\n",
       "  </tbody>\n",
       "</table>\n",
       "<p>5 rows × 33 columns</p>\n",
       "</div>"
      ],
      "text/plain": [
       "   max_independent_voices  avg_independent_voices  var_independent_voices  \\\n",
       "0                     4.0                3.899642                0.300477   \n",
       "1                     4.0                3.986667                0.114698   \n",
       "2                     7.0                2.664012                1.617631   \n",
       "3                     4.0                3.970874                0.168160   \n",
       "4                     4.0                3.917323                0.275394   \n",
       "\n",
       "   avg_simultaneity  var_simultaneity  note_density  avg_note_duration  \\\n",
       "0          3.720000          1.020588      6.439026           0.621212   \n",
       "1          3.600000          1.200000      7.394595           0.526316   \n",
       "2          2.331998          1.816512      6.292553           0.371665   \n",
       "3          3.662222          1.112213      8.775758           0.455801   \n",
       "4          3.455782          1.371385      5.195127           0.713614   \n",
       "\n",
       "   var_note_duration  initial_tempo  time_signature_numerator  ...  \\\n",
       "0           0.296121     143.000038                       4.0  ...   \n",
       "1           0.250579     189.176471                       4.0  ...   \n",
       "2           0.686803     181.905446                       4.0  ...   \n",
       "3           0.212811     177.509434                       4.0  ...   \n",
       "4           0.442007     153.000153                       4.0  ...   \n",
       "\n",
       "   perfect_vertical_intervals  vertical_minor_seconds  vertical_thirds  \\\n",
       "0                    0.391195                0.000000         0.327044   \n",
       "1                    0.400447                0.005220         0.307979   \n",
       "2                    0.378734                0.006634         0.291590   \n",
       "3                    0.375205                0.009852         0.312808   \n",
       "4                    0.478439                0.002738         0.309377   \n",
       "\n",
       "   vertical_fifths  vertical_tritones  vertical_octaves  avg_chord_duration  \\\n",
       "0         0.200000           0.045283          0.122013            0.465000   \n",
       "1         0.168531           0.042506          0.123788            0.321429   \n",
       "2         0.120602           0.057594          0.158185            0.177695   \n",
       "3         0.130542           0.030378          0.115764            0.321875   \n",
       "4         0.206023           0.016427          0.140999            0.470370   \n",
       "\n",
       "       length                             file_name  composer  \n",
       "0   29.999992                          042100b_.mid      Bach  \n",
       "1   25.000000                          043100b_.mid      Bach  \n",
       "2  923.701235  Bwv0564-Toccata-Adagio-and-Fugue.mid      Bach  \n",
       "3   22.500000                          027400b_.mid      Bach  \n",
       "4   29.333304                          026400b_.mid      Bach  \n",
       "\n",
       "[5 rows x 33 columns]"
      ]
     },
     "execution_count": 12,
     "metadata": {},
     "output_type": "execute_result"
    }
   ],
   "source": [
    "scalar_features.head()"
   ]
  },
  {
   "cell_type": "code",
   "execution_count": 13,
   "id": "b80c176ddbd29940",
   "metadata": {
    "ExecuteTime": {
     "end_time": "2024-07-18T02:44:07.269877Z",
     "start_time": "2024-07-18T02:44:07.266095Z"
    }
   },
   "outputs": [
    {
     "name": "stdout",
     "output_type": "stream",
     "text": [
      "Piano Roll Shape: (128, 299)\n",
      "Chroma Piano Roll Shape: (12, 299)\n",
      "Pitch Class Histogram Shape: (12,)\n",
      "Pitch Class Transition Matrix Shape: (12, 12)\n"
     ]
    }
   ],
   "source": [
    "print(f\"Piano Roll Shape: {multidimensional_features[0]['piano_roll'].shape}\")\n",
    "print(f\"Chroma Piano Roll Shape: {multidimensional_features[0]['chroma_piano_roll'].shape}\")\n",
    "print(f\"Pitch Class Histogram Shape: {multidimensional_features[0]['pitch_class_histogram'].shape}\")\n",
    "print(f\"Pitch Class Transition Matrix Shape: {multidimensional_features[0]['pitch_class_transition_matrix'].shape}\")"
   ]
  },
  {
   "cell_type": "markdown",
   "id": "8b2f049f",
   "metadata": {},
   "source": [
    "## CNN Example"
   ]
  },
  {
   "cell_type": "markdown",
   "id": "ab0074e8",
   "metadata": {},
   "source": [
    "### Train Val Test Split"
   ]
  },
  {
   "cell_type": "code",
   "execution_count": 14,
   "id": "9bc869cf",
   "metadata": {},
   "outputs": [],
   "source": [
    "train_split = 0.8  # ratio of all data to use for training\n",
    "val_test_split = 0.5  # ratio of holdout data to use for test set\n",
    "\n",
    "x = multidimensional_features\n",
    "y = scalar_features['composer']\n",
    "\n",
    "label_encoder = LabelEncoder()\n",
    "y = label_encoder.fit_transform(y)\n",
    "\n",
    "x_train, x_holdout, y_train, y_holdout = train_test_split(x, y, test_size=(1 - train_split), random_state=1)\n",
    "x_val, x_test, y_val, y_test = train_test_split(x_holdout, y_holdout, test_size=val_test_split, random_state=1)"
   ]
  },
  {
   "cell_type": "code",
   "execution_count": 15,
   "id": "2636fe39",
   "metadata": {},
   "outputs": [
    {
     "data": {
      "text/plain": [
       "<torch._C.Generator at 0x149c0fd10>"
      ]
     },
     "execution_count": 15,
     "metadata": {},
     "output_type": "execute_result"
    }
   ],
   "source": [
    "torch.manual_seed(42)"
   ]
  },
  {
   "cell_type": "markdown",
   "id": "ec258f21",
   "metadata": {},
   "source": [
    "### Chunk Into Sequences"
   ]
  },
  {
   "cell_type": "code",
   "execution_count": 16,
   "id": "c06b249a",
   "metadata": {},
   "outputs": [],
   "source": [
    "def chunk_sequences(X_in, y_in, feature, sequence_length=100):\n",
    "    X_out = []\n",
    "    y_out = []\n",
    "\n",
    "    # make sequences split along the time axis\n",
    "    for i in range(len(X_in)):\n",
    "        for j in range(0, len(X_in[i][feature][1]) - sequence_length, sequence_length):\n",
    "            X_out.append(X_in[i][feature][:, j:j + sequence_length])\n",
    "            y_out.append(y_in[i])\n",
    "\n",
    "    return X_out, y_out"
   ]
  },
  {
   "cell_type": "markdown",
   "id": "0cfa3f0f",
   "metadata": {},
   "source": [
    "### Setup"
   ]
  },
  {
   "cell_type": "markdown",
   "id": "e9ab6134",
   "metadata": {},
   "source": [
    "### Make Dataloader"
   ]
  },
  {
   "cell_type": "code",
   "execution_count": 17,
   "id": "bcc5b271",
   "metadata": {},
   "outputs": [],
   "source": [
    "class PianoRollDataset(Dataset):\n",
    "    def __init__(self, X, y):\n",
    "        self.X = X\n",
    "        self.y = y\n",
    "\n",
    "    def __len__(self):\n",
    "        return len(self.X)\n",
    "\n",
    "    def __getitem__(self, idx):\n",
    "        X = torch.tensor(self.X[idx], dtype=torch.float32) \n",
    "        y = torch.tensor(self.y[idx], dtype=torch.long)\n",
    "        return X, y"
   ]
  },
  {
   "cell_type": "code",
   "execution_count": 18,
   "id": "48485ed6",
   "metadata": {},
   "outputs": [],
   "source": [
    "def get_dataloaders(use_chroma, seq_length=100, batch_size=8):\n",
    "    \n",
    "    feature_set = 'chroma_piano_roll' if use_chroma else 'piano_roll'\n",
    "\n",
    "    X_train_seq, y_train_seq = chunk_sequences(x_train, y_train, feature_set, seq_length)\n",
    "    X_val_seq, y_val_seq = chunk_sequences(x_val, y_val, feature_set, seq_length)\n",
    "    X_test_seq, y_test_seq = chunk_sequences(x_test, y_test, feature_set, seq_length)\n",
    "\n",
    "    train_dataset = PianoRollDataset(X_train_seq, y_train_seq)\n",
    "    val_dataset = PianoRollDataset(X_val_seq, y_val_seq)\n",
    "    test_dataset = PianoRollDataset(X_test_seq, y_test_seq)\n",
    "\n",
    "    train_loader = DataLoader(train_dataset, batch_size=batch_size, shuffle=True)\n",
    "    val_loader = DataLoader(val_dataset, batch_size=batch_size, shuffle=False)\n",
    "    test_loader = DataLoader(test_dataset, batch_size=batch_size, shuffle=False)\n",
    "\n",
    "    return train_loader, val_loader, test_loader"
   ]
  },
  {
   "cell_type": "markdown",
   "id": "ec00e3c2",
   "metadata": {},
   "source": [
    "### Define CNN"
   ]
  },
  {
   "cell_type": "code",
   "execution_count": 19,
   "id": "a022e8e7",
   "metadata": {},
   "outputs": [],
   "source": [
    "class PianoRollCNN(nn.Module):\n",
    "    def __init__(self, h_params):\n",
    "        super(PianoRollCNN, self).__init__()\n",
    "        # Conv1d layers: input channels = 12, height = 1, width = 50\n",
    "\n",
    "        input_channels = 12 if h_params['use_chroma'] else 128\n",
    "\n",
    "        self.conv1 = nn.Conv1d(input_channels, h_params['conv1_out_channels'], \n",
    "                               kernel_size=h_params['kernel_size'], stride=h_params['stride'], \n",
    "                               padding=h_params['kernel_size'] // 2)\n",
    "        self.conv2 = nn.Conv1d(h_params['conv1_out_channels'], h_params['conv2_out_channels'], \n",
    "                               kernel_size=h_params['kernel_size'], stride=h_params['stride'],\n",
    "                               padding=h_params['kernel_size'] // 2)\n",
    "        self.pool = nn.MaxPool1d(kernel_size=h_params['pool_kernel_size'], stride=h_params['pool_stride'], padding=0)\n",
    "\n",
    "        def conv_output_size(input_size, kernel_size, stride, padding):\n",
    "            return (input_size - kernel_size + 2 * padding) // stride + 1\n",
    "    \n",
    "        padding = h_params['kernel_size'] // 2  # Assuming same padding\n",
    "\n",
    "        # First conv layer output size\n",
    "        conv1_output_width = conv_output_size(int(h_params['seq_length']), h_params['kernel_size'], h_params['stride'], padding)\n",
    "        # First pooling layer output size\n",
    "        pooled_width = conv_output_size(conv1_output_width, h_params['pool_kernel_size'], h_params['pool_stride'], 0)\n",
    "        # Second conv layer output size\n",
    "        conv2_output_width = conv_output_size(pooled_width, h_params['kernel_size'], h_params['stride'], padding)\n",
    "        # Second pooling layer output size\n",
    "        pooled_width = conv_output_size(conv2_output_width, h_params['pool_kernel_size'], h_params['pool_stride'], 0)\n",
    "\n",
    "        self.fc1 = nn.Linear(h_params['conv2_out_channels'] * pooled_width, h_params['fc1_out'])\n",
    "        self.fc2 = nn.Linear(h_params['fc1_out'], 4)  # Output of 4 classes (composers)\n",
    "\n",
    "    def forward(self, x):\n",
    "        x = x.squeeze(2) # This can potentially be removed if the input is reshaped correctly in the dataloader\n",
    "        x = self.pool(F.relu(self.conv1(x)))\n",
    "        x = self.pool(F.relu(self.conv2(x)))\n",
    "        x = x.view(x.size(0), -1) \n",
    "        x = F.relu(self.fc1(x))\n",
    "        x = self.fc2(x)\n",
    "        return x"
   ]
  },
  {
   "cell_type": "code",
   "execution_count": 33,
   "id": "ca495a49",
   "metadata": {},
   "outputs": [],
   "source": [
    "def train_cnn(model, train_loader, val_loader, num_epochs, criterion, optimizer):\n",
    "\n",
    "    for epoch in range(num_epochs):\n",
    "        model.train()\n",
    "        running_loss = 0.0\n",
    "        report_interval = 1000\n",
    "        for i, data in enumerate(train_loader):\n",
    "            inputs, labels = data\n",
    "            optimizer.zero_grad()\n",
    "            outputs = model(inputs)\n",
    "            loss = criterion(outputs, labels)\n",
    "            loss.backward()\n",
    "            optimizer.step()\n",
    "            running_loss += loss.item()\n",
    "            if i % report_interval == (report_interval - 1):\n",
    "                print(f'[Epoch {epoch + 1}, Batch {i + 1}] loss: {running_loss / report_interval:.3f}')\n",
    "                running_loss = 0.0  # Reset running loss\n",
    "\n",
    "        # Validation\n",
    "        model.eval()\n",
    "        val_loss = 0.0\n",
    "        correct = 0\n",
    "        total = 0\n",
    "        with torch.no_grad():\n",
    "            for data in val_loader:\n",
    "                inputs, labels = data\n",
    "                outputs = model(inputs)\n",
    "                loss = criterion(outputs, labels)\n",
    "                val_loss += loss.item()\n",
    "                _, predicted = torch.max(outputs.data, 1)\n",
    "                total += labels.size(0)\n",
    "                correct += (predicted == labels).sum().item()\n",
    "        print(f'Validation loss: {val_loss / len(val_loader):.3f}, Accuracy: {100 * correct / total:.2f}%')\n"
   ]
  },
  {
   "cell_type": "markdown",
   "id": "d097bcee",
   "metadata": {},
   "source": [
    "### Evaluate Performance"
   ]
  },
  {
   "cell_type": "code",
   "execution_count": 21,
   "id": "08982092",
   "metadata": {},
   "outputs": [],
   "source": [
    "def evaluate_performance(model, data_loader):\n",
    "    model.eval()\n",
    "\n",
    "    all_labels = []\n",
    "    all_predictions = []\n",
    "\n",
    "    # Disable gradient computation for evaluation\n",
    "    with torch.no_grad():\n",
    "        for data in data_loader:\n",
    "            inputs, labels = data\n",
    "            outputs = model(inputs)\n",
    "            _, predicted = torch.max(outputs.data, 1)\n",
    "\n",
    "            # Store true and predicted labels\n",
    "            all_labels.extend(labels.numpy())\n",
    "            all_predictions.extend(predicted.numpy())\n",
    "\n",
    "    # Compute the classification report\n",
    "    report = classification_report(all_labels, all_predictions, target_names=label_encoder.classes_)\n",
    "    print(report)\n",
    "\n",
    "    return report, all_labels, all_predictions"
   ]
  },
  {
   "cell_type": "markdown",
   "id": "76afcd7e",
   "metadata": {},
   "source": [
    "### Implement One Training Run"
   ]
  },
  {
   "cell_type": "code",
   "execution_count": 22,
   "id": "f235ed85",
   "metadata": {},
   "outputs": [],
   "source": [
    "def training_run(h_params):\n",
    "\n",
    "    seq_length = int(h_params['seq_length'])\n",
    "    batch_size = int(h_params['batch_size'])\n",
    "\n",
    "    train_loader, val_loader, test_loader = get_dataloaders(h_params['use_chroma'], seq_length, batch_size)\n",
    "\n",
    "    model = PianoRollCNN(h_params)\n",
    "\n",
    "    criterion = nn.CrossEntropyLoss()\n",
    "    optimizer = torch.optim.Adam(model.parameters(), lr=h_params['lr'])\n",
    "    train_cnn(model, train_loader, val_loader, h_params['num_epochs'], criterion, optimizer)\n",
    "\n",
    "    # TODO: Add model save \n",
    "    ###### Save results #####\n",
    "    return model, test_loader"
   ]
  },
  {
   "cell_type": "markdown",
   "id": "e52a3fdc",
   "metadata": {},
   "source": [
    "### Process All Hyperparameter Sets"
   ]
  },
  {
   "cell_type": "code",
   "execution_count": 35,
   "id": "eadeb994",
   "metadata": {},
   "outputs": [],
   "source": [
    "# Function to process the file and train models\n",
    "def process_file(file_path):\n",
    "    infile = pd.read_csv(file_path)\n",
    "\n",
    "    outputs = ['accuracy', 'bach_f1', 'beethoven_f1', 'chopin_f1', 'mozart_f1']\n",
    "    floating_point_columns = ['lr']\n",
    "\n",
    "    for index, row in infile.iterrows():\n",
    "        # Create hyperparameter dictionary dynamically\n",
    "        hyperparams = {col: row[col] for col in infile.columns if col not in outputs}\n",
    "        # Convert int columns to int\n",
    "        for col in infile.columns:\n",
    "            if col not in floating_point_columns and col not in outputs:\n",
    "                hyperparams[col] = int(hyperparams[col])\n",
    "            elif col in floating_point_columns:\n",
    "                hyperparams[col] = float(hyperparams[col])\n",
    "\n",
    "        # Train model\n",
    "        model, test_loader = training_run(hyperparams)\n",
    "\n",
    "        # Evaluate performance\n",
    "        report, all_labels, all_predictions = evaluate_performance(model, test_loader)\n",
    "\n",
    "        # Write accuracy to data then save\n",
    "        infile.at[index, 'accuracy'] = float(report.split('\\n')[7].split()[1])\n",
    "        infile.at[index, 'bach_f1'] = float(report.split('\\n')[2].split()[3])\n",
    "        infile.at[index, 'beethoven_f1'] = float(report.split('\\n')[3].split()[3])\n",
    "        infile.at[index, 'chopin_f1'] = float(report.split('\\n')[4].split()[3])\n",
    "        infile.at[index, 'mozart_f1'] = float(report.split('\\n')[5].split()[3])\n",
    "        infile.to_csv(file_path, index=False)\n"
   ]
  },
  {
   "cell_type": "code",
   "execution_count": 36,
   "id": "a75daa2f",
   "metadata": {},
   "outputs": [
    {
     "name": "stdout",
     "output_type": "stream",
     "text": [
      "[Epoch 1, Batch 1000] loss: 1.295\n",
      "[Epoch 1, Batch 2000] loss: 1.180\n",
      "[Epoch 1, Batch 3000] loss: 1.148\n",
      "[Epoch 1, Batch 4000] loss: 1.133\n",
      "[Epoch 1, Batch 5000] loss: 1.107\n",
      "[Epoch 1, Batch 6000] loss: 1.083\n",
      "[Epoch 1, Batch 7000] loss: 1.094\n",
      "[Epoch 1, Batch 8000] loss: 1.075\n",
      "Validation loss: 1.085, Accuracy: 46.76%\n",
      "              precision    recall  f1-score   support\n",
      "\n",
      "        Bach       0.68      0.92      0.78      3290\n",
      "   Beethoven       0.45      0.56      0.50      1814\n",
      "      Chopin       0.91      0.10      0.18      1047\n",
      "      Mozart       0.14      0.04      0.06       968\n",
      "\n",
      "    accuracy                           0.59      7119\n",
      "   macro avg       0.54      0.40      0.38      7119\n",
      "weighted avg       0.58      0.59      0.52      7119\n",
      "\n",
      "[Epoch 1, Batch 1000] loss: 1.310\n",
      "[Epoch 1, Batch 2000] loss: 1.133\n",
      "[Epoch 1, Batch 3000] loss: 1.092\n",
      "Validation loss: 1.083, Accuracy: 52.11%\n",
      "              precision    recall  f1-score   support\n",
      "\n",
      "        Bach       0.66      0.91      0.76      1619\n",
      "   Beethoven       0.51      0.33      0.40       901\n",
      "      Chopin       0.83      0.11      0.20       518\n",
      "      Mozart       0.27      0.35      0.31       481\n",
      "\n",
      "    accuracy                           0.57      3519\n",
      "   macro avg       0.57      0.43      0.42      3519\n",
      "weighted avg       0.59      0.57      0.52      3519\n",
      "\n",
      "[Epoch 1, Batch 1000] loss: 1.481\n",
      "Validation loss: 1.159, Accuracy: 46.45%\n",
      "              precision    recall  f1-score   support\n",
      "\n",
      "        Bach       0.70      0.78      0.74       788\n",
      "   Beethoven       0.42      0.58      0.49       445\n",
      "      Chopin       0.67      0.15      0.25       254\n",
      "      Mozart       0.27      0.19      0.22       236\n",
      "\n",
      "    accuracy                           0.56      1723\n",
      "   macro avg       0.52      0.43      0.42      1723\n",
      "weighted avg       0.56      0.56      0.53      1723\n",
      "\n"
     ]
    }
   ],
   "source": [
    "process_file('cnn_optimization.csv')"
   ]
  },
  {
   "cell_type": "markdown",
   "id": "3b35cd3d",
   "metadata": {},
   "source": [
    "## Single Training Run"
   ]
  },
  {
   "cell_type": "code",
   "execution_count": 38,
   "id": "415499ee",
   "metadata": {},
   "outputs": [
    {
     "name": "stdout",
     "output_type": "stream",
     "text": [
      "[Epoch 1, Batch 1000] loss: 1.299\n",
      "[Epoch 1, Batch 2000] loss: 1.192\n",
      "[Epoch 1, Batch 3000] loss: 1.175\n",
      "[Epoch 1, Batch 4000] loss: 1.150\n",
      "[Epoch 1, Batch 5000] loss: 1.108\n",
      "[Epoch 1, Batch 6000] loss: 1.108\n",
      "[Epoch 1, Batch 7000] loss: 1.087\n",
      "[Epoch 1, Batch 8000] loss: 1.077\n",
      "Validation loss: 1.067, Accuracy: 52.58%\n",
      "              precision    recall  f1-score   support\n",
      "\n",
      "        Bach       0.66      0.89      0.76      3290\n",
      "   Beethoven       0.45      0.25      0.32      1814\n",
      "      Chopin       0.86      0.17      0.28      1047\n",
      "      Mozart       0.23      0.35      0.28       968\n",
      "\n",
      "    accuracy                           0.55      7119\n",
      "   macro avg       0.55      0.42      0.41      7119\n",
      "weighted avg       0.58      0.55      0.51      7119\n",
      "\n"
     ]
    }
   ],
   "source": [
    "test_params = {}\n",
    "test_params['use_chroma'] = True\n",
    "test_params['seq_length'] = 50\n",
    "test_params['batch_size'] = 8\n",
    "test_params['lr'] = 0.001\n",
    "test_params['num_epochs'] = 1\n",
    "\n",
    "test_params['conv1_out_channels'] = 32\n",
    "test_params['conv2_out_channels'] = 64\n",
    "test_params['kernel_size'] = 3\n",
    "test_params['stride'] = 1\n",
    "\n",
    "test_params['pool_kernel_size'] = 2\n",
    "test_params['pool_stride'] = 2\n",
    "\n",
    "test_params['fc1_out'] = 128\n",
    "\n",
    "model, test_dataloader = training_run(test_params)\n",
    "\n",
    "report, _, _ = evaluate_performance(model, test_dataloader)"
   ]
  }
 ],
 "metadata": {
  "kernelspec": {
   "display_name": "Python 3",
   "language": "python",
   "name": "python3"
  },
  "language_info": {
   "codemirror_mode": {
    "name": "ipython",
    "version": 3
   },
   "file_extension": ".py",
   "mimetype": "text/x-python",
   "name": "python",
   "nbconvert_exporter": "python",
   "pygments_lexer": "ipython3",
   "version": "3.10.13"
  }
 },
 "nbformat": 4,
 "nbformat_minor": 5
}
