{
 "cells": [
  {
   "cell_type": "code",
   "execution_count": 1,
   "id": "d2fea45111280c3e",
   "metadata": {
    "ExecuteTime": {
     "end_time": "2024-07-18T02:43:48.685297Z",
     "start_time": "2024-07-18T02:43:43.570690Z"
    },
    "collapsed": true
   },
   "outputs": [],
   "source": [
    "import matplotlib.pyplot as plt\n",
    "import pandas as pd\n",
    "import seaborn as sns\n",
    "from sklearn.ensemble import HistGradientBoostingClassifier\n",
    "from sklearn.metrics import classification_report, confusion_matrix\n",
    "from sklearn.model_selection import train_test_split\n",
    "from sklearn.preprocessing import LabelEncoder\n",
    "import torch\n",
    "import torch.nn as nn\n",
    "import torch.nn.functional as F\n",
    "from torch.utils.data import Dataset, DataLoader\n",
    "\n",
    "import sys\n",
    "sys.path.append(\"../../\") # Add parent directory to sys.path to access preprocessing module\n",
    "sys.path.append(\"../\") # Add parent directory to sys.path to access preprocessing module\n",
    "\n",
    "from preprocessing.data_augmentor import DataAugmentor\n",
    "from preprocessing.feature_extractor import FeatureExtractor\n",
    "from preprocessing.sampler import Sampler"
   ]
  },
  {
   "cell_type": "code",
   "execution_count": 2,
   "id": "initial_id",
   "metadata": {
    "ExecuteTime": {
     "end_time": "2024-07-18T02:43:57.989888Z",
     "start_time": "2024-07-18T02:43:55.889750Z"
    }
   },
   "outputs": [
    {
     "name": "stdout",
     "output_type": "stream",
     "text": [
      "/Users/kdevoe/Documents/CS/Masters/AAI511/ms-aai-511-final-project/src/cnn\n",
      "Loading existing features from ../../data/Composer_Dataset/extracted_features.pkl\n"
     ]
    }
   ],
   "source": [
    "# Print working directory\n",
    "import os\n",
    "print(os.getcwd())\n",
    "\n",
    "data_dir = \"../../data/Composer_Dataset\"\n",
    "composers = [\"Bach\", \"Beethoven\", \"Chopin\", \"Mozart\"]\n",
    "scalar_features, multidimensional_features = FeatureExtractor.extract_features_for_directory(data_dir, composers)"
   ]
  },
  {
   "cell_type": "code",
   "execution_count": 3,
   "id": "2e5db583236dfbcb",
   "metadata": {
    "ExecuteTime": {
     "end_time": "2024-07-18T02:44:04.615360Z",
     "start_time": "2024-07-18T02:44:04.597740Z"
    }
   },
   "outputs": [
    {
     "data": {
      "text/html": [
       "<div>\n",
       "<style scoped>\n",
       "    .dataframe tbody tr th:only-of-type {\n",
       "        vertical-align: middle;\n",
       "    }\n",
       "\n",
       "    .dataframe tbody tr th {\n",
       "        vertical-align: top;\n",
       "    }\n",
       "\n",
       "    .dataframe thead th {\n",
       "        text-align: right;\n",
       "    }\n",
       "</style>\n",
       "<table border=\"1\" class=\"dataframe\">\n",
       "  <thead>\n",
       "    <tr style=\"text-align: right;\">\n",
       "      <th></th>\n",
       "      <th>max_independent_voices</th>\n",
       "      <th>avg_independent_voices</th>\n",
       "      <th>var_independent_voices</th>\n",
       "      <th>avg_simultaneity</th>\n",
       "      <th>var_simultaneity</th>\n",
       "      <th>note_density</th>\n",
       "      <th>avg_note_duration</th>\n",
       "      <th>var_note_duration</th>\n",
       "      <th>initial_tempo</th>\n",
       "      <th>time_signature_numerator</th>\n",
       "      <th>...</th>\n",
       "      <th>perfect_vertical_intervals</th>\n",
       "      <th>vertical_minor_seconds</th>\n",
       "      <th>vertical_thirds</th>\n",
       "      <th>vertical_fifths</th>\n",
       "      <th>vertical_tritones</th>\n",
       "      <th>vertical_octaves</th>\n",
       "      <th>avg_chord_duration</th>\n",
       "      <th>length</th>\n",
       "      <th>file_name</th>\n",
       "      <th>composer</th>\n",
       "    </tr>\n",
       "  </thead>\n",
       "  <tbody>\n",
       "    <tr>\n",
       "      <th>0</th>\n",
       "      <td>4.0</td>\n",
       "      <td>3.899642</td>\n",
       "      <td>0.300477</td>\n",
       "      <td>3.720000</td>\n",
       "      <td>1.020588</td>\n",
       "      <td>6.439026</td>\n",
       "      <td>0.621212</td>\n",
       "      <td>0.296121</td>\n",
       "      <td>143.000038</td>\n",
       "      <td>4.0</td>\n",
       "      <td>...</td>\n",
       "      <td>0.391195</td>\n",
       "      <td>0.000000</td>\n",
       "      <td>0.327044</td>\n",
       "      <td>0.200000</td>\n",
       "      <td>0.045283</td>\n",
       "      <td>0.122013</td>\n",
       "      <td>0.465000</td>\n",
       "      <td>29.999992</td>\n",
       "      <td>042100b_.mid</td>\n",
       "      <td>Bach</td>\n",
       "    </tr>\n",
       "    <tr>\n",
       "      <th>1</th>\n",
       "      <td>4.0</td>\n",
       "      <td>3.986667</td>\n",
       "      <td>0.114698</td>\n",
       "      <td>3.600000</td>\n",
       "      <td>1.200000</td>\n",
       "      <td>7.394595</td>\n",
       "      <td>0.526316</td>\n",
       "      <td>0.250579</td>\n",
       "      <td>189.176471</td>\n",
       "      <td>4.0</td>\n",
       "      <td>...</td>\n",
       "      <td>0.400447</td>\n",
       "      <td>0.005220</td>\n",
       "      <td>0.307979</td>\n",
       "      <td>0.168531</td>\n",
       "      <td>0.042506</td>\n",
       "      <td>0.123788</td>\n",
       "      <td>0.321429</td>\n",
       "      <td>25.000000</td>\n",
       "      <td>043100b_.mid</td>\n",
       "      <td>Bach</td>\n",
       "    </tr>\n",
       "    <tr>\n",
       "      <th>2</th>\n",
       "      <td>7.0</td>\n",
       "      <td>2.664012</td>\n",
       "      <td>1.617631</td>\n",
       "      <td>2.331998</td>\n",
       "      <td>1.816512</td>\n",
       "      <td>6.292553</td>\n",
       "      <td>0.371665</td>\n",
       "      <td>0.686803</td>\n",
       "      <td>181.905446</td>\n",
       "      <td>4.0</td>\n",
       "      <td>...</td>\n",
       "      <td>0.378734</td>\n",
       "      <td>0.006634</td>\n",
       "      <td>0.291590</td>\n",
       "      <td>0.120602</td>\n",
       "      <td>0.057594</td>\n",
       "      <td>0.158185</td>\n",
       "      <td>0.177695</td>\n",
       "      <td>923.701235</td>\n",
       "      <td>Bwv0564-Toccata-Adagio-and-Fugue.mid</td>\n",
       "      <td>Bach</td>\n",
       "    </tr>\n",
       "    <tr>\n",
       "      <th>3</th>\n",
       "      <td>4.0</td>\n",
       "      <td>3.970874</td>\n",
       "      <td>0.168160</td>\n",
       "      <td>3.662222</td>\n",
       "      <td>1.112213</td>\n",
       "      <td>8.775758</td>\n",
       "      <td>0.455801</td>\n",
       "      <td>0.212811</td>\n",
       "      <td>177.509434</td>\n",
       "      <td>4.0</td>\n",
       "      <td>...</td>\n",
       "      <td>0.375205</td>\n",
       "      <td>0.009852</td>\n",
       "      <td>0.312808</td>\n",
       "      <td>0.130542</td>\n",
       "      <td>0.030378</td>\n",
       "      <td>0.115764</td>\n",
       "      <td>0.321875</td>\n",
       "      <td>22.500000</td>\n",
       "      <td>027400b_.mid</td>\n",
       "      <td>Bach</td>\n",
       "    </tr>\n",
       "    <tr>\n",
       "      <th>4</th>\n",
       "      <td>4.0</td>\n",
       "      <td>3.917323</td>\n",
       "      <td>0.275394</td>\n",
       "      <td>3.455782</td>\n",
       "      <td>1.371385</td>\n",
       "      <td>5.195127</td>\n",
       "      <td>0.713614</td>\n",
       "      <td>0.442007</td>\n",
       "      <td>153.000153</td>\n",
       "      <td>4.0</td>\n",
       "      <td>...</td>\n",
       "      <td>0.478439</td>\n",
       "      <td>0.002738</td>\n",
       "      <td>0.309377</td>\n",
       "      <td>0.206023</td>\n",
       "      <td>0.016427</td>\n",
       "      <td>0.140999</td>\n",
       "      <td>0.470370</td>\n",
       "      <td>29.333304</td>\n",
       "      <td>026400b_.mid</td>\n",
       "      <td>Bach</td>\n",
       "    </tr>\n",
       "  </tbody>\n",
       "</table>\n",
       "<p>5 rows × 33 columns</p>\n",
       "</div>"
      ],
      "text/plain": [
       "   max_independent_voices  avg_independent_voices  var_independent_voices  \\\n",
       "0                     4.0                3.899642                0.300477   \n",
       "1                     4.0                3.986667                0.114698   \n",
       "2                     7.0                2.664012                1.617631   \n",
       "3                     4.0                3.970874                0.168160   \n",
       "4                     4.0                3.917323                0.275394   \n",
       "\n",
       "   avg_simultaneity  var_simultaneity  note_density  avg_note_duration  \\\n",
       "0          3.720000          1.020588      6.439026           0.621212   \n",
       "1          3.600000          1.200000      7.394595           0.526316   \n",
       "2          2.331998          1.816512      6.292553           0.371665   \n",
       "3          3.662222          1.112213      8.775758           0.455801   \n",
       "4          3.455782          1.371385      5.195127           0.713614   \n",
       "\n",
       "   var_note_duration  initial_tempo  time_signature_numerator  ...  \\\n",
       "0           0.296121     143.000038                       4.0  ...   \n",
       "1           0.250579     189.176471                       4.0  ...   \n",
       "2           0.686803     181.905446                       4.0  ...   \n",
       "3           0.212811     177.509434                       4.0  ...   \n",
       "4           0.442007     153.000153                       4.0  ...   \n",
       "\n",
       "   perfect_vertical_intervals  vertical_minor_seconds  vertical_thirds  \\\n",
       "0                    0.391195                0.000000         0.327044   \n",
       "1                    0.400447                0.005220         0.307979   \n",
       "2                    0.378734                0.006634         0.291590   \n",
       "3                    0.375205                0.009852         0.312808   \n",
       "4                    0.478439                0.002738         0.309377   \n",
       "\n",
       "   vertical_fifths  vertical_tritones  vertical_octaves  avg_chord_duration  \\\n",
       "0         0.200000           0.045283          0.122013            0.465000   \n",
       "1         0.168531           0.042506          0.123788            0.321429   \n",
       "2         0.120602           0.057594          0.158185            0.177695   \n",
       "3         0.130542           0.030378          0.115764            0.321875   \n",
       "4         0.206023           0.016427          0.140999            0.470370   \n",
       "\n",
       "       length                             file_name  composer  \n",
       "0   29.999992                          042100b_.mid      Bach  \n",
       "1   25.000000                          043100b_.mid      Bach  \n",
       "2  923.701235  Bwv0564-Toccata-Adagio-and-Fugue.mid      Bach  \n",
       "3   22.500000                          027400b_.mid      Bach  \n",
       "4   29.333304                          026400b_.mid      Bach  \n",
       "\n",
       "[5 rows x 33 columns]"
      ]
     },
     "execution_count": 3,
     "metadata": {},
     "output_type": "execute_result"
    }
   ],
   "source": [
    "scalar_features.head()"
   ]
  },
  {
   "cell_type": "code",
   "execution_count": 4,
   "id": "b80c176ddbd29940",
   "metadata": {
    "ExecuteTime": {
     "end_time": "2024-07-18T02:44:07.269877Z",
     "start_time": "2024-07-18T02:44:07.266095Z"
    }
   },
   "outputs": [
    {
     "name": "stdout",
     "output_type": "stream",
     "text": [
      "Piano Roll Shape: (128, 299)\n",
      "Chroma Piano Roll Shape: (12, 299)\n",
      "Pitch Class Histogram Shape: (12,)\n",
      "Pitch Class Transition Matrix Shape: (12, 12)\n"
     ]
    }
   ],
   "source": [
    "print(f\"Piano Roll Shape: {multidimensional_features[0]['piano_roll'].shape}\")\n",
    "print(f\"Chroma Piano Roll Shape: {multidimensional_features[0]['chroma_piano_roll'].shape}\")\n",
    "print(f\"Pitch Class Histogram Shape: {multidimensional_features[0]['pitch_class_histogram'].shape}\")\n",
    "print(f\"Pitch Class Transition Matrix Shape: {multidimensional_features[0]['pitch_class_transition_matrix'].shape}\")"
   ]
  },
  {
   "cell_type": "markdown",
   "id": "8b2f049f",
   "metadata": {},
   "source": [
    "## CNN Example"
   ]
  },
  {
   "cell_type": "markdown",
   "id": "ab0074e8",
   "metadata": {},
   "source": [
    "### Train Val Test Split"
   ]
  },
  {
   "cell_type": "code",
   "execution_count": 5,
   "id": "9bc869cf",
   "metadata": {},
   "outputs": [],
   "source": [
    "# train_split = 0.8  # ratio of all data to use for training\n",
    "# val_test_split = 0.5  # ratio of holdout data to use for test set\n",
    "\n",
    "# x = multidimensional_features\n",
    "# y = scalar_features['composer']\n",
    "\n",
    "# label_encoder = LabelEncoder()\n",
    "# y = label_encoder.fit_transform(y)\n",
    "\n",
    "# x_train, x_holdout, y_train, y_holdout = train_test_split(x, y, test_size=(1 - train_split), random_state=1)\n",
    "# x_val, x_test, y_val, y_test = train_test_split(x_holdout, y_holdout, test_size=val_test_split, random_state=1)"
   ]
  },
  {
   "cell_type": "code",
   "execution_count": 6,
   "id": "9e6aa61a",
   "metadata": {},
   "outputs": [
    {
     "name": "stderr",
     "output_type": "stream",
     "text": [
      "/var/folders/v3/6g8j12qj0yd6zlbh6nr578p80000gn/T/ipykernel_54761/2216297816.py:12: SettingWithCopyWarning: \n",
      "A value is trying to be set on a copy of a slice from a DataFrame\n",
      "\n",
      "See the caveats in the documentation: https://pandas.pydata.org/pandas-docs/stable/user_guide/indexing.html#returning-a-view-versus-a-copy\n",
      "  scalar_val.drop(['composer', 'file_name'], axis=1, inplace=True)\n",
      "/var/folders/v3/6g8j12qj0yd6zlbh6nr578p80000gn/T/ipykernel_54761/2216297816.py:13: SettingWithCopyWarning: \n",
      "A value is trying to be set on a copy of a slice from a DataFrame\n",
      "\n",
      "See the caveats in the documentation: https://pandas.pydata.org/pandas-docs/stable/user_guide/indexing.html#returning-a-view-versus-a-copy\n",
      "  scalar_test.drop(['composer', 'file_name'], axis=1, inplace=True)\n"
     ]
    }
   ],
   "source": [
    "y = scalar_features['composer']\n",
    "label_encoder = LabelEncoder()\n",
    "y = label_encoder.fit_transform(y)\n",
    "\n",
    "scalar_train, scalar_holdout, multidim_train, multidim_holdout, y_train, y_holdout = Sampler.split_data(scalar_features, multidimensional_features, y, test_size=0.2, random_state=1)\n",
    "\n",
    "scalar_val, scalar_test, multidim_val, multidim_test, y_val, y_test = Sampler.split_data(scalar_holdout, multidim_holdout, y_holdout, test_size=0.5, random_state=1)\n",
    "\n",
    "train_composer_files = scalar_train[['composer', 'file_name']]\n",
    "scalar_features = scalar_features.drop('file_name', axis=1)\n",
    "scalar_train.drop(['composer', 'file_name'], axis=1, inplace=True)\n",
    "scalar_val.drop(['composer', 'file_name'], axis=1, inplace=True)\n",
    "scalar_test.drop(['composer', 'file_name'], axis=1, inplace=True)"
   ]
  },
  {
   "cell_type": "code",
   "execution_count": 7,
   "id": "368712ec",
   "metadata": {},
   "outputs": [
    {
     "name": "stdout",
     "output_type": "stream",
     "text": [
      "{'Bach': 815, 'Mozart': 215, 'Beethoven': 176, 'Chopin': 102}\n"
     ]
    },
    {
     "data": {
      "image/png": "[encoded data removed]",
      "text/plain": [
       "<Figure size 640x480 with 1 Axes>"
      ]
     },
     "metadata": {},
     "output_type": "display_data"
    }
   ],
   "source": [
    "def plot_column_distribution(data: pd.DataFrame, column: str) -> None:\n",
    "    print(dict(data[column].value_counts()))\n",
    "    data[column].value_counts().plot(kind='bar')\n",
    "    plt.title(f'{column} Distribution')\n",
    "    plt.xlabel(f'{column}')\n",
    "    plt.ylabel(f'Count')\n",
    "    plt.show()\n",
    "    \n",
    "train_composers = pd.DataFrame(label_encoder.inverse_transform(y_train), columns=['composer'])\n",
    "plot_column_distribution(train_composers, 'composer')"
   ]
  },
  {
   "cell_type": "code",
   "execution_count": 8,
   "id": "cf31fc91",
   "metadata": {},
   "outputs": [
    {
     "name": "stdout",
     "output_type": "stream",
     "text": [
      "{'Mozart': 815, 'Bach': 815, 'Beethoven': 815, 'Chopin': 815}\n"
     ]
    },
    {
     "data": {
      "image/png": "[encoded data removed]",
      "text/plain": [
       "<Figure size 640x480 with 1 Axes>"
      ]
     },
     "metadata": {},
     "output_type": "display_data"
    }
   ],
   "source": [
    "scalar_train, multidim_train, y_train = Sampler.oversample_balance(scalar_train, multidim_train, y_train)\n",
    "train_composers = pd.DataFrame(label_encoder.inverse_transform(y_train), columns=['composer'])\n",
    "plot_column_distribution(train_composers, 'composer')"
   ]
  },
  {
   "cell_type": "code",
   "execution_count": 9,
   "id": "591dbb04",
   "metadata": {},
   "outputs": [
    {
     "name": "stderr",
     "output_type": "stream",
     "text": [
      "Generating Augmented Songs:   1%|          | 1/100 [00:04<07:01,  4.26s/song]/Users/kdevoe/Documents/CS/Masters/AAI511/ms-aai-511-final-project/511_final_env/lib/python3.10/site-packages/pretty_midi/pretty_midi.py:100: RuntimeWarning: Tempo, Key or Time signature change events found on non-zero tracks.  This is not a valid type 0 or type 1 MIDI file.  Tempo, Key or Time Signature may be wrong.\n",
      "  warnings.warn(\n",
      "Generating Augmented Songs:   2%|▏         | 2/100 [00:04<03:28,  2.13s/song]/Users/kdevoe/Documents/CS/Masters/AAI511/ms-aai-511-final-project/511_final_env/lib/python3.10/site-packages/numpy/lib/histograms.py:1124: RuntimeWarning: invalid value encountered in divide\n",
      "  hist /= s\n",
      "Generating Augmented Songs: 100%|██████████| 100/100 [04:58<00:00,  2.98s/song]\n",
      "Generating Augmented Songs: 100%|██████████| 100/100 [01:09<00:00,  1.44song/s]\n",
      "Generating Augmented Songs: 100%|██████████| 100/100 [14:16<00:00,  8.56s/song]\n",
      "Generating Augmented Songs: 100%|██████████| 100/100 [02:25<00:00,  1.45s/song]\n"
     ]
    },
    {
     "ename": "NameError",
     "evalue": "name 'np' is not defined",
     "output_type": "error",
     "traceback": [
      "\u001b[0;31m---------------------------------------------------------------------------\u001b[0m",
      "\u001b[0;31mNameError\u001b[0m                                 Traceback (most recent call last)",
      "Cell \u001b[0;32mIn[9], line 10\u001b[0m\n\u001b[1;32m      7\u001b[0m scalar_train \u001b[38;5;241m=\u001b[39m pd\u001b[38;5;241m.\u001b[39mconcat([scalar_train, mozart_aug_scalars, bach_aug_scalars, beethoven_aug_scalars, chopin_aug_scalars], axis\u001b[38;5;241m=\u001b[39m\u001b[38;5;241m0\u001b[39m)\n\u001b[1;32m      8\u001b[0m multidim_train \u001b[38;5;241m=\u001b[39m multidim_train \u001b[38;5;241m+\u001b[39m mozart_aug_multidim \u001b[38;5;241m+\u001b[39m bach_aug_multidim \u001b[38;5;241m+\u001b[39m beethoven_aug_multidim \u001b[38;5;241m+\u001b[39m chopin_aug_multidim\n\u001b[0;32m---> 10\u001b[0m mozart_aug_y \u001b[38;5;241m=\u001b[39m \u001b[43mnp\u001b[49m\u001b[38;5;241m.\u001b[39mfull(num_augmented_songs, label_encoder\u001b[38;5;241m.\u001b[39mtransform([\u001b[38;5;124m'\u001b[39m\u001b[38;5;124mMozart\u001b[39m\u001b[38;5;124m'\u001b[39m]))\n\u001b[1;32m     11\u001b[0m bach_aug_y \u001b[38;5;241m=\u001b[39m np\u001b[38;5;241m.\u001b[39mfull(num_augmented_songs, label_encoder\u001b[38;5;241m.\u001b[39mtransform([\u001b[38;5;124m'\u001b[39m\u001b[38;5;124mBach\u001b[39m\u001b[38;5;124m'\u001b[39m]))\n\u001b[1;32m     12\u001b[0m beethoven_aug_y \u001b[38;5;241m=\u001b[39m np\u001b[38;5;241m.\u001b[39mfull(num_augmented_songs, label_encoder\u001b[38;5;241m.\u001b[39mtransform([\u001b[38;5;124m'\u001b[39m\u001b[38;5;124mBeethoven\u001b[39m\u001b[38;5;124m'\u001b[39m]))\n",
      "\u001b[0;31mNameError\u001b[0m: name 'np' is not defined"
     ]
    }
   ],
   "source": [
    "num_augmented_songs = 100\n",
    "mozart_aug_scalars, mozart_aug_multidim = DataAugmentor.generate_augmented_songs(data_dir, train_composer_files[train_composer_files['composer'] == 'Mozart'], num_augmented_songs)\n",
    "bach_aug_scalars, bach_aug_multidim = DataAugmentor.generate_augmented_songs(data_dir, train_composer_files[train_composer_files['composer'] == 'Bach'], num_augmented_songs)\n",
    "beethoven_aug_scalars, beethoven_aug_multidim = DataAugmentor.generate_augmented_songs(data_dir, train_composer_files[train_composer_files['composer'] == 'Beethoven'], num_augmented_songs)\n",
    "chopin_aug_scalars, chopin_aug_multidim = DataAugmentor.generate_augmented_songs(data_dir, train_composer_files[train_composer_files['composer'] == 'Chopin'], num_augmented_songs)\n",
    "\n",
    "scalar_train = pd.concat([scalar_train, mozart_aug_scalars, bach_aug_scalars, beethoven_aug_scalars, chopin_aug_scalars], axis=0)\n",
    "multidim_train = multidim_train + mozart_aug_multidim + bach_aug_multidim + beethoven_aug_multidim + chopin_aug_multidim\n",
    "\n",
    "mozart_aug_y = np.full(num_augmented_songs, label_encoder.transform(['Mozart']))\n",
    "bach_aug_y = np.full(num_augmented_songs, label_encoder.transform(['Bach']))\n",
    "beethoven_aug_y = np.full(num_augmented_songs, label_encoder.transform(['Beethoven']))\n",
    "chopin_aug_y = np.full(num_augmented_songs, label_encoder.transform(['Chopin']))\n",
    "y_train = np.hstack((y_train, mozart_aug_y, bach_aug_y, beethoven_aug_y, chopin_aug_y))"
   ]
  },
  {
   "cell_type": "code",
   "execution_count": 10,
   "id": "86c84514",
   "metadata": {},
   "outputs": [],
   "source": [
    "import numpy as np\n",
    "mozart_aug_y = np.full(num_augmented_songs, label_encoder.transform(['Mozart']))\n",
    "bach_aug_y = np.full(num_augmented_songs, label_encoder.transform(['Bach']))\n",
    "beethoven_aug_y = np.full(num_augmented_songs, label_encoder.transform(['Beethoven']))\n",
    "chopin_aug_y = np.full(num_augmented_songs, label_encoder.transform(['Chopin']))\n",
    "y_train = np.hstack((y_train, mozart_aug_y, bach_aug_y, beethoven_aug_y, chopin_aug_y))"
   ]
  },
  {
   "cell_type": "code",
   "execution_count": 11,
   "id": "ad16c694",
   "metadata": {},
   "outputs": [
    {
     "name": "stdout",
     "output_type": "stream",
     "text": [
      "{'Mozart': 915, 'Bach': 915, 'Beethoven': 915, 'Chopin': 915}\n"
     ]
    },
    {
     "data": {
      "image/png": "[encoded data removed]",
      "text/plain": [
       "<Figure size 640x480 with 1 Axes>"
      ]
     },
     "metadata": {},
     "output_type": "display_data"
    }
   ],
   "source": [
    "train_composers = pd.DataFrame(label_encoder.inverse_transform(y_train), columns=['composer'])\n",
    "plot_column_distribution(train_composers, 'composer')"
   ]
  },
  {
   "cell_type": "markdown",
   "id": "ec258f21",
   "metadata": {},
   "source": [
    "### Chunk Into Sequences"
   ]
  },
  {
   "cell_type": "code",
   "execution_count": 12,
   "id": "c06b249a",
   "metadata": {},
   "outputs": [],
   "source": [
    "def chunk_sequences(X_in, y_in, feature, sequence_length=100):\n",
    "    X_out = []\n",
    "    y_out = []\n",
    "\n",
    "    # make sequences split along the time axis\n",
    "    for i in range(len(X_in)):\n",
    "        for j in range(0, len(X_in[i][feature][1]) - sequence_length, sequence_length):\n",
    "            X_out.append(X_in[i][feature][:, j:j + sequence_length])\n",
    "            y_out.append(y_in[i])\n",
    "\n",
    "    return X_out, y_out"
   ]
  },
  {
   "cell_type": "markdown",
   "id": "e9ab6134",
   "metadata": {},
   "source": [
    "### Make Dataloader"
   ]
  },
  {
   "cell_type": "code",
   "execution_count": 13,
   "id": "bcc5b271",
   "metadata": {},
   "outputs": [],
   "source": [
    "class PianoRollDataset(Dataset):\n",
    "    def __init__(self, X, y):\n",
    "        self.X = X\n",
    "        self.y = y\n",
    "\n",
    "    def __len__(self):\n",
    "        return len(self.X)\n",
    "\n",
    "    def __getitem__(self, idx):\n",
    "        X = torch.tensor(self.X[idx], dtype=torch.float32) \n",
    "        y = torch.tensor(self.y[idx], dtype=torch.long)\n",
    "        return X, y"
   ]
  },
  {
   "cell_type": "code",
   "execution_count": 14,
   "id": "48485ed6",
   "metadata": {},
   "outputs": [],
   "source": [
    "def get_dataloaders(use_chroma, seq_length=100, batch_size=8):\n",
    "\n",
    "\n",
    "    # Set random seed for PyTorch\n",
    "    torch.manual_seed(42) \n",
    "    \n",
    "    feature_set = 'chroma_piano_roll' if use_chroma else 'piano_roll'\n",
    "\n",
    "    X_train_seq, y_train_seq = chunk_sequences(multidim_train, y_train, feature_set, seq_length)\n",
    "    X_val_seq, y_val_seq = chunk_sequences(multidim_val, y_val, feature_set, seq_length)\n",
    "    X_test_seq, y_test_seq = chunk_sequences(multidim_test, y_test, feature_set, seq_length)\n",
    "\n",
    "    train_dataset = PianoRollDataset(X_train_seq, y_train_seq)\n",
    "    val_dataset = PianoRollDataset(X_val_seq, y_val_seq)\n",
    "    test_dataset = PianoRollDataset(X_test_seq, y_test_seq)\n",
    "\n",
    "    train_loader = DataLoader(train_dataset, batch_size=batch_size, shuffle=True)\n",
    "    val_loader = DataLoader(val_dataset, batch_size=batch_size, shuffle=False)\n",
    "    test_loader = DataLoader(test_dataset, batch_size=batch_size, shuffle=False)\n",
    "\n",
    "    return train_loader, val_loader, test_loader"
   ]
  },
  {
   "cell_type": "markdown",
   "id": "ec00e3c2",
   "metadata": {},
   "source": [
    "### Define CNN"
   ]
  },
  {
   "cell_type": "code",
   "execution_count": 15,
   "id": "a022e8e7",
   "metadata": {},
   "outputs": [],
   "source": [
    "class PianoRollCNN(nn.Module):\n",
    "    def __init__(self, h_params):\n",
    "        super(PianoRollCNN, self).__init__()\n",
    "        # Conv1d layers: input channels = 12, height = 1, width = 50\n",
    "\n",
    "        input_channels = 12 if h_params['use_chroma'] else 128\n",
    "\n",
    "        self.conv1 = nn.Conv1d(input_channels, h_params['conv1_out_channels'], \n",
    "                               kernel_size=h_params['kernel_size'], stride=h_params['stride'], \n",
    "                               padding=h_params['kernel_size'] // 2)\n",
    "        self.conv2 = nn.Conv1d(h_params['conv1_out_channels'], h_params['conv2_out_channels'], \n",
    "                               kernel_size=h_params['kernel_size'], stride=h_params['stride'],\n",
    "                               padding=h_params['kernel_size'] // 2)\n",
    "        self.pool = nn.MaxPool1d(kernel_size=h_params['pool_kernel_size'], stride=h_params['pool_stride'], padding=0)\n",
    "\n",
    "        def conv_output_size(input_size, kernel_size, stride, padding):\n",
    "            return (input_size - kernel_size + 2 * padding) // stride + 1\n",
    "    \n",
    "        padding = h_params['kernel_size'] // 2  # Assuming same padding\n",
    "\n",
    "        # First conv layer output size\n",
    "        conv1_output_width = conv_output_size(int(h_params['seq_length']), h_params['kernel_size'], h_params['stride'], padding)\n",
    "        # First pooling layer output size\n",
    "        pooled_width = conv_output_size(conv1_output_width, h_params['pool_kernel_size'], h_params['pool_stride'], 0)\n",
    "        # Second conv layer output size\n",
    "        conv2_output_width = conv_output_size(pooled_width, h_params['kernel_size'], h_params['stride'], padding)\n",
    "        # Second pooling layer output size\n",
    "        pooled_width = conv_output_size(conv2_output_width, h_params['pool_kernel_size'], h_params['pool_stride'], 0)\n",
    "\n",
    "        self.fc1 = nn.Linear(h_params['conv2_out_channels'] * pooled_width, h_params['fc1_out'])\n",
    "        self.dropout = nn.Dropout(h_params['dropout'])\n",
    "        self.fc2 = nn.Linear(h_params['fc1_out'], 4)  # Output of 4 classes (composers)\n",
    "\n",
    "    def forward(self, x):\n",
    "        x = x.squeeze(2) # This can potentially be removed if the input is reshaped correctly in the dataloader\n",
    "        x = self.pool(F.relu(self.conv1(x)))\n",
    "        x = self.pool(F.relu(self.conv2(x)))\n",
    "        x = x.view(x.size(0), -1) \n",
    "        x = self.dropout(F.relu(self.fc1(x)))\n",
    "        x = self.fc2(x)\n",
    "        return x"
   ]
  },
  {
   "cell_type": "markdown",
   "id": "e8eb155a",
   "metadata": {},
   "source": [
    "### Define Training Loop"
   ]
  },
  {
   "cell_type": "code",
   "execution_count": 16,
   "id": "ca495a49",
   "metadata": {},
   "outputs": [],
   "source": [
    "def train_cnn(model, train_loader, val_loader, num_epochs, criterion, optimizer):\n",
    "\n",
    "    for epoch in range(num_epochs):\n",
    "        model.train()\n",
    "        running_loss = 0.0\n",
    "        report_interval = 1000\n",
    "        for i, data in enumerate(train_loader):\n",
    "            inputs, labels = data\n",
    "            optimizer.zero_grad()\n",
    "            outputs = model(inputs)\n",
    "            loss = criterion(outputs, labels)\n",
    "            loss.backward()\n",
    "            optimizer.step()\n",
    "            running_loss += loss.item()\n",
    "            if i % report_interval == (report_interval - 1):\n",
    "                print(f'[Epoch {epoch + 1}, Batch {i + 1}] loss: {running_loss / report_interval:.3f}')\n",
    "                running_loss = 0.0  # Reset running loss\n",
    "\n",
    "        # Validation\n",
    "        model.eval()\n",
    "        val_loss = 0.0\n",
    "        correct = 0\n",
    "        total = 0\n",
    "        with torch.no_grad():\n",
    "            for data in val_loader:\n",
    "                inputs, labels = data\n",
    "                outputs = model(inputs)\n",
    "                loss = criterion(outputs, labels)\n",
    "                val_loss += loss.item()\n",
    "                _, predicted = torch.max(outputs.data, 1)\n",
    "                total += labels.size(0)\n",
    "                correct += (predicted == labels).sum().item()\n",
    "        print(f'Validation loss: {val_loss / len(val_loader):.3f}, Accuracy: {100 * correct / total:.2f}%')\n"
   ]
  },
  {
   "cell_type": "markdown",
   "id": "d097bcee",
   "metadata": {},
   "source": [
    "### Evaluate Performance"
   ]
  },
  {
   "cell_type": "code",
   "execution_count": 17,
   "id": "08982092",
   "metadata": {},
   "outputs": [],
   "source": [
    "def evaluate_performance(model, data_loader):\n",
    "    model.eval()\n",
    "\n",
    "    all_labels = []\n",
    "    all_predictions = []\n",
    "\n",
    "    # Disable gradient computation for evaluation\n",
    "    with torch.no_grad():\n",
    "        for data in data_loader:\n",
    "            inputs, labels = data\n",
    "            outputs = model(inputs)\n",
    "            _, predicted = torch.max(outputs.data, 1)\n",
    "\n",
    "            # Store true and predicted labels\n",
    "            all_labels.extend(labels.numpy())\n",
    "            all_predictions.extend(predicted.numpy())\n",
    "\n",
    "    # Compute the classification report\n",
    "    report = classification_report(all_labels, all_predictions, target_names=label_encoder.classes_)\n",
    "    print(report)\n",
    "\n",
    "    return report, all_labels, all_predictions"
   ]
  },
  {
   "cell_type": "markdown",
   "id": "76afcd7e",
   "metadata": {},
   "source": [
    "### Define Training Run"
   ]
  },
  {
   "cell_type": "code",
   "execution_count": 18,
   "id": "f235ed85",
   "metadata": {},
   "outputs": [],
   "source": [
    "def training_run(h_params):\n",
    "\n",
    "    seq_length = int(h_params['seq_length'])\n",
    "    batch_size = int(h_params['batch_size'])\n",
    "\n",
    "    train_loader, val_loader, test_loader = get_dataloaders(h_params['use_chroma'], seq_length, batch_size)\n",
    "\n",
    "    model = PianoRollCNN(h_params)\n",
    "\n",
    "    criterion = nn.CrossEntropyLoss()\n",
    "    optimizer = torch.optim.Adam(model.parameters(), lr=h_params['lr'])\n",
    "    train_cnn(model, train_loader, val_loader, h_params['num_epochs'], criterion, optimizer)\n",
    "\n",
    "    # TODO: Add model save \n",
    "    ###### Save results #####\n",
    "    return model, test_loader"
   ]
  },
  {
   "cell_type": "markdown",
   "id": "e52a3fdc",
   "metadata": {},
   "source": [
    "### Process All Hyperparameter Sets"
   ]
  },
  {
   "cell_type": "code",
   "execution_count": 19,
   "id": "eadeb994",
   "metadata": {},
   "outputs": [],
   "source": [
    "# Function to process the file and train models\n",
    "def process_file(file_path):\n",
    "    infile = pd.read_csv(file_path)\n",
    "\n",
    "    outputs = ['accuracy', 'bach_f1', 'beethoven_f1', 'chopin_f1', 'mozart_f1']\n",
    "    floating_point_columns = ['lr']\n",
    "\n",
    "    for index, row in infile.iterrows():\n",
    "\n",
    "        # Check that the row has not been processed\n",
    "        if not pd.isnull(row['accuracy']):\n",
    "            continue\n",
    "\n",
    "        # Create hyperparameter dictionary dynamically\n",
    "        hyperparams = {col: row[col] for col in infile.columns if col not in outputs}\n",
    "        # Convert int columns to int\n",
    "        for col in infile.columns:\n",
    "            if col not in floating_point_columns and col not in outputs:\n",
    "                hyperparams[col] = int(hyperparams[col])\n",
    "            elif col in floating_point_columns:\n",
    "                hyperparams[col] = float(hyperparams[col])\n",
    "\n",
    "        # Train model\n",
    "        model, test_loader = training_run(hyperparams)\n",
    "\n",
    "        # Evaluate performance\n",
    "        report, all_labels, all_predictions = evaluate_performance(model, test_loader)\n",
    "\n",
    "        # Write accuracy to data then save\n",
    "        infile.at[index, 'accuracy'] = float(report.split('\\n')[7].split()[1])\n",
    "        infile.at[index, 'bach_f1'] = float(report.split('\\n')[2].split()[3])\n",
    "        infile.at[index, 'beethoven_f1'] = float(report.split('\\n')[3].split()[3])\n",
    "        infile.at[index, 'chopin_f1'] = float(report.split('\\n')[4].split()[3])\n",
    "        infile.at[index, 'mozart_f1'] = float(report.split('\\n')[5].split()[3])\n",
    "        infile.to_csv(file_path, index=False)\n"
   ]
  },
  {
   "cell_type": "code",
   "execution_count": 20,
   "id": "a75daa2f",
   "metadata": {},
   "outputs": [],
   "source": [
    "#process_file('cnn_optimization.csv')"
   ]
  },
  {
   "cell_type": "markdown",
   "id": "3b35cd3d",
   "metadata": {},
   "source": [
    "## Single Training Run"
   ]
  },
  {
   "cell_type": "code",
   "execution_count": 21,
   "id": "415499ee",
   "metadata": {},
   "outputs": [
    {
     "name": "stdout",
     "output_type": "stream",
     "text": [
      "[Epoch 1, Batch 1000] loss: 1.032\n",
      "[Epoch 1, Batch 2000] loss: 0.800\n",
      "[Epoch 1, Batch 3000] loss: 0.684\n",
      "Validation loss: 0.950, Accuracy: 63.40%\n",
      "[Epoch 2, Batch 1000] loss: 0.552\n",
      "[Epoch 2, Batch 2000] loss: 0.511\n",
      "[Epoch 2, Batch 3000] loss: 0.483\n",
      "Validation loss: 0.993, Accuracy: 67.35%\n",
      "[Epoch 3, Batch 1000] loss: 0.385\n",
      "[Epoch 3, Batch 2000] loss: 0.379\n",
      "[Epoch 3, Batch 3000] loss: 0.372\n",
      "Validation loss: 1.148, Accuracy: 67.60%\n",
      "              precision    recall  f1-score   support\n",
      "\n",
      "        Bach       0.89      0.82      0.85      1619\n",
      "   Beethoven       0.63      0.64      0.63       901\n",
      "      Chopin       0.76      0.55      0.64       518\n",
      "      Mozart       0.39      0.60      0.47       481\n",
      "\n",
      "    accuracy                           0.70      3519\n",
      "   macro avg       0.67      0.65      0.65      3519\n",
      "weighted avg       0.74      0.70      0.71      3519\n",
      "\n"
     ]
    }
   ],
   "source": [
    "test_params = {}\n",
    "test_params['use_chroma'] = False\n",
    "test_params['seq_length'] = 100\n",
    "test_params['batch_size'] = 32\n",
    "test_params['lr'] = 0.0006\n",
    "test_params['num_epochs'] = 3\n",
    "\n",
    "test_params['conv1_out_channels'] = 32\n",
    "test_params['conv2_out_channels'] = 105\n",
    "test_params['kernel_size'] = 5\n",
    "test_params['stride'] = 1\n",
    "\n",
    "test_params['pool_kernel_size'] = 2\n",
    "test_params['pool_stride'] = 2\n",
    "\n",
    "test_params['dropout'] = 0.35\n",
    "test_params['fc1_out'] = 166\n",
    "\n",
    "model, test_dataloader = training_run(test_params)\n",
    "\n",
    "report, _, _ = evaluate_performance(model, test_dataloader)"
   ]
  },
  {
   "cell_type": "markdown",
   "id": "be5a0418",
   "metadata": {},
   "source": [
    "## Use CNN Predictions and Scalar Features for Classification"
   ]
  },
  {
   "cell_type": "markdown",
   "id": "8a151464",
   "metadata": {},
   "source": [
    "Given a single input track make a prediction for each composer using the CNN classifier."
   ]
  },
  {
   "cell_type": "code",
   "execution_count": 22,
   "id": "99a1d98c",
   "metadata": {},
   "outputs": [],
   "source": [
    "def get_prediction(X_in, feature, sequence_length=100):\n",
    "    X_sequences = []\n",
    "\n",
    "    # make sequences split along the time axis\n",
    "    for j in range(0, len(X_in[feature][1]) - sequence_length, sequence_length):\n",
    "        X_sequences.append(X_in[feature][:, j:j + sequence_length])\n",
    "    \n",
    "    predictions = []\n",
    "\n",
    "    for i in range(len(X_sequences)):\n",
    "        inputs = torch.tensor(X_sequences[i], dtype=torch.float32)\n",
    "        outputs = model(inputs.unsqueeze(0))\n",
    "        predictions.append(outputs.tolist())\n",
    "\n",
    "    # Average the prediction values across the sequences\n",
    "    predictions = torch.tensor(predictions).mean(dim=0)\n",
    "\n",
    "    return predictions.tolist()[0]"
   ]
  },
  {
   "cell_type": "markdown",
   "id": "a6dae5d6",
   "metadata": {},
   "source": [
    "### Add CNN Outputs to Scalar Features"
   ]
  },
  {
   "cell_type": "code",
   "execution_count": 23,
   "id": "01cbf3e5",
   "metadata": {},
   "outputs": [],
   "source": [
    "def add_cnn_predictions(multidimensional_features, scalar_features, feature, sequence_length=100):\n",
    "\n",
    "    # Use the index list of scalar_features to add cnn predictions to correct rows\n",
    "    index_list = scalar_features.index.tolist()\n",
    "\n",
    "    for i, md_row in enumerate(multidimensional_features):\n",
    "        predictions = get_prediction(md_row, feature, sequence_length)\n",
    "        for idx, prediction in enumerate(predictions):\n",
    "            column = \"composer_\" + str(idx)\n",
    "            scalar_features.loc[index_list[i], column] = prediction"
   ]
  },
  {
   "cell_type": "code",
   "execution_count": 24,
   "id": "596cc4c7",
   "metadata": {},
   "outputs": [
    {
     "name": "stdout",
     "output_type": "stream",
     "text": [
      "(3660, 31)\n",
      "(3660, 35)\n",
      "   max_independent_voices  avg_independent_voices  var_independent_voices  \\\n",
      "0                     6.0                2.225166                1.031937   \n",
      "1                     3.0                2.489837                0.725479   \n",
      "2                    14.0                5.139327                2.394760   \n",
      "3                     9.0                4.514092                2.177593   \n",
      "4                    13.0                3.700505                2.075602   \n",
      "\n",
      "   avg_simultaneity  var_simultaneity  note_density  avg_note_duration  \\\n",
      "0          2.128419          1.106576      9.177566           0.231632   \n",
      "1          1.734266          1.310800      3.580423           0.482421   \n",
      "2          8.389987          5.517377     35.148601           0.238669   \n",
      "3          5.153484          3.577695     20.200832           0.255885   \n",
      "4          3.543605          2.168105     12.912807           0.275690   \n",
      "\n",
      "   var_note_duration  initial_tempo  time_signature_numerator  ...  \\\n",
      "0           0.210104     173.690324                       4.0  ...   \n",
      "1           0.479643     183.272911                       4.0  ...   \n",
      "2           0.396785     229.670316                       2.0  ...   \n",
      "3           0.348575     180.090135                       3.0  ...   \n",
      "4           0.309889     177.258477                       4.0  ...   \n",
      "\n",
      "   vertical_thirds  vertical_fifths  vertical_tritones  vertical_octaves  \\\n",
      "0         0.296332         0.116087           0.057964          0.140384   \n",
      "1         0.339731         0.099328           0.068618          0.095489   \n",
      "2         0.259383         0.107723           0.030876          0.249193   \n",
      "3         0.244741         0.101278           0.045933          0.265669   \n",
      "4         0.229597         0.128066           0.039208          0.203434   \n",
      "\n",
      "   avg_chord_duration      length  composer_0  composer_1  composer_2  \\\n",
      "0            0.169419  347.463971   -4.983027    4.002615    3.952202   \n",
      "1            0.287719  142.999857   -4.551961    3.622590    4.910399   \n",
      "2            0.154714  304.218882   -4.082229    1.873062    4.879513   \n",
      "3            0.161861  403.282579   -2.615863    1.339962    3.308723   \n",
      "4            0.137259  394.520564   -2.434970    0.549932    2.196428   \n",
      "\n",
      "   composer_3  \n",
      "0   -6.318420  \n",
      "1   -2.724869  \n",
      "2   -3.255293  \n",
      "3   -2.361002  \n",
      "4   -2.700281  \n",
      "\n",
      "[5 rows x 35 columns]\n"
     ]
    }
   ],
   "source": [
    "cnn_scalar_train = scalar_train.copy()\n",
    "\n",
    "print(cnn_scalar_train.shape)\n",
    "\n",
    "add_cnn_predictions(multidim_train, cnn_scalar_train, 'piano_roll', 100)\n",
    "\n",
    "print(cnn_scalar_train.shape)\n",
    "\n",
    "cnn_scalar_test = scalar_test.copy()\n",
    "\n",
    "add_cnn_predictions(multidim_test, cnn_scalar_test, 'piano_roll', 100)\n",
    "\n",
    "print(cnn_scalar_train.head())"
   ]
  },
  {
   "cell_type": "markdown",
   "id": "0c59c1f1",
   "metadata": {},
   "source": [
    "### Run Classifier Using CNN Predictions and Scalar Features"
   ]
  },
  {
   "cell_type": "code",
   "execution_count": 25,
   "id": "d26cf00b",
   "metadata": {},
   "outputs": [
    {
     "name": "stdout",
     "output_type": "stream",
     "text": [
      "(3660, 31)\n",
      "(3660, 35)\n",
      "(3660,)\n"
     ]
    },
    {
     "data": {
      "text/html": [
       "<style>#sk-container-id-1 {\n",
       "  /* Definition of color scheme common for light and dark mode */\n",
       "  --sklearn-color-text: black;\n",
       "  --sklearn-color-line: gray;\n",
       "  /* Definition of color scheme for unfitted estimators */\n",
       "  --sklearn-color-unfitted-level-0: #fff5e6;\n",
       "  --sklearn-color-unfitted-level-1: #f6e4d2;\n",
       "  --sklearn-color-unfitted-level-2: #ffe0b3;\n",
       "  --sklearn-color-unfitted-level-3: chocolate;\n",
       "  /* Definition of color scheme for fitted estimators */\n",
       "  --sklearn-color-fitted-level-0: #f0f8ff;\n",
       "  --sklearn-color-fitted-level-1: #d4ebff;\n",
       "  --sklearn-color-fitted-level-2: #b3dbfd;\n",
       "  --sklearn-color-fitted-level-3: cornflowerblue;\n",
       "\n",
       "  /* Specific color for light theme */\n",
       "  --sklearn-color-text-on-default-background: var(--sg-text-color, var(--theme-code-foreground, var(--jp-content-font-color1, black)));\n",
       "  --sklearn-color-background: var(--sg-background-color, var(--theme-background, var(--jp-layout-color0, white)));\n",
       "  --sklearn-color-border-box: var(--sg-text-color, var(--theme-code-foreground, var(--jp-content-font-color1, black)));\n",
       "  --sklearn-color-icon: #696969;\n",
       "\n",
       "  @media (prefers-color-scheme: dark) {\n",
       "    /* Redefinition of color scheme for dark theme */\n",
       "    --sklearn-color-text-on-default-background: var(--sg-text-color, var(--theme-code-foreground, var(--jp-content-font-color1, white)));\n",
       "    --sklearn-color-background: var(--sg-background-color, var(--theme-background, var(--jp-layout-color0, #111)));\n",
       "    --sklearn-color-border-box: var(--sg-text-color, var(--theme-code-foreground, var(--jp-content-font-color1, white)));\n",
       "    --sklearn-color-icon: #878787;\n",
       "  }\n",
       "}\n",
       "\n",
       "#sk-container-id-1 {\n",
       "  color: var(--sklearn-color-text);\n",
       "}\n",
       "\n",
       "#sk-container-id-1 pre {\n",
       "  padding: 0;\n",
       "}\n",
       "\n",
       "#sk-container-id-1 input.sk-hidden--visually {\n",
       "  border: 0;\n",
       "  clip: rect(1px 1px 1px 1px);\n",
       "  clip: rect(1px, 1px, 1px, 1px);\n",
       "  height: 1px;\n",
       "  margin: -1px;\n",
       "  overflow: hidden;\n",
       "  padding: 0;\n",
       "  position: absolute;\n",
       "  width: 1px;\n",
       "}\n",
       "\n",
       "#sk-container-id-1 div.sk-dashed-wrapped {\n",
       "  border: 1px dashed var(--sklearn-color-line);\n",
       "  margin: 0 0.4em 0.5em 0.4em;\n",
       "  box-sizing: border-box;\n",
       "  padding-bottom: 0.4em;\n",
       "  background-color: var(--sklearn-color-background);\n",
       "}\n",
       "\n",
       "#sk-container-id-1 div.sk-container {\n",
       "  /* jupyter's `normalize.less` sets `[hidden] { display: none; }`\n",
       "     but bootstrap.min.css set `[hidden] { display: none !important; }`\n",
       "     so we also need the `!important` here to be able to override the\n",
       "     default hidden behavior on the sphinx rendered scikit-learn.org.\n",
       "     See: https://github.com/scikit-learn/scikit-learn/issues/21755 */\n",
       "  display: inline-block !important;\n",
       "  position: relative;\n",
       "}\n",
       "\n",
       "#sk-container-id-1 div.sk-text-repr-fallback {\n",
       "  display: none;\n",
       "}\n",
       "\n",
       "div.sk-parallel-item,\n",
       "div.sk-serial,\n",
       "div.sk-item {\n",
       "  /* draw centered vertical line to link estimators */\n",
       "  background-image: linear-gradient(var(--sklearn-color-text-on-default-background), var(--sklearn-color-text-on-default-background));\n",
       "  background-size: 2px 100%;\n",
       "  background-repeat: no-repeat;\n",
       "  background-position: center center;\n",
       "}\n",
       "\n",
       "/* Parallel-specific style estimator block */\n",
       "\n",
       "#sk-container-id-1 div.sk-parallel-item::after {\n",
       "  content: \"\";\n",
       "  width: 100%;\n",
       "  border-bottom: 2px solid var(--sklearn-color-text-on-default-background);\n",
       "  flex-grow: 1;\n",
       "}\n",
       "\n",
       "#sk-container-id-1 div.sk-parallel {\n",
       "  display: flex;\n",
       "  align-items: stretch;\n",
       "  justify-content: center;\n",
       "  background-color: var(--sklearn-color-background);\n",
       "  position: relative;\n",
       "}\n",
       "\n",
       "#sk-container-id-1 div.sk-parallel-item {\n",
       "  display: flex;\n",
       "  flex-direction: column;\n",
       "}\n",
       "\n",
       "#sk-container-id-1 div.sk-parallel-item:first-child::after {\n",
       "  align-self: flex-end;\n",
       "  width: 50%;\n",
       "}\n",
       "\n",
       "#sk-container-id-1 div.sk-parallel-item:last-child::after {\n",
       "  align-self: flex-start;\n",
       "  width: 50%;\n",
       "}\n",
       "\n",
       "#sk-container-id-1 div.sk-parallel-item:only-child::after {\n",
       "  width: 0;\n",
       "}\n",
       "\n",
       "/* Serial-specific style estimator block */\n",
       "\n",
       "#sk-container-id-1 div.sk-serial {\n",
       "  display: flex;\n",
       "  flex-direction: column;\n",
       "  align-items: center;\n",
       "  background-color: var(--sklearn-color-background);\n",
       "  padding-right: 1em;\n",
       "  padding-left: 1em;\n",
       "}\n",
       "\n",
       "\n",
       "/* Toggleable style: style used for estimator/Pipeline/ColumnTransformer box that is\n",
       "clickable and can be expanded/collapsed.\n",
       "- Pipeline and ColumnTransformer use this feature and define the default style\n",
       "- Estimators will overwrite some part of the style using the `sk-estimator` class\n",
       "*/\n",
       "\n",
       "/* Pipeline and ColumnTransformer style (default) */\n",
       "\n",
       "#sk-container-id-1 div.sk-toggleable {\n",
       "  /* Default theme specific background. It is overwritten whether we have a\n",
       "  specific estimator or a Pipeline/ColumnTransformer */\n",
       "  background-color: var(--sklearn-color-background);\n",
       "}\n",
       "\n",
       "/* Toggleable label */\n",
       "#sk-container-id-1 label.sk-toggleable__label {\n",
       "  cursor: pointer;\n",
       "  display: block;\n",
       "  width: 100%;\n",
       "  margin-bottom: 0;\n",
       "  padding: 0.5em;\n",
       "  box-sizing: border-box;\n",
       "  text-align: center;\n",
       "}\n",
       "\n",
       "#sk-container-id-1 label.sk-toggleable__label-arrow:before {\n",
       "  /* Arrow on the left of the label */\n",
       "  content: \"▸\";\n",
       "  float: left;\n",
       "  margin-right: 0.25em;\n",
       "  color: var(--sklearn-color-icon);\n",
       "}\n",
       "\n",
       "#sk-container-id-1 label.sk-toggleable__label-arrow:hover:before {\n",
       "  color: var(--sklearn-color-text);\n",
       "}\n",
       "\n",
       "/* Toggleable content - dropdown */\n",
       "\n",
       "#sk-container-id-1 div.sk-toggleable__content {\n",
       "  max-height: 0;\n",
       "  max-width: 0;\n",
       "  overflow: hidden;\n",
       "  text-align: left;\n",
       "  /* unfitted */\n",
       "  background-color: var(--sklearn-color-unfitted-level-0);\n",
       "}\n",
       "\n",
       "#sk-container-id-1 div.sk-toggleable__content.fitted {\n",
       "  /* fitted */\n",
       "  background-color: var(--sklearn-color-fitted-level-0);\n",
       "}\n",
       "\n",
       "#sk-container-id-1 div.sk-toggleable__content pre {\n",
       "  margin: 0.2em;\n",
       "  border-radius: 0.25em;\n",
       "  color: var(--sklearn-color-text);\n",
       "  /* unfitted */\n",
       "  background-color: var(--sklearn-color-unfitted-level-0);\n",
       "}\n",
       "\n",
       "#sk-container-id-1 div.sk-toggleable__content.fitted pre {\n",
       "  /* unfitted */\n",
       "  background-color: var(--sklearn-color-fitted-level-0);\n",
       "}\n",
       "\n",
       "#sk-container-id-1 input.sk-toggleable__control:checked~div.sk-toggleable__content {\n",
       "  /* Expand drop-down */\n",
       "  max-height: 200px;\n",
       "  max-width: 100%;\n",
       "  overflow: auto;\n",
       "}\n",
       "\n",
       "#sk-container-id-1 input.sk-toggleable__control:checked~label.sk-toggleable__label-arrow:before {\n",
       "  content: \"▾\";\n",
       "}\n",
       "\n",
       "/* Pipeline/ColumnTransformer-specific style */\n",
       "\n",
       "#sk-container-id-1 div.sk-label input.sk-toggleable__control:checked~label.sk-toggleable__label {\n",
       "  color: var(--sklearn-color-text);\n",
       "  background-color: var(--sklearn-color-unfitted-level-2);\n",
       "}\n",
       "\n",
       "#sk-container-id-1 div.sk-label.fitted input.sk-toggleable__control:checked~label.sk-toggleable__label {\n",
       "  background-color: var(--sklearn-color-fitted-level-2);\n",
       "}\n",
       "\n",
       "/* Estimator-specific style */\n",
       "\n",
       "/* Colorize estimator box */\n",
       "#sk-container-id-1 div.sk-estimator input.sk-toggleable__control:checked~label.sk-toggleable__label {\n",
       "  /* unfitted */\n",
       "  background-color: var(--sklearn-color-unfitted-level-2);\n",
       "}\n",
       "\n",
       "#sk-container-id-1 div.sk-estimator.fitted input.sk-toggleable__control:checked~label.sk-toggleable__label {\n",
       "  /* fitted */\n",
       "  background-color: var(--sklearn-color-fitted-level-2);\n",
       "}\n",
       "\n",
       "#sk-container-id-1 div.sk-label label.sk-toggleable__label,\n",
       "#sk-container-id-1 div.sk-label label {\n",
       "  /* The background is the default theme color */\n",
       "  color: var(--sklearn-color-text-on-default-background);\n",
       "}\n",
       "\n",
       "/* On hover, darken the color of the background */\n",
       "#sk-container-id-1 div.sk-label:hover label.sk-toggleable__label {\n",
       "  color: var(--sklearn-color-text);\n",
       "  background-color: var(--sklearn-color-unfitted-level-2);\n",
       "}\n",
       "\n",
       "/* Label box, darken color on hover, fitted */\n",
       "#sk-container-id-1 div.sk-label.fitted:hover label.sk-toggleable__label.fitted {\n",
       "  color: var(--sklearn-color-text);\n",
       "  background-color: var(--sklearn-color-fitted-level-2);\n",
       "}\n",
       "\n",
       "/* Estimator label */\n",
       "\n",
       "#sk-container-id-1 div.sk-label label {\n",
       "  font-family: monospace;\n",
       "  font-weight: bold;\n",
       "  display: inline-block;\n",
       "  line-height: 1.2em;\n",
       "}\n",
       "\n",
       "#sk-container-id-1 div.sk-label-container {\n",
       "  text-align: center;\n",
       "}\n",
       "\n",
       "/* Estimator-specific */\n",
       "#sk-container-id-1 div.sk-estimator {\n",
       "  font-family: monospace;\n",
       "  border: 1px dotted var(--sklearn-color-border-box);\n",
       "  border-radius: 0.25em;\n",
       "  box-sizing: border-box;\n",
       "  margin-bottom: 0.5em;\n",
       "  /* unfitted */\n",
       "  background-color: var(--sklearn-color-unfitted-level-0);\n",
       "}\n",
       "\n",
       "#sk-container-id-1 div.sk-estimator.fitted {\n",
       "  /* fitted */\n",
       "  background-color: var(--sklearn-color-fitted-level-0);\n",
       "}\n",
       "\n",
       "/* on hover */\n",
       "#sk-container-id-1 div.sk-estimator:hover {\n",
       "  /* unfitted */\n",
       "  background-color: var(--sklearn-color-unfitted-level-2);\n",
       "}\n",
       "\n",
       "#sk-container-id-1 div.sk-estimator.fitted:hover {\n",
       "  /* fitted */\n",
       "  background-color: var(--sklearn-color-fitted-level-2);\n",
       "}\n",
       "\n",
       "/* Specification for estimator info (e.g. \"i\" and \"?\") */\n",
       "\n",
       "/* Common style for \"i\" and \"?\" */\n",
       "\n",
       ".sk-estimator-doc-link,\n",
       "a:link.sk-estimator-doc-link,\n",
       "a:visited.sk-estimator-doc-link {\n",
       "  float: right;\n",
       "  font-size: smaller;\n",
       "  line-height: 1em;\n",
       "  font-family: monospace;\n",
       "  background-color: var(--sklearn-color-background);\n",
       "  border-radius: 1em;\n",
       "  height: 1em;\n",
       "  width: 1em;\n",
       "  text-decoration: none !important;\n",
       "  margin-left: 1ex;\n",
       "  /* unfitted */\n",
       "  border: var(--sklearn-color-unfitted-level-1) 1pt solid;\n",
       "  color: var(--sklearn-color-unfitted-level-1);\n",
       "}\n",
       "\n",
       ".sk-estimator-doc-link.fitted,\n",
       "a:link.sk-estimator-doc-link.fitted,\n",
       "a:visited.sk-estimator-doc-link.fitted {\n",
       "  /* fitted */\n",
       "  border: var(--sklearn-color-fitted-level-1) 1pt solid;\n",
       "  color: var(--sklearn-color-fitted-level-1);\n",
       "}\n",
       "\n",
       "/* On hover */\n",
       "div.sk-estimator:hover .sk-estimator-doc-link:hover,\n",
       ".sk-estimator-doc-link:hover,\n",
       "div.sk-label-container:hover .sk-estimator-doc-link:hover,\n",
       ".sk-estimator-doc-link:hover {\n",
       "  /* unfitted */\n",
       "  background-color: var(--sklearn-color-unfitted-level-3);\n",
       "  color: var(--sklearn-color-background);\n",
       "  text-decoration: none;\n",
       "}\n",
       "\n",
       "div.sk-estimator.fitted:hover .sk-estimator-doc-link.fitted:hover,\n",
       ".sk-estimator-doc-link.fitted:hover,\n",
       "div.sk-label-container:hover .sk-estimator-doc-link.fitted:hover,\n",
       ".sk-estimator-doc-link.fitted:hover {\n",
       "  /* fitted */\n",
       "  background-color: var(--sklearn-color-fitted-level-3);\n",
       "  color: var(--sklearn-color-background);\n",
       "  text-decoration: none;\n",
       "}\n",
       "\n",
       "/* Span, style for the box shown on hovering the info icon */\n",
       ".sk-estimator-doc-link span {\n",
       "  display: none;\n",
       "  z-index: 9999;\n",
       "  position: relative;\n",
       "  font-weight: normal;\n",
       "  right: .2ex;\n",
       "  padding: .5ex;\n",
       "  margin: .5ex;\n",
       "  width: min-content;\n",
       "  min-width: 20ex;\n",
       "  max-width: 50ex;\n",
       "  color: var(--sklearn-color-text);\n",
       "  box-shadow: 2pt 2pt 4pt #999;\n",
       "  /* unfitted */\n",
       "  background: var(--sklearn-color-unfitted-level-0);\n",
       "  border: .5pt solid var(--sklearn-color-unfitted-level-3);\n",
       "}\n",
       "\n",
       ".sk-estimator-doc-link.fitted span {\n",
       "  /* fitted */\n",
       "  background: var(--sklearn-color-fitted-level-0);\n",
       "  border: var(--sklearn-color-fitted-level-3);\n",
       "}\n",
       "\n",
       ".sk-estimator-doc-link:hover span {\n",
       "  display: block;\n",
       "}\n",
       "\n",
       "/* \"?\"-specific style due to the `<a>` HTML tag */\n",
       "\n",
       "#sk-container-id-1 a.estimator_doc_link {\n",
       "  float: right;\n",
       "  font-size: 1rem;\n",
       "  line-height: 1em;\n",
       "  font-family: monospace;\n",
       "  background-color: var(--sklearn-color-background);\n",
       "  border-radius: 1rem;\n",
       "  height: 1rem;\n",
       "  width: 1rem;\n",
       "  text-decoration: none;\n",
       "  /* unfitted */\n",
       "  color: var(--sklearn-color-unfitted-level-1);\n",
       "  border: var(--sklearn-color-unfitted-level-1) 1pt solid;\n",
       "}\n",
       "\n",
       "#sk-container-id-1 a.estimator_doc_link.fitted {\n",
       "  /* fitted */\n",
       "  border: var(--sklearn-color-fitted-level-1) 1pt solid;\n",
       "  color: var(--sklearn-color-fitted-level-1);\n",
       "}\n",
       "\n",
       "/* On hover */\n",
       "#sk-container-id-1 a.estimator_doc_link:hover {\n",
       "  /* unfitted */\n",
       "  background-color: var(--sklearn-color-unfitted-level-3);\n",
       "  color: var(--sklearn-color-background);\n",
       "  text-decoration: none;\n",
       "}\n",
       "\n",
       "#sk-container-id-1 a.estimator_doc_link.fitted:hover {\n",
       "  /* fitted */\n",
       "  background-color: var(--sklearn-color-fitted-level-3);\n",
       "}\n",
       "</style><div id=\"sk-container-id-1\" class=\"sk-top-container\"><div class=\"sk-text-repr-fallback\"><pre>HistGradientBoostingClassifier(random_state=1)</pre><b>In a Jupyter environment, please rerun this cell to show the HTML representation or trust the notebook. <br />On GitHub, the HTML representation is unable to render, please try loading this page with nbviewer.org.</b></div><div class=\"sk-container\" hidden><div class=\"sk-item\"><div class=\"sk-estimator fitted sk-toggleable\"><input class=\"sk-toggleable__control sk-hidden--visually\" id=\"sk-estimator-id-1\" type=\"checkbox\" checked><label for=\"sk-estimator-id-1\" class=\"sk-toggleable__label fitted sk-toggleable__label-arrow fitted\">&nbsp;&nbsp;HistGradientBoostingClassifier<a class=\"sk-estimator-doc-link fitted\" rel=\"noreferrer\" target=\"_blank\" href=\"https://scikit-learn.org/1.5/modules/generated/sklearn.ensemble.HistGradientBoostingClassifier.html\">?<span>Documentation for HistGradientBoostingClassifier</span></a><span class=\"sk-estimator-doc-link fitted\">i<span>Fitted</span></span></label><div class=\"sk-toggleable__content fitted\"><pre>HistGradientBoostingClassifier(random_state=1)</pre></div> </div></div></div></div>"
      ],
      "text/plain": [
       "HistGradientBoostingClassifier(random_state=1)"
      ]
     },
     "execution_count": 25,
     "metadata": {},
     "output_type": "execute_result"
    }
   ],
   "source": [
    "classifier = HistGradientBoostingClassifier(random_state=1)\n",
    "print(scalar_train.shape)\n",
    "print(cnn_scalar_train.shape)\n",
    "print(y_train.shape)\n",
    "classifier.fit(cnn_scalar_train, y_train)"
   ]
  },
  {
   "cell_type": "code",
   "execution_count": 26,
   "id": "3a99ef30",
   "metadata": {},
   "outputs": [],
   "source": [
    "cnn_scalar_test = scalar_test.copy()\n",
    "\n",
    "add_cnn_predictions(multidim_test, cnn_scalar_test, 'piano_roll', 100)"
   ]
  },
  {
   "cell_type": "code",
   "execution_count": 27,
   "id": "f4e4cd93",
   "metadata": {},
   "outputs": [
    {
     "name": "stdout",
     "output_type": "stream",
     "text": [
      "Classification Report:\n",
      "              precision    recall  f1-score   support\n",
      "\n",
      "        Bach       0.92      0.98      0.95       101\n",
      "   Beethoven       0.83      0.68      0.75        22\n",
      "      Chopin       1.00      0.73      0.84        22\n",
      "      Mozart       0.73      0.84      0.78        19\n",
      "\n",
      "    accuracy                           0.89       164\n",
      "   macro avg       0.87      0.81      0.83       164\n",
      "weighted avg       0.89      0.89      0.89       164\n",
      "\n"
     ]
    }
   ],
   "source": [
    "y_pred = classifier.predict(cnn_scalar_test)\n",
    "print(\"Classification Report:\")\n",
    "print(classification_report(y_test, y_pred, target_names=label_encoder.classes_))"
   ]
  },
  {
   "cell_type": "markdown",
   "id": "adfab0b2",
   "metadata": {},
   "source": [
    "### Classifier with No CNN Inputs (Baseline)"
   ]
  },
  {
   "cell_type": "code",
   "execution_count": 31,
   "id": "199c176d",
   "metadata": {},
   "outputs": [
    {
     "data": {
      "text/html": [
       "<style>#sk-container-id-2 {\n",
       "  /* Definition of color scheme common for light and dark mode */\n",
       "  --sklearn-color-text: black;\n",
       "  --sklearn-color-line: gray;\n",
       "  /* Definition of color scheme for unfitted estimators */\n",
       "  --sklearn-color-unfitted-level-0: #fff5e6;\n",
       "  --sklearn-color-unfitted-level-1: #f6e4d2;\n",
       "  --sklearn-color-unfitted-level-2: #ffe0b3;\n",
       "  --sklearn-color-unfitted-level-3: chocolate;\n",
       "  /* Definition of color scheme for fitted estimators */\n",
       "  --sklearn-color-fitted-level-0: #f0f8ff;\n",
       "  --sklearn-color-fitted-level-1: #d4ebff;\n",
       "  --sklearn-color-fitted-level-2: #b3dbfd;\n",
       "  --sklearn-color-fitted-level-3: cornflowerblue;\n",
       "\n",
       "  /* Specific color for light theme */\n",
       "  --sklearn-color-text-on-default-background: var(--sg-text-color, var(--theme-code-foreground, var(--jp-content-font-color1, black)));\n",
       "  --sklearn-color-background: var(--sg-background-color, var(--theme-background, var(--jp-layout-color0, white)));\n",
       "  --sklearn-color-border-box: var(--sg-text-color, var(--theme-code-foreground, var(--jp-content-font-color1, black)));\n",
       "  --sklearn-color-icon: #696969;\n",
       "\n",
       "  @media (prefers-color-scheme: dark) {\n",
       "    /* Redefinition of color scheme for dark theme */\n",
       "    --sklearn-color-text-on-default-background: var(--sg-text-color, var(--theme-code-foreground, var(--jp-content-font-color1, white)));\n",
       "    --sklearn-color-background: var(--sg-background-color, var(--theme-background, var(--jp-layout-color0, #111)));\n",
       "    --sklearn-color-border-box: var(--sg-text-color, var(--theme-code-foreground, var(--jp-content-font-color1, white)));\n",
       "    --sklearn-color-icon: #878787;\n",
       "  }\n",
       "}\n",
       "\n",
       "#sk-container-id-2 {\n",
       "  color: var(--sklearn-color-text);\n",
       "}\n",
       "\n",
       "#sk-container-id-2 pre {\n",
       "  padding: 0;\n",
       "}\n",
       "\n",
       "#sk-container-id-2 input.sk-hidden--visually {\n",
       "  border: 0;\n",
       "  clip: rect(1px 1px 1px 1px);\n",
       "  clip: rect(1px, 1px, 1px, 1px);\n",
       "  height: 1px;\n",
       "  margin: -1px;\n",
       "  overflow: hidden;\n",
       "  padding: 0;\n",
       "  position: absolute;\n",
       "  width: 1px;\n",
       "}\n",
       "\n",
       "#sk-container-id-2 div.sk-dashed-wrapped {\n",
       "  border: 1px dashed var(--sklearn-color-line);\n",
       "  margin: 0 0.4em 0.5em 0.4em;\n",
       "  box-sizing: border-box;\n",
       "  padding-bottom: 0.4em;\n",
       "  background-color: var(--sklearn-color-background);\n",
       "}\n",
       "\n",
       "#sk-container-id-2 div.sk-container {\n",
       "  /* jupyter's `normalize.less` sets `[hidden] { display: none; }`\n",
       "     but bootstrap.min.css set `[hidden] { display: none !important; }`\n",
       "     so we also need the `!important` here to be able to override the\n",
       "     default hidden behavior on the sphinx rendered scikit-learn.org.\n",
       "     See: https://github.com/scikit-learn/scikit-learn/issues/21755 */\n",
       "  display: inline-block !important;\n",
       "  position: relative;\n",
       "}\n",
       "\n",
       "#sk-container-id-2 div.sk-text-repr-fallback {\n",
       "  display: none;\n",
       "}\n",
       "\n",
       "div.sk-parallel-item,\n",
       "div.sk-serial,\n",
       "div.sk-item {\n",
       "  /* draw centered vertical line to link estimators */\n",
       "  background-image: linear-gradient(var(--sklearn-color-text-on-default-background), var(--sklearn-color-text-on-default-background));\n",
       "  background-size: 2px 100%;\n",
       "  background-repeat: no-repeat;\n",
       "  background-position: center center;\n",
       "}\n",
       "\n",
       "/* Parallel-specific style estimator block */\n",
       "\n",
       "#sk-container-id-2 div.sk-parallel-item::after {\n",
       "  content: \"\";\n",
       "  width: 100%;\n",
       "  border-bottom: 2px solid var(--sklearn-color-text-on-default-background);\n",
       "  flex-grow: 1;\n",
       "}\n",
       "\n",
       "#sk-container-id-2 div.sk-parallel {\n",
       "  display: flex;\n",
       "  align-items: stretch;\n",
       "  justify-content: center;\n",
       "  background-color: var(--sklearn-color-background);\n",
       "  position: relative;\n",
       "}\n",
       "\n",
       "#sk-container-id-2 div.sk-parallel-item {\n",
       "  display: flex;\n",
       "  flex-direction: column;\n",
       "}\n",
       "\n",
       "#sk-container-id-2 div.sk-parallel-item:first-child::after {\n",
       "  align-self: flex-end;\n",
       "  width: 50%;\n",
       "}\n",
       "\n",
       "#sk-container-id-2 div.sk-parallel-item:last-child::after {\n",
       "  align-self: flex-start;\n",
       "  width: 50%;\n",
       "}\n",
       "\n",
       "#sk-container-id-2 div.sk-parallel-item:only-child::after {\n",
       "  width: 0;\n",
       "}\n",
       "\n",
       "/* Serial-specific style estimator block */\n",
       "\n",
       "#sk-container-id-2 div.sk-serial {\n",
       "  display: flex;\n",
       "  flex-direction: column;\n",
       "  align-items: center;\n",
       "  background-color: var(--sklearn-color-background);\n",
       "  padding-right: 1em;\n",
       "  padding-left: 1em;\n",
       "}\n",
       "\n",
       "\n",
       "/* Toggleable style: style used for estimator/Pipeline/ColumnTransformer box that is\n",
       "clickable and can be expanded/collapsed.\n",
       "- Pipeline and ColumnTransformer use this feature and define the default style\n",
       "- Estimators will overwrite some part of the style using the `sk-estimator` class\n",
       "*/\n",
       "\n",
       "/* Pipeline and ColumnTransformer style (default) */\n",
       "\n",
       "#sk-container-id-2 div.sk-toggleable {\n",
       "  /* Default theme specific background. It is overwritten whether we have a\n",
       "  specific estimator or a Pipeline/ColumnTransformer */\n",
       "  background-color: var(--sklearn-color-background);\n",
       "}\n",
       "\n",
       "/* Toggleable label */\n",
       "#sk-container-id-2 label.sk-toggleable__label {\n",
       "  cursor: pointer;\n",
       "  display: block;\n",
       "  width: 100%;\n",
       "  margin-bottom: 0;\n",
       "  padding: 0.5em;\n",
       "  box-sizing: border-box;\n",
       "  text-align: center;\n",
       "}\n",
       "\n",
       "#sk-container-id-2 label.sk-toggleable__label-arrow:before {\n",
       "  /* Arrow on the left of the label */\n",
       "  content: \"▸\";\n",
       "  float: left;\n",
       "  margin-right: 0.25em;\n",
       "  color: var(--sklearn-color-icon);\n",
       "}\n",
       "\n",
       "#sk-container-id-2 label.sk-toggleable__label-arrow:hover:before {\n",
       "  color: var(--sklearn-color-text);\n",
       "}\n",
       "\n",
       "/* Toggleable content - dropdown */\n",
       "\n",
       "#sk-container-id-2 div.sk-toggleable__content {\n",
       "  max-height: 0;\n",
       "  max-width: 0;\n",
       "  overflow: hidden;\n",
       "  text-align: left;\n",
       "  /* unfitted */\n",
       "  background-color: var(--sklearn-color-unfitted-level-0);\n",
       "}\n",
       "\n",
       "#sk-container-id-2 div.sk-toggleable__content.fitted {\n",
       "  /* fitted */\n",
       "  background-color: var(--sklearn-color-fitted-level-0);\n",
       "}\n",
       "\n",
       "#sk-container-id-2 div.sk-toggleable__content pre {\n",
       "  margin: 0.2em;\n",
       "  border-radius: 0.25em;\n",
       "  color: var(--sklearn-color-text);\n",
       "  /* unfitted */\n",
       "  background-color: var(--sklearn-color-unfitted-level-0);\n",
       "}\n",
       "\n",
       "#sk-container-id-2 div.sk-toggleable__content.fitted pre {\n",
       "  /* unfitted */\n",
       "  background-color: var(--sklearn-color-fitted-level-0);\n",
       "}\n",
       "\n",
       "#sk-container-id-2 input.sk-toggleable__control:checked~div.sk-toggleable__content {\n",
       "  /* Expand drop-down */\n",
       "  max-height: 200px;\n",
       "  max-width: 100%;\n",
       "  overflow: auto;\n",
       "}\n",
       "\n",
       "#sk-container-id-2 input.sk-toggleable__control:checked~label.sk-toggleable__label-arrow:before {\n",
       "  content: \"▾\";\n",
       "}\n",
       "\n",
       "/* Pipeline/ColumnTransformer-specific style */\n",
       "\n",
       "#sk-container-id-2 div.sk-label input.sk-toggleable__control:checked~label.sk-toggleable__label {\n",
       "  color: var(--sklearn-color-text);\n",
       "  background-color: var(--sklearn-color-unfitted-level-2);\n",
       "}\n",
       "\n",
       "#sk-container-id-2 div.sk-label.fitted input.sk-toggleable__control:checked~label.sk-toggleable__label {\n",
       "  background-color: var(--sklearn-color-fitted-level-2);\n",
       "}\n",
       "\n",
       "/* Estimator-specific style */\n",
       "\n",
       "/* Colorize estimator box */\n",
       "#sk-container-id-2 div.sk-estimator input.sk-toggleable__control:checked~label.sk-toggleable__label {\n",
       "  /* unfitted */\n",
       "  background-color: var(--sklearn-color-unfitted-level-2);\n",
       "}\n",
       "\n",
       "#sk-container-id-2 div.sk-estimator.fitted input.sk-toggleable__control:checked~label.sk-toggleable__label {\n",
       "  /* fitted */\n",
       "  background-color: var(--sklearn-color-fitted-level-2);\n",
       "}\n",
       "\n",
       "#sk-container-id-2 div.sk-label label.sk-toggleable__label,\n",
       "#sk-container-id-2 div.sk-label label {\n",
       "  /* The background is the default theme color */\n",
       "  color: var(--sklearn-color-text-on-default-background);\n",
       "}\n",
       "\n",
       "/* On hover, darken the color of the background */\n",
       "#sk-container-id-2 div.sk-label:hover label.sk-toggleable__label {\n",
       "  color: var(--sklearn-color-text);\n",
       "  background-color: var(--sklearn-color-unfitted-level-2);\n",
       "}\n",
       "\n",
       "/* Label box, darken color on hover, fitted */\n",
       "#sk-container-id-2 div.sk-label.fitted:hover label.sk-toggleable__label.fitted {\n",
       "  color: var(--sklearn-color-text);\n",
       "  background-color: var(--sklearn-color-fitted-level-2);\n",
       "}\n",
       "\n",
       "/* Estimator label */\n",
       "\n",
       "#sk-container-id-2 div.sk-label label {\n",
       "  font-family: monospace;\n",
       "  font-weight: bold;\n",
       "  display: inline-block;\n",
       "  line-height: 1.2em;\n",
       "}\n",
       "\n",
       "#sk-container-id-2 div.sk-label-container {\n",
       "  text-align: center;\n",
       "}\n",
       "\n",
       "/* Estimator-specific */\n",
       "#sk-container-id-2 div.sk-estimator {\n",
       "  font-family: monospace;\n",
       "  border: 1px dotted var(--sklearn-color-border-box);\n",
       "  border-radius: 0.25em;\n",
       "  box-sizing: border-box;\n",
       "  margin-bottom: 0.5em;\n",
       "  /* unfitted */\n",
       "  background-color: var(--sklearn-color-unfitted-level-0);\n",
       "}\n",
       "\n",
       "#sk-container-id-2 div.sk-estimator.fitted {\n",
       "  /* fitted */\n",
       "  background-color: var(--sklearn-color-fitted-level-0);\n",
       "}\n",
       "\n",
       "/* on hover */\n",
       "#sk-container-id-2 div.sk-estimator:hover {\n",
       "  /* unfitted */\n",
       "  background-color: var(--sklearn-color-unfitted-level-2);\n",
       "}\n",
       "\n",
       "#sk-container-id-2 div.sk-estimator.fitted:hover {\n",
       "  /* fitted */\n",
       "  background-color: var(--sklearn-color-fitted-level-2);\n",
       "}\n",
       "\n",
       "/* Specification for estimator info (e.g. \"i\" and \"?\") */\n",
       "\n",
       "/* Common style for \"i\" and \"?\" */\n",
       "\n",
       ".sk-estimator-doc-link,\n",
       "a:link.sk-estimator-doc-link,\n",
       "a:visited.sk-estimator-doc-link {\n",
       "  float: right;\n",
       "  font-size: smaller;\n",
       "  line-height: 1em;\n",
       "  font-family: monospace;\n",
       "  background-color: var(--sklearn-color-background);\n",
       "  border-radius: 1em;\n",
       "  height: 1em;\n",
       "  width: 1em;\n",
       "  text-decoration: none !important;\n",
       "  margin-left: 1ex;\n",
       "  /* unfitted */\n",
       "  border: var(--sklearn-color-unfitted-level-1) 1pt solid;\n",
       "  color: var(--sklearn-color-unfitted-level-1);\n",
       "}\n",
       "\n",
       ".sk-estimator-doc-link.fitted,\n",
       "a:link.sk-estimator-doc-link.fitted,\n",
       "a:visited.sk-estimator-doc-link.fitted {\n",
       "  /* fitted */\n",
       "  border: var(--sklearn-color-fitted-level-1) 1pt solid;\n",
       "  color: var(--sklearn-color-fitted-level-1);\n",
       "}\n",
       "\n",
       "/* On hover */\n",
       "div.sk-estimator:hover .sk-estimator-doc-link:hover,\n",
       ".sk-estimator-doc-link:hover,\n",
       "div.sk-label-container:hover .sk-estimator-doc-link:hover,\n",
       ".sk-estimator-doc-link:hover {\n",
       "  /* unfitted */\n",
       "  background-color: var(--sklearn-color-unfitted-level-3);\n",
       "  color: var(--sklearn-color-background);\n",
       "  text-decoration: none;\n",
       "}\n",
       "\n",
       "div.sk-estimator.fitted:hover .sk-estimator-doc-link.fitted:hover,\n",
       ".sk-estimator-doc-link.fitted:hover,\n",
       "div.sk-label-container:hover .sk-estimator-doc-link.fitted:hover,\n",
       ".sk-estimator-doc-link.fitted:hover {\n",
       "  /* fitted */\n",
       "  background-color: var(--sklearn-color-fitted-level-3);\n",
       "  color: var(--sklearn-color-background);\n",
       "  text-decoration: none;\n",
       "}\n",
       "\n",
       "/* Span, style for the box shown on hovering the info icon */\n",
       ".sk-estimator-doc-link span {\n",
       "  display: none;\n",
       "  z-index: 9999;\n",
       "  position: relative;\n",
       "  font-weight: normal;\n",
       "  right: .2ex;\n",
       "  padding: .5ex;\n",
       "  margin: .5ex;\n",
       "  width: min-content;\n",
       "  min-width: 20ex;\n",
       "  max-width: 50ex;\n",
       "  color: var(--sklearn-color-text);\n",
       "  box-shadow: 2pt 2pt 4pt #999;\n",
       "  /* unfitted */\n",
       "  background: var(--sklearn-color-unfitted-level-0);\n",
       "  border: .5pt solid var(--sklearn-color-unfitted-level-3);\n",
       "}\n",
       "\n",
       ".sk-estimator-doc-link.fitted span {\n",
       "  /* fitted */\n",
       "  background: var(--sklearn-color-fitted-level-0);\n",
       "  border: var(--sklearn-color-fitted-level-3);\n",
       "}\n",
       "\n",
       ".sk-estimator-doc-link:hover span {\n",
       "  display: block;\n",
       "}\n",
       "\n",
       "/* \"?\"-specific style due to the `<a>` HTML tag */\n",
       "\n",
       "#sk-container-id-2 a.estimator_doc_link {\n",
       "  float: right;\n",
       "  font-size: 1rem;\n",
       "  line-height: 1em;\n",
       "  font-family: monospace;\n",
       "  background-color: var(--sklearn-color-background);\n",
       "  border-radius: 1rem;\n",
       "  height: 1rem;\n",
       "  width: 1rem;\n",
       "  text-decoration: none;\n",
       "  /* unfitted */\n",
       "  color: var(--sklearn-color-unfitted-level-1);\n",
       "  border: var(--sklearn-color-unfitted-level-1) 1pt solid;\n",
       "}\n",
       "\n",
       "#sk-container-id-2 a.estimator_doc_link.fitted {\n",
       "  /* fitted */\n",
       "  border: var(--sklearn-color-fitted-level-1) 1pt solid;\n",
       "  color: var(--sklearn-color-fitted-level-1);\n",
       "}\n",
       "\n",
       "/* On hover */\n",
       "#sk-container-id-2 a.estimator_doc_link:hover {\n",
       "  /* unfitted */\n",
       "  background-color: var(--sklearn-color-unfitted-level-3);\n",
       "  color: var(--sklearn-color-background);\n",
       "  text-decoration: none;\n",
       "}\n",
       "\n",
       "#sk-container-id-2 a.estimator_doc_link.fitted:hover {\n",
       "  /* fitted */\n",
       "  background-color: var(--sklearn-color-fitted-level-3);\n",
       "}\n",
       "</style><div id=\"sk-container-id-2\" class=\"sk-top-container\"><div class=\"sk-text-repr-fallback\"><pre>HistGradientBoostingClassifier(random_state=1)</pre><b>In a Jupyter environment, please rerun this cell to show the HTML representation or trust the notebook. <br />On GitHub, the HTML representation is unable to render, please try loading this page with nbviewer.org.</b></div><div class=\"sk-container\" hidden><div class=\"sk-item\"><div class=\"sk-estimator fitted sk-toggleable\"><input class=\"sk-toggleable__control sk-hidden--visually\" id=\"sk-estimator-id-2\" type=\"checkbox\" checked><label for=\"sk-estimator-id-2\" class=\"sk-toggleable__label fitted sk-toggleable__label-arrow fitted\">&nbsp;&nbsp;HistGradientBoostingClassifier<a class=\"sk-estimator-doc-link fitted\" rel=\"noreferrer\" target=\"_blank\" href=\"https://scikit-learn.org/1.5/modules/generated/sklearn.ensemble.HistGradientBoostingClassifier.html\">?<span>Documentation for HistGradientBoostingClassifier</span></a><span class=\"sk-estimator-doc-link fitted\">i<span>Fitted</span></span></label><div class=\"sk-toggleable__content fitted\"><pre>HistGradientBoostingClassifier(random_state=1)</pre></div> </div></div></div></div>"
      ],
      "text/plain": [
       "HistGradientBoostingClassifier(random_state=1)"
      ]
     },
     "execution_count": 31,
     "metadata": {},
     "output_type": "execute_result"
    }
   ],
   "source": [
    "classifier2 = HistGradientBoostingClassifier(random_state=1)\n",
    "classifier2.fit(scalar_train, y_train)"
   ]
  },
  {
   "cell_type": "code",
   "execution_count": 32,
   "id": "90f16389",
   "metadata": {},
   "outputs": [
    {
     "name": "stdout",
     "output_type": "stream",
     "text": [
      "Classification Report:\n",
      "              precision    recall  f1-score   support\n",
      "\n",
      "        Bach       0.92      0.98      0.95       101\n",
      "   Beethoven       0.74      0.64      0.68        22\n",
      "      Chopin       0.94      0.77      0.85        22\n",
      "      Mozart       0.63      0.63      0.63        19\n",
      "\n",
      "    accuracy                           0.87       164\n",
      "   macro avg       0.81      0.76      0.78       164\n",
      "weighted avg       0.86      0.87      0.86       164\n",
      "\n"
     ]
    }
   ],
   "source": [
    "y_pred2 = classifier2.predict(scalar_test)\n",
    "print(\"Classification Report:\")\n",
    "print(classification_report(y_test, y_pred2, target_names=label_encoder.classes_))"
   ]
  },
  {
   "cell_type": "markdown",
   "id": "51546a42",
   "metadata": {},
   "source": [
    "## CNN Fine Tuning"
   ]
  },
  {
   "cell_type": "code",
   "execution_count": null,
   "id": "1e2e3f67",
   "metadata": {},
   "outputs": [
    {
     "name": "stderr",
     "output_type": "stream",
     "text": [
      "[I 2024-07-29 08:33:00,119] A new study created in memory with name: no-name-13d980f7-d79a-4064-a5a3-6c4381a09f38\n"
     ]
    },
    {
     "name": "stdout",
     "output_type": "stream",
     "text": [
      "Validation loss: 1.148, Accuracy: 45.14%\n",
      "Validation loss: 1.084, Accuracy: 47.62%\n",
      "Validation loss: 0.992, Accuracy: 53.03%\n"
     ]
    },
    {
     "name": "stderr",
     "output_type": "stream",
     "text": [
      "[I 2024-07-29 08:35:19,974] Trial 0 finished with value: 0.6 and parameters: {'seq_length': 206, 'batch_size': 63, 'lr': 1.5214742857007894e-05, 'conv1_out_channels': 37, 'conv2_out_channels': 93, 'kernel_size': 7, 'dropout': 0.1917348460354799, 'fc1_out': 146}. Best is trial 0 with value: 0.6.\n"
     ]
    },
    {
     "name": "stdout",
     "output_type": "stream",
     "text": [
      "              precision    recall  f1-score   support\n",
      "\n",
      "        Bach       0.70      0.91      0.79       762\n",
      "   Beethoven       0.49      0.51      0.50       435\n",
      "      Chopin       0.91      0.08      0.15       248\n",
      "      Mozart       0.34      0.33      0.33       227\n",
      "\n",
      "    accuracy                           0.60      1672\n",
      "   macro avg       0.61      0.46      0.45      1672\n",
      "weighted avg       0.63      0.60      0.56      1672\n",
      "\n",
      "Validation loss: 0.940, Accuracy: 57.27%\n",
      "Validation loss: 0.797, Accuracy: 66.16%\n",
      "Validation loss: 0.883, Accuracy: 66.49%\n"
     ]
    },
    {
     "name": "stderr",
     "output_type": "stream",
     "text": [
      "[I 2024-07-29 08:37:10,999] Trial 1 finished with value: 0.76 and parameters: {'seq_length': 369, 'batch_size': 36, 'lr': 0.0003692569288580252, 'conv1_out_channels': 46, 'conv2_out_channels': 61, 'kernel_size': 4, 'dropout': 0.2843987930811322, 'fc1_out': 209}. Best is trial 1 with value: 0.76.\n"
     ]
    },
    {
     "name": "stdout",
     "output_type": "stream",
     "text": [
      "              precision    recall  f1-score   support\n",
      "\n",
      "        Bach       0.84      0.96      0.90       408\n",
      "   Beethoven       0.66      0.76      0.71       235\n",
      "      Chopin       0.85      0.42      0.57       132\n",
      "      Mozart       0.58      0.46      0.51       122\n",
      "\n",
      "    accuracy                           0.76       897\n",
      "   macro avg       0.73      0.65      0.67       897\n",
      "weighted avg       0.76      0.76      0.75       897\n",
      "\n",
      "Validation loss: 1.263, Accuracy: 38.15%\n",
      "Validation loss: 1.270, Accuracy: 38.15%\n",
      "Validation loss: 1.267, Accuracy: 38.15%\n"
     ]
    },
    {
     "name": "stderr",
     "output_type": "stream",
     "text": [
      "/Users/kdevoe/Documents/CS/Masters/AAI511/ms-aai-511-final-project/511_final_env/lib/python3.10/site-packages/sklearn/metrics/_classification.py:1531: UndefinedMetricWarning: Precision is ill-defined and being set to 0.0 in labels with no predicted samples. Use `zero_division` parameter to control this behavior.\n",
      "  _warn_prf(average, modifier, f\"{metric.capitalize()} is\", len(result))\n",
      "/Users/kdevoe/Documents/CS/Masters/AAI511/ms-aai-511-final-project/511_final_env/lib/python3.10/site-packages/sklearn/metrics/_classification.py:1531: UndefinedMetricWarning: Precision is ill-defined and being set to 0.0 in labels with no predicted samples. Use `zero_division` parameter to control this behavior.\n",
      "  _warn_prf(average, modifier, f\"{metric.capitalize()} is\", len(result))\n",
      "/Users/kdevoe/Documents/CS/Masters/AAI511/ms-aai-511-final-project/511_final_env/lib/python3.10/site-packages/sklearn/metrics/_classification.py:1531: UndefinedMetricWarning: Precision is ill-defined and being set to 0.0 in labels with no predicted samples. Use `zero_division` parameter to control this behavior.\n",
      "  _warn_prf(average, modifier, f\"{metric.capitalize()} is\", len(result))\n",
      "[I 2024-07-29 08:39:11,564] Trial 2 finished with value: 0.45 and parameters: {'seq_length': 397, 'batch_size': 19, 'lr': 0.007728025839720149, 'conv1_out_channels': 49, 'conv2_out_channels': 61, 'kernel_size': 3, 'dropout': 0.4291455304251181, 'fc1_out': 239}. Best is trial 1 with value: 0.76.\n"
     ]
    },
    {
     "name": "stdout",
     "output_type": "stream",
     "text": [
      "              precision    recall  f1-score   support\n",
      "\n",
      "        Bach       0.45      1.00      0.62       374\n",
      "   Beethoven       0.00      0.00      0.00       220\n",
      "      Chopin       0.00      0.00      0.00       122\n",
      "      Mozart       0.00      0.00      0.00       113\n",
      "\n",
      "    accuracy                           0.45       829\n",
      "   macro avg       0.11      0.25      0.16       829\n",
      "weighted avg       0.20      0.45      0.28       829\n",
      "\n",
      "Validation loss: 1.454, Accuracy: 40.02%\n",
      "Validation loss: 1.254, Accuracy: 47.16%\n",
      "Validation loss: 1.211, Accuracy: 45.71%\n"
     ]
    },
    {
     "name": "stderr",
     "output_type": "stream",
     "text": [
      "[I 2024-07-29 08:39:48,418] Trial 3 finished with value: 0.53 and parameters: {'seq_length': 351, 'batch_size': 14, 'lr': 0.002716229885307444, 'conv1_out_channels': 32, 'conv2_out_channels': 75, 'kernel_size': 6, 'dropout': 0.023058781904488734, 'fc1_out': 237}. Best is trial 1 with value: 0.76.\n"
     ]
    },
    {
     "name": "stdout",
     "output_type": "stream",
     "text": [
      "              precision    recall  f1-score   support\n",
      "\n",
      "        Bach       0.69      0.77      0.73       428\n",
      "   Beethoven       0.47      0.54      0.50       246\n",
      "      Chopin       0.31      0.03      0.05       138\n",
      "      Mozart       0.18      0.24      0.21       129\n",
      "\n",
      "    accuracy                           0.53       941\n",
      "   macro avg       0.41      0.39      0.37       941\n",
      "weighted avg       0.51      0.53      0.50       941\n",
      "\n",
      "Validation loss: 0.924, Accuracy: 61.49%\n",
      "Validation loss: 0.774, Accuracy: 68.92%\n",
      "Validation loss: 0.844, Accuracy: 68.20%\n"
     ]
    },
    {
     "name": "stderr",
     "output_type": "stream",
     "text": [
      "[I 2024-07-29 08:42:41,184] Trial 4 finished with value: 0.7 and parameters: {'seq_length': 134, 'batch_size': 35, 'lr': 0.0002678308642623654, 'conv1_out_channels': 21, 'conv2_out_channels': 73, 'kernel_size': 9, 'dropout': 0.35419798584009915, 'fc1_out': 214}. Best is trial 1 with value: 0.76.\n"
     ]
    },
    {
     "name": "stdout",
     "output_type": "stream",
     "text": [
      "              precision    recall  f1-score   support\n",
      "\n",
      "        Bach       0.79      0.95      0.86      1196\n",
      "   Beethoven       0.65      0.54      0.59       671\n",
      "      Chopin       0.83      0.36      0.50       381\n",
      "      Mozart       0.42      0.51      0.46       354\n",
      "\n",
      "    accuracy                           0.70      2602\n",
      "   macro avg       0.67      0.59      0.60      2602\n",
      "weighted avg       0.71      0.70      0.68      2602\n",
      "\n",
      "Validation loss: 1.263, Accuracy: 38.43%\n",
      "Validation loss: 1.292, Accuracy: 34.29%\n",
      "Validation loss: 1.248, Accuracy: 38.20%\n"
     ]
    },
    {
     "name": "stderr",
     "output_type": "stream",
     "text": [
      "/Users/kdevoe/Documents/CS/Masters/AAI511/ms-aai-511-final-project/511_final_env/lib/python3.10/site-packages/sklearn/metrics/_classification.py:1531: UndefinedMetricWarning: Precision is ill-defined and being set to 0.0 in labels with no predicted samples. Use `zero_division` parameter to control this behavior.\n",
      "  _warn_prf(average, modifier, f\"{metric.capitalize()} is\", len(result))\n",
      "/Users/kdevoe/Documents/CS/Masters/AAI511/ms-aai-511-final-project/511_final_env/lib/python3.10/site-packages/sklearn/metrics/_classification.py:1531: UndefinedMetricWarning: Precision is ill-defined and being set to 0.0 in labels with no predicted samples. Use `zero_division` parameter to control this behavior.\n",
      "  _warn_prf(average, modifier, f\"{metric.capitalize()} is\", len(result))\n",
      "/Users/kdevoe/Documents/CS/Masters/AAI511/ms-aai-511-final-project/511_final_env/lib/python3.10/site-packages/sklearn/metrics/_classification.py:1531: UndefinedMetricWarning: Precision is ill-defined and being set to 0.0 in labels with no predicted samples. Use `zero_division` parameter to control this behavior.\n",
      "  _warn_prf(average, modifier, f\"{metric.capitalize()} is\", len(result))\n",
      "[I 2024-07-29 08:46:22,148] Trial 5 finished with value: 0.45 and parameters: {'seq_length': 388, 'batch_size': 16, 'lr': 0.0040813948069553865, 'conv1_out_channels': 29, 'conv2_out_channels': 93, 'kernel_size': 8, 'dropout': 0.2648776384268274, 'fc1_out': 159}. Best is trial 1 with value: 0.76.\n"
     ]
    },
    {
     "name": "stdout",
     "output_type": "stream",
     "text": [
      "              precision    recall  f1-score   support\n",
      "\n",
      "        Bach       0.45      0.97      0.62       384\n",
      "   Beethoven       0.44      0.05      0.09       225\n",
      "      Chopin       0.00      0.00      0.00       126\n",
      "      Mozart       0.17      0.01      0.02       115\n",
      "\n",
      "    accuracy                           0.45       850\n",
      "   macro avg       0.27      0.26      0.18       850\n",
      "weighted avg       0.34      0.45      0.30       850\n",
      "\n",
      "[Epoch 1, Batch 1000] loss: 1.189\n",
      "[Epoch 1, Batch 2000] loss: 1.059\n",
      "[Epoch 1, Batch 3000] loss: 1.018\n",
      "Validation loss: 1.019, Accuracy: 51.72%\n",
      "[Epoch 2, Batch 1000] loss: 0.950\n",
      "[Epoch 2, Batch 2000] loss: 0.934\n",
      "[Epoch 2, Batch 3000] loss: 0.916\n",
      "Validation loss: 0.956, Accuracy: 57.33%\n",
      "[Epoch 3, Batch 1000] loss: 0.862\n",
      "[Epoch 3, Batch 2000] loss: 0.866\n",
      "[Epoch 3, Batch 3000] loss: 0.840\n",
      "Validation loss: 0.906, Accuracy: 60.24%\n"
     ]
    },
    {
     "name": "stderr",
     "output_type": "stream",
     "text": [
      "[I 2024-07-29 08:52:43,196] Trial 6 finished with value: 0.66 and parameters: {'seq_length': 58, 'batch_size': 17, 'lr': 2.0799495065719412e-05, 'conv1_out_channels': 35, 'conv2_out_channels': 119, 'kernel_size': 9, 'dropout': 0.17919271497029987, 'fc1_out': 156}. Best is trial 1 with value: 0.76.\n"
     ]
    },
    {
     "name": "stdout",
     "output_type": "stream",
     "text": [
      "              precision    recall  f1-score   support\n",
      "\n",
      "        Bach       0.79      0.90      0.84      2832\n",
      "   Beethoven       0.58      0.57      0.57      1563\n",
      "      Chopin       0.83      0.23      0.37       899\n",
      "      Mozart       0.36      0.48      0.42       833\n",
      "\n",
      "    accuracy                           0.66      6127\n",
      "   macro avg       0.64      0.55      0.55      6127\n",
      "weighted avg       0.68      0.66      0.64      6127\n",
      "\n",
      "Validation loss: 1.260, Accuracy: 38.61%\n",
      "Validation loss: 1.264, Accuracy: 39.54%\n",
      "Validation loss: 1.259, Accuracy: 40.00%\n"
     ]
    },
    {
     "name": "stderr",
     "output_type": "stream",
     "text": [
      "/Users/kdevoe/Documents/CS/Masters/AAI511/ms-aai-511-final-project/511_final_env/lib/python3.10/site-packages/sklearn/metrics/_classification.py:1531: UndefinedMetricWarning: Precision is ill-defined and being set to 0.0 in labels with no predicted samples. Use `zero_division` parameter to control this behavior.\n",
      "  _warn_prf(average, modifier, f\"{metric.capitalize()} is\", len(result))\n",
      "/Users/kdevoe/Documents/CS/Masters/AAI511/ms-aai-511-final-project/511_final_env/lib/python3.10/site-packages/sklearn/metrics/_classification.py:1531: UndefinedMetricWarning: Precision is ill-defined and being set to 0.0 in labels with no predicted samples. Use `zero_division` parameter to control this behavior.\n",
      "  _warn_prf(average, modifier, f\"{metric.capitalize()} is\", len(result))\n",
      "/Users/kdevoe/Documents/CS/Masters/AAI511/ms-aai-511-final-project/511_final_env/lib/python3.10/site-packages/sklearn/metrics/_classification.py:1531: UndefinedMetricWarning: Precision is ill-defined and being set to 0.0 in labels with no predicted samples. Use `zero_division` parameter to control this behavior.\n",
      "  _warn_prf(average, modifier, f\"{metric.capitalize()} is\", len(result))\n",
      "[I 2024-07-29 08:54:28,382] Trial 7 finished with value: 0.47 and parameters: {'seq_length': 318, 'batch_size': 39, 'lr': 0.008255910420607146, 'conv1_out_channels': 40, 'conv2_out_channels': 35, 'kernel_size': 4, 'dropout': 0.03849669169713954, 'fc1_out': 208}. Best is trial 1 with value: 0.76.\n"
     ]
    },
    {
     "name": "stdout",
     "output_type": "stream",
     "text": [
      "              precision    recall  f1-score   support\n",
      "\n",
      "        Bach       0.47      0.96      0.63       471\n",
      "   Beethoven       0.41      0.11      0.18       278\n",
      "      Chopin       0.00      0.00      0.00       156\n",
      "      Mozart       0.29      0.05      0.08       145\n",
      "\n",
      "    accuracy                           0.47      1050\n",
      "   macro avg       0.29      0.28      0.22      1050\n",
      "weighted avg       0.36      0.47      0.34      1050\n",
      "\n",
      "Validation loss: 1.266, Accuracy: 38.04%\n",
      "Validation loss: 1.260, Accuracy: 38.04%\n",
      "Validation loss: 1.251, Accuracy: 38.39%\n"
     ]
    },
    {
     "name": "stderr",
     "output_type": "stream",
     "text": [
      "/Users/kdevoe/Documents/CS/Masters/AAI511/ms-aai-511-final-project/511_final_env/lib/python3.10/site-packages/sklearn/metrics/_classification.py:1531: UndefinedMetricWarning: Precision is ill-defined and being set to 0.0 in labels with no predicted samples. Use `zero_division` parameter to control this behavior.\n",
      "  _warn_prf(average, modifier, f\"{metric.capitalize()} is\", len(result))\n",
      "/Users/kdevoe/Documents/CS/Masters/AAI511/ms-aai-511-final-project/511_final_env/lib/python3.10/site-packages/sklearn/metrics/_classification.py:1531: UndefinedMetricWarning: Precision is ill-defined and being set to 0.0 in labels with no predicted samples. Use `zero_division` parameter to control this behavior.\n",
      "  _warn_prf(average, modifier, f\"{metric.capitalize()} is\", len(result))\n",
      "/Users/kdevoe/Documents/CS/Masters/AAI511/ms-aai-511-final-project/511_final_env/lib/python3.10/site-packages/sklearn/metrics/_classification.py:1531: UndefinedMetricWarning: Precision is ill-defined and being set to 0.0 in labels with no predicted samples. Use `zero_division` parameter to control this behavior.\n",
      "  _warn_prf(average, modifier, f\"{metric.capitalize()} is\", len(result))\n",
      "[I 2024-07-29 08:58:23,268] Trial 8 finished with value: 0.45 and parameters: {'seq_length': 394, 'batch_size': 38, 'lr': 0.003259091977876752, 'conv1_out_channels': 56, 'conv2_out_channels': 113, 'kernel_size': 9, 'dropout': 0.1961637359265218, 'fc1_out': 246}. Best is trial 1 with value: 0.76.\n"
     ]
    },
    {
     "name": "stdout",
     "output_type": "stream",
     "text": [
      "              precision    recall  f1-score   support\n",
      "\n",
      "        Bach       0.46      1.00      0.63       375\n",
      "   Beethoven       0.40      0.01      0.02       220\n",
      "      Chopin       0.00      0.00      0.00       123\n",
      "      Mozart       0.14      0.01      0.02       114\n",
      "\n",
      "    accuracy                           0.45       832\n",
      "   macro avg       0.25      0.25      0.17       832\n",
      "weighted avg       0.33      0.45      0.29       832\n",
      "\n",
      "Validation loss: 1.323, Accuracy: 37.78%\n",
      "Validation loss: 1.258, Accuracy: 38.58%\n",
      "Validation loss: 1.257, Accuracy: 38.50%\n"
     ]
    },
    {
     "name": "stderr",
     "output_type": "stream",
     "text": [
      "/Users/kdevoe/Documents/CS/Masters/AAI511/ms-aai-511-final-project/511_final_env/lib/python3.10/site-packages/sklearn/metrics/_classification.py:1531: UndefinedMetricWarning: Precision is ill-defined and being set to 0.0 in labels with no predicted samples. Use `zero_division` parameter to control this behavior.\n",
      "  _warn_prf(average, modifier, f\"{metric.capitalize()} is\", len(result))\n",
      "/Users/kdevoe/Documents/CS/Masters/AAI511/ms-aai-511-final-project/511_final_env/lib/python3.10/site-packages/sklearn/metrics/_classification.py:1531: UndefinedMetricWarning: Precision is ill-defined and being set to 0.0 in labels with no predicted samples. Use `zero_division` parameter to control this behavior.\n",
      "  _warn_prf(average, modifier, f\"{metric.capitalize()} is\", len(result))\n",
      "/Users/kdevoe/Documents/CS/Masters/AAI511/ms-aai-511-final-project/511_final_env/lib/python3.10/site-packages/sklearn/metrics/_classification.py:1531: UndefinedMetricWarning: Precision is ill-defined and being set to 0.0 in labels with no predicted samples. Use `zero_division` parameter to control this behavior.\n",
      "  _warn_prf(average, modifier, f\"{metric.capitalize()} is\", len(result))\n",
      "[I 2024-07-29 09:02:11,036] Trial 9 finished with value: 0.46 and parameters: {'seq_length': 276, 'batch_size': 18, 'lr': 0.007362238341477173, 'conv1_out_channels': 37, 'conv2_out_channels': 60, 'kernel_size': 8, 'dropout': 0.06452018576405344, 'fc1_out': 148}. Best is trial 1 with value: 0.76.\n"
     ]
    },
    {
     "name": "stdout",
     "output_type": "stream",
     "text": [
      "              precision    recall  f1-score   support\n",
      "\n",
      "        Bach       0.46      0.98      0.62       554\n",
      "   Beethoven       0.54      0.04      0.08       319\n",
      "      Chopin       0.00      0.00      0.00       180\n",
      "      Mozart       0.00      0.00      0.00       167\n",
      "\n",
      "    accuracy                           0.46      1220\n",
      "   macro avg       0.25      0.26      0.18      1220\n",
      "weighted avg       0.35      0.46      0.30      1220\n",
      "\n",
      "Validation loss: 0.976, Accuracy: 57.69%\n",
      "Validation loss: 0.871, Accuracy: 65.15%\n",
      "Validation loss: 0.903, Accuracy: 66.65%\n"
     ]
    },
    {
     "name": "stderr",
     "output_type": "stream",
     "text": [
      "[I 2024-07-29 09:04:34,655] Trial 10 finished with value: 0.7 and parameters: {'seq_length': 227, 'batch_size': 53, 'lr': 0.0002894520086007003, 'conv1_out_channels': 64, 'conv2_out_channels': 38, 'kernel_size': 5, 'dropout': 0.48111253953616345, 'fc1_out': 84}. Best is trial 1 with value: 0.76.\n"
     ]
    },
    {
     "name": "stdout",
     "output_type": "stream",
     "text": [
      "              precision    recall  f1-score   support\n",
      "\n",
      "        Bach       0.75      0.98      0.85       690\n",
      "   Beethoven       0.67      0.55      0.61       391\n",
      "      Chopin       0.83      0.30      0.44       224\n",
      "      Mozart       0.49      0.48      0.49       204\n",
      "\n",
      "    accuracy                           0.70      1509\n",
      "   macro avg       0.68      0.58      0.60      1509\n",
      "weighted avg       0.71      0.70      0.68      1509\n",
      "\n",
      "Validation loss: 0.891, Accuracy: 62.02%\n",
      "Validation loss: 0.816, Accuracy: 68.28%\n",
      "Validation loss: 0.813, Accuracy: 66.58%\n"
     ]
    },
    {
     "name": "stderr",
     "output_type": "stream",
     "text": [
      "[I 2024-07-29 09:06:45,728] Trial 11 finished with value: 0.71 and parameters: {'seq_length': 109, 'batch_size': 33, 'lr': 0.00032543629758911385, 'conv1_out_channels': 17, 'conv2_out_channels': 62, 'kernel_size': 5, 'dropout': 0.32512412277762104, 'fc1_out': 199}. Best is trial 1 with value: 0.76.\n"
     ]
    },
    {
     "name": "stdout",
     "output_type": "stream",
     "text": [
      "              precision    recall  f1-score   support\n",
      "\n",
      "        Bach       0.83      0.94      0.88      1483\n",
      "   Beethoven       0.62      0.62      0.62       827\n",
      "      Chopin       0.83      0.25      0.39       475\n",
      "      Mozart       0.45      0.59      0.51       441\n",
      "\n",
      "    accuracy                           0.71      3226\n",
      "   macro avg       0.68      0.60      0.60      3226\n",
      "weighted avg       0.72      0.71      0.69      3226\n",
      "\n",
      "[Epoch 1, Batch 1000] loss: 1.156\n",
      "[Epoch 1, Batch 2000] loss: 1.000\n",
      "Validation loss: 0.974, Accuracy: 56.24%\n",
      "[Epoch 2, Batch 1000] loss: 0.916\n",
      "[Epoch 2, Batch 2000] loss: 0.886\n",
      "Validation loss: 0.909, Accuracy: 60.79%\n",
      "[Epoch 3, Batch 1000] loss: 0.834\n",
      "[Epoch 3, Batch 2000] loss: 0.824\n",
      "Validation loss: 0.883, Accuracy: 62.70%\n"
     ]
    },
    {
     "name": "stderr",
     "output_type": "stream",
     "text": [
      "[I 2024-07-29 09:09:38,503] Trial 12 finished with value: 0.64 and parameters: {'seq_length': 50, 'batch_size': 28, 'lr': 7.908978762998755e-05, 'conv1_out_channels': 17, 'conv2_out_channels': 55, 'kernel_size': 5, 'dropout': 0.31450508558881657, 'fc1_out': 199}. Best is trial 1 with value: 0.76.\n"
     ]
    },
    {
     "name": "stdout",
     "output_type": "stream",
     "text": [
      "              precision    recall  f1-score   support\n",
      "\n",
      "        Bach       0.83      0.86      0.84      3290\n",
      "   Beethoven       0.52      0.63      0.57      1814\n",
      "      Chopin       0.91      0.09      0.17      1047\n",
      "      Mozart       0.37      0.54      0.44       968\n",
      "\n",
      "    accuracy                           0.64      7119\n",
      "   macro avg       0.66      0.53      0.51      7119\n",
      "weighted avg       0.70      0.64      0.62      7119\n",
      "\n",
      "[Epoch 1, Batch 1000] loss: 1.159\n",
      "[Epoch 1, Batch 2000] loss: 1.087\n",
      "[Epoch 1, Batch 3000] loss: 1.060\n",
      "[Epoch 1, Batch 4000] loss: 1.006\n",
      "[Epoch 1, Batch 5000] loss: 0.992\n",
      "[Epoch 1, Batch 6000] loss: 1.005\n",
      "[Epoch 1, Batch 7000] loss: 0.961\n",
      "[Epoch 1, Batch 8000] loss: 0.970\n",
      "Validation loss: 0.958, Accuracy: 57.82%\n",
      "[Epoch 2, Batch 1000] loss: 0.929\n",
      "[Epoch 2, Batch 2000] loss: 0.929\n",
      "[Epoch 2, Batch 3000] loss: 0.933\n",
      "[Epoch 2, Batch 4000] loss: 0.913\n",
      "[Epoch 2, Batch 5000] loss: 0.925\n",
      "[Epoch 2, Batch 6000] loss: 0.946\n",
      "[Epoch 2, Batch 7000] loss: 0.912\n",
      "[Epoch 2, Batch 8000] loss: 0.895\n",
      "Validation loss: 1.002, Accuracy: 53.88%\n",
      "[Epoch 3, Batch 1000] loss: 0.884\n",
      "[Epoch 3, Batch 2000] loss: 0.864\n",
      "[Epoch 3, Batch 3000] loss: 0.851\n",
      "[Epoch 3, Batch 4000] loss: 0.823\n",
      "[Epoch 3, Batch 5000] loss: 0.870\n",
      "[Epoch 3, Batch 6000] loss: 0.886\n",
      "[Epoch 3, Batch 7000] loss: 0.872\n",
      "[Epoch 3, Batch 8000] loss: 0.889\n",
      "Validation loss: 0.915, Accuracy: 61.44%\n"
     ]
    },
    {
     "name": "stderr",
     "output_type": "stream",
     "text": [
      "[I 2024-07-29 09:11:41,497] Trial 13 finished with value: 0.64 and parameters: {'seq_length': 127, 'batch_size': 3, 'lr': 0.0008796120772449019, 'conv1_out_channels': 47, 'conv2_out_channels': 49, 'kernel_size': 3, 'dropout': 0.371573273995602, 'fc1_out': 186}. Best is trial 1 with value: 0.76.\n"
     ]
    },
    {
     "name": "stdout",
     "output_type": "stream",
     "text": [
      "              precision    recall  f1-score   support\n",
      "\n",
      "        Bach       0.88      0.84      0.86      1267\n",
      "   Beethoven       0.49      0.81      0.61       706\n",
      "      Chopin       0.50      0.01      0.02       406\n",
      "      Mozart       0.33      0.33      0.33       374\n",
      "\n",
      "    accuracy                           0.64      2753\n",
      "   macro avg       0.55      0.50      0.45      2753\n",
      "weighted avg       0.65      0.64      0.60      2753\n",
      "\n",
      "Validation loss: 0.979, Accuracy: 58.39%\n",
      "Validation loss: 0.890, Accuracy: 62.42%\n",
      "Validation loss: 0.888, Accuracy: 64.28%\n"
     ]
    },
    {
     "name": "stderr",
     "output_type": "stream",
     "text": [
      "[I 2024-07-29 09:13:49,708] Trial 14 finished with value: 0.71 and parameters: {'seq_length': 157, 'batch_size': 48, 'lr': 9.210902522874007e-05, 'conv1_out_channels': 25, 'conv2_out_channels': 87, 'kernel_size': 5, 'dropout': 0.266496323996755, 'fc1_out': 185}. Best is trial 1 with value: 0.76.\n"
     ]
    },
    {
     "name": "stdout",
     "output_type": "stream",
     "text": [
      "              precision    recall  f1-score   support\n",
      "\n",
      "        Bach       0.77      0.96      0.86      1015\n",
      "   Beethoven       0.63      0.61      0.62       569\n",
      "      Chopin       0.81      0.34      0.47       325\n",
      "      Mozart       0.49      0.44      0.47       303\n",
      "\n",
      "    accuracy                           0.71      2212\n",
      "   macro avg       0.68      0.59      0.60      2212\n",
      "weighted avg       0.70      0.71      0.69      2212\n",
      "\n",
      "Validation loss: 0.810, Accuracy: 64.15%\n",
      "Validation loss: 0.764, Accuracy: 68.32%\n",
      "Validation loss: 0.675, Accuracy: 72.01%\n"
     ]
    },
    {
     "name": "stderr",
     "output_type": "stream",
     "text": [
      "[I 2024-07-29 09:16:02,948] Trial 15 finished with value: 0.72 and parameters: {'seq_length': 272, 'batch_size': 29, 'lr': 0.0009081562674123753, 'conv1_out_channels': 46, 'conv2_out_channels': 69, 'kernel_size': 4, 'dropout': 0.41797653683350805, 'fc1_out': 83}. Best is trial 1 with value: 0.76.\n"
     ]
    },
    {
     "name": "stdout",
     "output_type": "stream",
     "text": [
      "              precision    recall  f1-score   support\n",
      "\n",
      "        Bach       0.88      0.92      0.90       568\n",
      "   Beethoven       0.64      0.58      0.61       321\n",
      "      Chopin       0.83      0.42      0.56       182\n",
      "      Mozart       0.41      0.62      0.49       170\n",
      "\n",
      "    accuracy                           0.72      1241\n",
      "   macro avg       0.69      0.64      0.64      1241\n",
      "weighted avg       0.75      0.72      0.72      1241\n",
      "\n",
      "Validation loss: 0.912, Accuracy: 60.47%\n",
      "Validation loss: 0.725, Accuracy: 68.62%\n",
      "Validation loss: 0.823, Accuracy: 67.35%\n"
     ]
    },
    {
     "name": "stderr",
     "output_type": "stream",
     "text": [
      "[I 2024-07-29 09:18:23,072] Trial 16 finished with value: 0.72 and parameters: {'seq_length': 292, 'batch_size': 26, 'lr': 0.0010723865878227562, 'conv1_out_channels': 47, 'conv2_out_channels': 78, 'kernel_size': 4, 'dropout': 0.4265042509112188, 'fc1_out': 66}. Best is trial 1 with value: 0.76.\n"
     ]
    },
    {
     "name": "stdout",
     "output_type": "stream",
     "text": [
      "              precision    recall  f1-score   support\n",
      "\n",
      "        Bach       0.92      0.91      0.91       522\n",
      "   Beethoven       0.55      0.85      0.66       302\n",
      "      Chopin       1.00      0.07      0.13       170\n",
      "      Mozart       0.53      0.51      0.52       158\n",
      "\n",
      "    accuracy                           0.72      1152\n",
      "   macro avg       0.75      0.59      0.56      1152\n",
      "weighted avg       0.78      0.72      0.68      1152\n",
      "\n",
      "Validation loss: 0.872, Accuracy: 63.80%\n",
      "Validation loss: 0.827, Accuracy: 65.83%\n",
      "Validation loss: 0.762, Accuracy: 70.58%\n"
     ]
    },
    {
     "name": "stderr",
     "output_type": "stream",
     "text": [
      "[I 2024-07-29 09:20:35,060] Trial 17 finished with value: 0.73 and parameters: {'seq_length': 243, 'batch_size': 46, 'lr': 0.0009264034933402495, 'conv1_out_channels': 54, 'conv2_out_channels': 107, 'kernel_size': 4, 'dropout': 0.4953073723713816, 'fc1_out': 113}. Best is trial 1 with value: 0.76.\n"
     ]
    },
    {
     "name": "stdout",
     "output_type": "stream",
     "text": [
      "              precision    recall  f1-score   support\n",
      "\n",
      "        Bach       0.87      0.94      0.90       634\n",
      "   Beethoven       0.63      0.69      0.66       365\n",
      "      Chopin       0.86      0.30      0.44       207\n",
      "      Mozart       0.45      0.58      0.51       193\n",
      "\n",
      "    accuracy                           0.73      1399\n",
      "   macro avg       0.70      0.63      0.63      1399\n",
      "weighted avg       0.75      0.73      0.72      1399\n",
      "\n",
      "Validation loss: 0.991, Accuracy: 52.86%\n",
      "Validation loss: 0.872, Accuracy: 61.69%\n",
      "Validation loss: 0.820, Accuracy: 65.53%\n"
     ]
    },
    {
     "name": "stderr",
     "output_type": "stream",
     "text": [
      "[I 2024-07-29 09:24:01,100] Trial 18 finished with value: 0.68 and parameters: {'seq_length': 213, 'batch_size': 47, 'lr': 0.00011528815799427998, 'conv1_out_channels': 56, 'conv2_out_channels': 108, 'kernel_size': 6, 'dropout': 0.4934528930905464, 'fc1_out': 115}. Best is trial 1 with value: 0.76.\n"
     ]
    },
    {
     "name": "stdout",
     "output_type": "stream",
     "text": [
      "              precision    recall  f1-score   support\n",
      "\n",
      "        Bach       0.78      0.97      0.86       735\n",
      "   Beethoven       0.59      0.59      0.59       419\n",
      "      Chopin       0.96      0.11      0.20       237\n",
      "      Mozart       0.45      0.51      0.48       219\n",
      "\n",
      "    accuracy                           0.68      1610\n",
      "   macro avg       0.70      0.55      0.53      1610\n",
      "weighted avg       0.71      0.68      0.64      1610\n",
      "\n",
      "Validation loss: 1.021, Accuracy: 58.17%\n",
      "Validation loss: 0.757, Accuracy: 69.85%\n",
      "Validation loss: 0.694, Accuracy: 72.39%\n"
     ]
    },
    {
     "name": "stderr",
     "output_type": "stream",
     "text": [
      "[I 2024-07-29 09:25:43,060] Trial 19 finished with value: 0.75 and parameters: {'seq_length': 344, 'batch_size': 59, 'lr': 0.0014353153437722387, 'conv1_out_channels': 55, 'conv2_out_channels': 125, 'kernel_size': 3, 'dropout': 0.11592192902576809, 'fc1_out': 108}. Best is trial 1 with value: 0.76.\n"
     ]
    },
    {
     "name": "stdout",
     "output_type": "stream",
     "text": [
      "              precision    recall  f1-score   support\n",
      "\n",
      "        Bach       0.88      0.94      0.91       435\n",
      "   Beethoven       0.66      0.69      0.68       253\n",
      "      Chopin       0.84      0.40      0.54       140\n",
      "      Mozart       0.50      0.62      0.55       133\n",
      "\n",
      "    accuracy                           0.75       961\n",
      "   macro avg       0.72      0.66      0.67       961\n",
      "weighted avg       0.76      0.75      0.75       961\n",
      "\n",
      "Validation loss: 1.087, Accuracy: 47.18%\n",
      "Validation loss: 0.972, Accuracy: 55.75%\n",
      "Validation loss: 0.916, Accuracy: 59.83%\n"
     ]
    },
    {
     "name": "stderr",
     "output_type": "stream",
     "text": [
      "[I 2024-07-29 09:27:24,446] Trial 20 finished with value: 0.66 and parameters: {'seq_length': 354, 'batch_size': 63, 'lr': 3.71784933764719e-05, 'conv1_out_channels': 63, 'conv2_out_channels': 124, 'kernel_size': 3, 'dropout': 0.10439276477136572, 'fc1_out': 127}. Best is trial 1 with value: 0.76.\n"
     ]
    },
    {
     "name": "stdout",
     "output_type": "stream",
     "text": [
      "              precision    recall  f1-score   support\n",
      "\n",
      "        Bach       0.78      0.88      0.82       424\n",
      "   Beethoven       0.60      0.64      0.62       245\n",
      "      Chopin       0.97      0.22      0.36       138\n",
      "      Mozart       0.36      0.46      0.40       128\n",
      "\n",
      "    accuracy                           0.66       935\n",
      "   macro avg       0.68      0.55      0.55       935\n",
      "weighted avg       0.70      0.66      0.64       935\n",
      "\n",
      "Validation loss: 0.875, Accuracy: 63.95%\n",
      "Validation loss: 0.780, Accuracy: 67.68%\n",
      "Validation loss: 0.753, Accuracy: 70.92%\n"
     ]
    },
    {
     "name": "stderr",
     "output_type": "stream",
     "text": [
      "[I 2024-07-29 09:29:15,148] Trial 21 finished with value: 0.73 and parameters: {'seq_length': 338, 'batch_size': 54, 'lr': 0.0013504212625227651, 'conv1_out_channels': 54, 'conv2_out_channels': 102, 'kernel_size': 4, 'dropout': 0.1271357667760596, 'fc1_out': 119}. Best is trial 1 with value: 0.76.\n"
     ]
    },
    {
     "name": "stdout",
     "output_type": "stream",
     "text": [
      "              precision    recall  f1-score   support\n",
      "\n",
      "        Bach       0.88      0.93      0.90       439\n",
      "   Beethoven       0.62      0.71      0.66       256\n",
      "      Chopin       0.79      0.23      0.35       144\n",
      "      Mozart       0.49      0.64      0.55       135\n",
      "\n",
      "    accuracy                           0.73       974\n",
      "   macro avg       0.69      0.63      0.62       974\n",
      "weighted avg       0.74      0.73      0.71       974\n",
      "\n",
      "Validation loss: 0.895, Accuracy: 63.47%\n",
      "Validation loss: 0.822, Accuracy: 68.74%\n",
      "Validation loss: 0.800, Accuracy: 69.82%\n"
     ]
    },
    {
     "name": "stderr",
     "output_type": "stream",
     "text": [
      "[I 2024-07-29 09:31:03,952] Trial 22 finished with value: 0.74 and parameters: {'seq_length': 251, 'batch_size': 46, 'lr': 0.0004835408032685037, 'conv1_out_channels': 52, 'conv2_out_channels': 126, 'kernel_size': 3, 'dropout': 0.1347880155666616, 'fc1_out': 93}. Best is trial 1 with value: 0.76.\n"
     ]
    },
    {
     "name": "stdout",
     "output_type": "stream",
     "text": [
      "              precision    recall  f1-score   support\n",
      "\n",
      "        Bach       0.91      0.88      0.89       611\n",
      "   Beethoven       0.64      0.76      0.70       354\n",
      "      Chopin       0.90      0.36      0.51       200\n",
      "      Mozart       0.47      0.66      0.55       186\n",
      "\n",
      "    accuracy                           0.74      1351\n",
      "   macro avg       0.73      0.66      0.66      1351\n",
      "weighted avg       0.78      0.74      0.74      1351\n",
      "\n",
      "Validation loss: 0.843, Accuracy: 64.36%\n",
      "Validation loss: 0.767, Accuracy: 68.73%\n",
      "Validation loss: 0.809, Accuracy: 69.82%\n"
     ]
    },
    {
     "name": "stderr",
     "output_type": "stream",
     "text": [
      "[I 2024-07-29 09:32:35,007] Trial 23 finished with value: 0.77 and parameters: {'seq_length': 312, 'batch_size': 56, 'lr': 0.0004890005156052739, 'conv1_out_channels': 43, 'conv2_out_channels': 128, 'kernel_size': 3, 'dropout': 0.12591644717574563, 'fc1_out': 98}. Best is trial 23 with value: 0.77.\n"
     ]
    },
    {
     "name": "stdout",
     "output_type": "stream",
     "text": [
      "              precision    recall  f1-score   support\n",
      "\n",
      "        Bach       0.87      0.95      0.91       483\n",
      "   Beethoven       0.68      0.76      0.72       282\n",
      "      Chopin       0.77      0.52      0.62       158\n",
      "      Mozart       0.57      0.48      0.52       147\n",
      "\n",
      "    accuracy                           0.77      1070\n",
      "   macro avg       0.72      0.68      0.69      1070\n",
      "weighted avg       0.76      0.77      0.76      1070\n",
      "\n",
      "Validation loss: 0.928, Accuracy: 59.11%\n",
      "Validation loss: 0.905, Accuracy: 62.27%\n",
      "Validation loss: 0.799, Accuracy: 67.94%\n"
     ]
    },
    {
     "name": "stderr",
     "output_type": "stream",
     "text": [
      "[I 2024-07-29 09:34:09,057] Trial 24 finished with value: 0.69 and parameters: {'seq_length': 319, 'batch_size': 57, 'lr': 0.0018495118744279698, 'conv1_out_channels': 44, 'conv2_out_channels': 128, 'kernel_size': 3, 'dropout': 0.23190263299113295, 'fc1_out': 132}. Best is trial 23 with value: 0.77.\n"
     ]
    },
    {
     "name": "stdout",
     "output_type": "stream",
     "text": [
      "              precision    recall  f1-score   support\n",
      "\n",
      "        Bach       0.79      0.95      0.86       470\n",
      "   Beethoven       0.65      0.53      0.58       278\n",
      "      Chopin       0.89      0.27      0.42       155\n",
      "      Mozart       0.43      0.63      0.51       145\n",
      "\n",
      "    accuracy                           0.69      1048\n",
      "   macro avg       0.69      0.59      0.59      1048\n",
      "weighted avg       0.72      0.69      0.67      1048\n",
      "\n",
      "Validation loss: 0.918, Accuracy: 59.83%\n",
      "Validation loss: 0.832, Accuracy: 66.03%\n",
      "Validation loss: 0.809, Accuracy: 69.02%\n"
     ]
    },
    {
     "name": "stderr",
     "output_type": "stream",
     "text": [
      "[I 2024-07-29 09:35:37,867] Trial 25 finished with value: 0.76 and parameters: {'seq_length': 363, 'batch_size': 58, 'lr': 0.0004936869588228018, 'conv1_out_channels': 43, 'conv2_out_channels': 117, 'kernel_size': 3, 'dropout': 0.08225056916476936, 'fc1_out': 99}. Best is trial 23 with value: 0.77.\n"
     ]
    },
    {
     "name": "stdout",
     "output_type": "stream",
     "text": [
      "              precision    recall  f1-score   support\n",
      "\n",
      "        Bach       0.88      0.93      0.91       414\n",
      "   Beethoven       0.68      0.73      0.70       240\n",
      "      Chopin       0.82      0.50      0.62       136\n",
      "      Mozart       0.51      0.55      0.53       124\n",
      "\n",
      "    accuracy                           0.76       914\n",
      "   macro avg       0.72      0.68      0.69       914\n",
      "weighted avg       0.77      0.76      0.76       914\n",
      "\n",
      "Validation loss: 1.019, Accuracy: 56.28%\n",
      "Validation loss: 0.769, Accuracy: 67.10%\n",
      "Validation loss: 0.743, Accuracy: 68.63%\n"
     ]
    },
    {
     "name": "stderr",
     "output_type": "stream",
     "text": [
      "[I 2024-07-29 09:37:31,258] Trial 26 finished with value: 0.76 and parameters: {'seq_length': 371, 'batch_size': 41, 'lr': 0.00048395834740795217, 'conv1_out_channels': 42, 'conv2_out_channels': 115, 'kernel_size': 4, 'dropout': 0.07371681328074636, 'fc1_out': 67}. Best is trial 23 with value: 0.77.\n"
     ]
    },
    {
     "name": "stdout",
     "output_type": "stream",
     "text": [
      "              precision    recall  f1-score   support\n",
      "\n",
      "        Bach       0.85      0.97      0.90       405\n",
      "   Beethoven       0.66      0.74      0.70       235\n",
      "      Chopin       0.91      0.31      0.46       131\n",
      "      Mozart       0.57      0.58      0.58       122\n",
      "\n",
      "    accuracy                           0.76       893\n",
      "   macro avg       0.75      0.65      0.66       893\n",
      "weighted avg       0.77      0.76      0.74       893\n",
      "\n",
      "Validation loss: 0.913, Accuracy: 58.87%\n",
      "Validation loss: 0.878, Accuracy: 61.69%\n",
      "Validation loss: 0.812, Accuracy: 66.46%\n"
     ]
    },
    {
     "name": "stderr",
     "output_type": "stream",
     "text": [
      "[I 2024-07-29 09:40:08,076] Trial 27 finished with value: 0.69 and parameters: {'seq_length': 303, 'batch_size': 52, 'lr': 0.00015522636058910684, 'conv1_out_channels': 42, 'conv2_out_channels': 101, 'kernel_size': 6, 'dropout': 0.15769072754244323, 'fc1_out': 97}. Best is trial 23 with value: 0.77.\n"
     ]
    },
    {
     "name": "stdout",
     "output_type": "stream",
     "text": [
      "              precision    recall  f1-score   support\n",
      "\n",
      "        Bach       0.77      0.96      0.85       499\n",
      "   Beethoven       0.61      0.57      0.59       293\n",
      "      Chopin       0.97      0.23      0.38       163\n",
      "      Mozart       0.45      0.51      0.48       153\n",
      "\n",
      "    accuracy                           0.69      1108\n",
      "   macro avg       0.70      0.57      0.57      1108\n",
      "weighted avg       0.71      0.69      0.66      1108\n",
      "\n",
      "Validation loss: 0.923, Accuracy: 56.43%\n",
      "Validation loss: 0.794, Accuracy: 65.30%\n",
      "Validation loss: 0.790, Accuracy: 67.78%\n"
     ]
    },
    {
     "name": "stderr",
     "output_type": "stream",
     "text": [
      "[I 2024-07-29 09:41:35,844] Trial 28 finished with value: 0.72 and parameters: {'seq_length': 368, 'batch_size': 59, 'lr': 0.0001876386726680787, 'conv1_out_channels': 60, 'conv2_out_channels': 49, 'kernel_size': 3, 'dropout': 0.2258410439628901, 'fc1_out': 182}. Best is trial 23 with value: 0.77.\n"
     ]
    },
    {
     "name": "stdout",
     "output_type": "stream",
     "text": [
      "              precision    recall  f1-score   support\n",
      "\n",
      "        Bach       0.81      0.96      0.88       409\n",
      "   Beethoven       0.68      0.55      0.61       235\n",
      "      Chopin       0.81      0.49      0.61       132\n",
      "      Mozart       0.44      0.52      0.48       123\n",
      "\n",
      "    accuracy                           0.72       899\n",
      "   macro avg       0.69      0.63      0.64       899\n",
      "weighted avg       0.73      0.72      0.71       899\n",
      "\n",
      "Validation loss: 0.864, Accuracy: 64.91%\n",
      "Validation loss: 0.779, Accuracy: 68.21%\n",
      "Validation loss: 0.808, Accuracy: 67.87%\n"
     ]
    },
    {
     "name": "stderr",
     "output_type": "stream",
     "text": [
      "[I 2024-07-29 09:43:19,783] Trial 29 finished with value: 0.7 and parameters: {'seq_length': 174, 'batch_size': 64, 'lr': 0.0005287189988566115, 'conv1_out_channels': 38, 'conv2_out_channels': 83, 'kernel_size': 4, 'dropout': 0.012879266348834198, 'fc1_out': 140}. Best is trial 23 with value: 0.77.\n"
     ]
    },
    {
     "name": "stdout",
     "output_type": "stream",
     "text": [
      "              precision    recall  f1-score   support\n",
      "\n",
      "        Bach       0.92      0.85      0.88       909\n",
      "   Beethoven       0.62      0.67      0.65       513\n",
      "      Chopin       0.88      0.29      0.43       294\n",
      "      Mozart       0.40      0.74      0.52       271\n",
      "\n",
      "    accuracy                           0.70      1987\n",
      "   macro avg       0.70      0.64      0.62      1987\n",
      "weighted avg       0.76      0.70      0.70      1987\n",
      "\n",
      "Validation loss: 0.973, Accuracy: 53.96%\n",
      "Validation loss: 0.972, Accuracy: 56.06%\n",
      "Validation loss: 0.952, Accuracy: 58.45%\n"
     ]
    },
    {
     "name": "stderr",
     "output_type": "stream",
     "text": [
      "[I 2024-07-29 09:46:00,296] Trial 30 finished with value: 0.67 and parameters: {'seq_length': 327, 'batch_size': 50, 'lr': 4.2806524024584227e-05, 'conv1_out_channels': 50, 'conv2_out_channels': 92, 'kernel_size': 7, 'dropout': 0.08009366444956678, 'fc1_out': 220}. Best is trial 23 with value: 0.77.\n"
     ]
    },
    {
     "name": "stdout",
     "output_type": "stream",
     "text": [
      "              precision    recall  f1-score   support\n",
      "\n",
      "        Bach       0.76      0.90      0.82       458\n",
      "   Beethoven       0.57      0.67      0.62       268\n",
      "      Chopin       0.91      0.21      0.35       150\n",
      "      Mozart       0.43      0.37      0.40       142\n",
      "\n",
      "    accuracy                           0.67      1018\n",
      "   macro avg       0.67      0.54      0.55      1018\n",
      "weighted avg       0.69      0.67      0.64      1018\n",
      "\n",
      "Validation loss: 0.930, Accuracy: 60.98%\n",
      "Validation loss: 1.033, Accuracy: 61.09%\n",
      "Validation loss: 0.898, Accuracy: 66.89%\n"
     ]
    },
    {
     "name": "stderr",
     "output_type": "stream",
     "text": [
      "[I 2024-07-29 09:47:55,301] Trial 31 finished with value: 0.77 and parameters: {'seq_length': 371, 'batch_size': 40, 'lr': 0.0005707367253659844, 'conv1_out_channels': 42, 'conv2_out_channels': 117, 'kernel_size': 4, 'dropout': 0.06731089991231543, 'fc1_out': 65}. Best is trial 23 with value: 0.77.\n"
     ]
    },
    {
     "name": "stdout",
     "output_type": "stream",
     "text": [
      "              precision    recall  f1-score   support\n",
      "\n",
      "        Bach       0.84      0.98      0.90       405\n",
      "   Beethoven       0.67      0.75      0.71       235\n",
      "      Chopin       0.81      0.52      0.63       131\n",
      "      Mozart       0.63      0.36      0.46       122\n",
      "\n",
      "    accuracy                           0.77       893\n",
      "   macro avg       0.74      0.65      0.68       893\n",
      "weighted avg       0.76      0.77      0.75       893\n",
      "\n",
      "Validation loss: 0.930, Accuracy: 57.96%\n",
      "Validation loss: 0.790, Accuracy: 69.25%\n",
      "Validation loss: 0.820, Accuracy: 69.36%\n"
     ]
    },
    {
     "name": "stderr",
     "output_type": "stream",
     "text": [
      "[I 2024-07-29 09:49:27,935] Trial 32 finished with value: 0.74 and parameters: {'seq_length': 375, 'batch_size': 41, 'lr': 0.0005227842631095248, 'conv1_out_channels': 34, 'conv2_out_channels': 118, 'kernel_size': 3, 'dropout': 0.17174382985545067, 'fc1_out': 79}. Best is trial 23 with value: 0.77.\n"
     ]
    },
    {
     "name": "stdout",
     "output_type": "stream",
     "text": [
      "              precision    recall  f1-score   support\n",
      "\n",
      "        Bach       0.87      0.96      0.91       401\n",
      "   Beethoven       0.66      0.60      0.63       231\n",
      "      Chopin       0.83      0.42      0.56       129\n",
      "      Mozart       0.47      0.63      0.54       121\n",
      "\n",
      "    accuracy                           0.74       882\n",
      "   macro avg       0.71      0.65      0.66       882\n",
      "weighted avg       0.75      0.74      0.73       882\n",
      "\n",
      "Validation loss: 0.998, Accuracy: 57.31%\n",
      "Validation loss: 0.872, Accuracy: 65.96%\n",
      "Validation loss: 0.780, Accuracy: 69.01%\n"
     ]
    },
    {
     "name": "stderr",
     "output_type": "stream",
     "text": [
      "[I 2024-07-29 09:51:50,266] Trial 33 finished with value: 0.77 and parameters: {'seq_length': 396, 'batch_size': 33, 'lr': 0.000656531330002459, 'conv1_out_channels': 43, 'conv2_out_channels': 102, 'kernel_size': 5, 'dropout': 0.032405999620516546, 'fc1_out': 99}. Best is trial 23 with value: 0.77.\n"
     ]
    },
    {
     "name": "stdout",
     "output_type": "stream",
     "text": [
      "              precision    recall  f1-score   support\n",
      "\n",
      "        Bach       0.92      0.91      0.91       374\n",
      "   Beethoven       0.70      0.73      0.72       220\n",
      "      Chopin       0.80      0.63      0.71       122\n",
      "      Mozart       0.47      0.55      0.51       113\n",
      "\n",
      "    accuracy                           0.77       829\n",
      "   macro avg       0.72      0.71      0.71       829\n",
      "weighted avg       0.78      0.77      0.78       829\n",
      "\n",
      "Validation loss: 0.848, Accuracy: 64.30%\n",
      "Validation loss: 0.757, Accuracy: 69.42%\n",
      "Validation loss: 0.767, Accuracy: 70.35%\n"
     ]
    },
    {
     "name": "stderr",
     "output_type": "stream",
     "text": [
      "[I 2024-07-29 09:54:47,706] Trial 34 finished with value: 0.75 and parameters: {'seq_length': 393, 'batch_size': 23, 'lr': 0.00018087036470284382, 'conv1_out_channels': 49, 'conv2_out_channels': 101, 'kernel_size': 5, 'dropout': 0.04591098960604342, 'fc1_out': 171}. Best is trial 23 with value: 0.77.\n"
     ]
    },
    {
     "name": "stdout",
     "output_type": "stream",
     "text": [
      "              precision    recall  f1-score   support\n",
      "\n",
      "        Bach       0.87      0.92      0.90       378\n",
      "   Beethoven       0.69      0.69      0.69       220\n",
      "      Chopin       0.85      0.52      0.65       123\n",
      "      Mozart       0.45      0.56      0.50       114\n",
      "\n",
      "    accuracy                           0.75       835\n",
      "   macro avg       0.72      0.67      0.68       835\n",
      "weighted avg       0.76      0.75      0.75       835\n",
      "\n",
      "Validation loss: 0.803, Accuracy: 64.47%\n",
      "Validation loss: 0.810, Accuracy: 65.29%\n",
      "Validation loss: 0.866, Accuracy: 64.59%\n"
     ]
    },
    {
     "name": "stderr",
     "output_type": "stream",
     "text": [
      "[I 2024-07-29 09:57:27,274] Trial 35 finished with value: 0.72 and parameters: {'seq_length': 398, 'batch_size': 34, 'lr': 0.002239713012421827, 'conv1_out_channels': 29, 'conv2_out_channels': 108, 'kernel_size': 6, 'dropout': 0.0030535372390478183, 'fc1_out': 228}. Best is trial 23 with value: 0.77.\n"
     ]
    },
    {
     "name": "stdout",
     "output_type": "stream",
     "text": [
      "              precision    recall  f1-score   support\n",
      "\n",
      "        Bach       0.90      0.88      0.89       372\n",
      "   Beethoven       0.59      0.86      0.70       220\n",
      "      Chopin       0.78      0.36      0.49       121\n",
      "      Mozart       0.41      0.31      0.35       113\n",
      "\n",
      "    accuracy                           0.72       826\n",
      "   macro avg       0.67      0.60      0.61       826\n",
      "weighted avg       0.73      0.72      0.71       826\n",
      "\n",
      "Validation loss: 0.866, Accuracy: 63.93%\n",
      "Validation loss: 0.854, Accuracy: 64.63%\n",
      "Validation loss: 0.823, Accuracy: 68.84%\n"
     ]
    },
    {
     "name": "stderr",
     "output_type": "stream",
     "text": [
      "[I 2024-07-29 09:59:37,588] Trial 36 finished with value: 0.75 and parameters: {'seq_length': 342, 'batch_size': 42, 'lr': 0.0007114303368630536, 'conv1_out_channels': 39, 'conv2_out_channels': 96, 'kernel_size': 5, 'dropout': 0.04906935679272026, 'fc1_out': 77}. Best is trial 23 with value: 0.77.\n"
     ]
    },
    {
     "name": "stdout",
     "output_type": "stream",
     "text": [
      "              precision    recall  f1-score   support\n",
      "\n",
      "        Bach       0.87      0.93      0.90       437\n",
      "   Beethoven       0.64      0.82      0.72       255\n",
      "      Chopin       0.87      0.28      0.43       142\n",
      "      Mozart       0.59      0.55      0.57       133\n",
      "\n",
      "    accuracy                           0.75       967\n",
      "   macro avg       0.74      0.65      0.65       967\n",
      "weighted avg       0.77      0.75      0.74       967\n",
      "\n",
      "[Epoch 1, Batch 1000] loss: 0.975\n",
      "Validation loss: 0.809, Accuracy: 65.37%\n",
      "[Epoch 2, Batch 1000] loss: 0.661\n",
      "Validation loss: 0.824, Accuracy: 65.63%\n",
      "[Epoch 3, Batch 1000] loss: 0.501\n",
      "Validation loss: 0.839, Accuracy: 69.53%\n"
     ]
    },
    {
     "name": "stderr",
     "output_type": "stream",
     "text": [
      "[I 2024-07-29 10:00:37,990] Trial 37 finished with value: 0.73 and parameters: {'seq_length': 304, 'batch_size': 9, 'lr': 0.00035494641378096205, 'conv1_out_channels': 45, 'conv2_out_channels': 122, 'kernel_size': 4, 'dropout': 0.3005905306196356, 'fc1_out': 256}. Best is trial 23 with value: 0.77.\n"
     ]
    },
    {
     "name": "stdout",
     "output_type": "stream",
     "text": [
      "              precision    recall  f1-score   support\n",
      "\n",
      "        Bach       0.82      0.95      0.88       498\n",
      "   Beethoven       0.67      0.70      0.68       292\n",
      "      Chopin       0.90      0.32      0.47       163\n",
      "      Mozart       0.44      0.48      0.46       151\n",
      "\n",
      "    accuracy                           0.73      1104\n",
      "   macro avg       0.71      0.61      0.62      1104\n",
      "weighted avg       0.74      0.73      0.71      1104\n",
      "\n",
      "Validation loss: 0.928, Accuracy: 58.53%\n",
      "Validation loss: 0.833, Accuracy: 65.55%\n",
      "Validation loss: 0.842, Accuracy: 67.22%\n"
     ]
    },
    {
     "name": "stderr",
     "output_type": "stream",
     "text": [
      "[I 2024-07-29 10:03:59,049] Trial 38 finished with value: 0.76 and parameters: {'seq_length': 379, 'batch_size': 22, 'lr': 0.00019819191830226286, 'conv1_out_channels': 35, 'conv2_out_channels': 112, 'kernel_size': 6, 'dropout': 0.20093893486853837, 'fc1_out': 100}. Best is trial 23 with value: 0.77.\n"
     ]
    },
    {
     "name": "stdout",
     "output_type": "stream",
     "text": [
      "              precision    recall  f1-score   support\n",
      "\n",
      "        Bach       0.83      0.97      0.89       396\n",
      "   Beethoven       0.70      0.72      0.71       230\n",
      "      Chopin       0.80      0.46      0.58       129\n",
      "      Mozart       0.52      0.44      0.47       119\n",
      "\n",
      "    accuracy                           0.76       874\n",
      "   macro avg       0.71      0.65      0.66       874\n",
      "weighted avg       0.75      0.76      0.74       874\n",
      "\n",
      "Validation loss: 0.832, Accuracy: 64.35%\n",
      "Validation loss: 0.883, Accuracy: 65.08%\n",
      "Validation loss: 0.680, Accuracy: 72.36%\n"
     ]
    },
    {
     "name": "stderr",
     "output_type": "stream",
     "text": [
      "[I 2024-07-29 10:05:51,154] Trial 39 finished with value: 0.72 and parameters: {'seq_length': 357, 'batch_size': 36, 'lr': 0.0006806753630463215, 'conv1_out_channels': 41, 'conv2_out_channels': 71, 'kernel_size': 4, 'dropout': 0.09863432798341182, 'fc1_out': 73}. Best is trial 23 with value: 0.77.\n"
     ]
    },
    {
     "name": "stdout",
     "output_type": "stream",
     "text": [
      "              precision    recall  f1-score   support\n",
      "\n",
      "        Bach       0.89      0.92      0.90       421\n",
      "   Beethoven       0.67      0.64      0.65       243\n",
      "      Chopin       0.88      0.25      0.39       138\n",
      "      Mozart       0.43      0.75      0.54       126\n",
      "\n",
      "    accuracy                           0.72       928\n",
      "   macro avg       0.71      0.64      0.62       928\n",
      "weighted avg       0.77      0.72      0.71       928\n",
      "\n",
      "Validation loss: 0.899, Accuracy: 60.02%\n",
      "Validation loss: 0.800, Accuracy: 68.64%\n",
      "Validation loss: 0.731, Accuracy: 69.70%\n"
     ]
    },
    {
     "name": "stderr",
     "output_type": "stream",
     "text": [
      "[I 2024-07-29 10:07:57,839] Trial 40 finished with value: 0.71 and parameters: {'seq_length': 331, 'batch_size': 32, 'lr': 0.00024431153779053946, 'conv1_out_channels': 31, 'conv2_out_channels': 87, 'kernel_size': 5, 'dropout': 0.2845953017968977, 'fc1_out': 90}. Best is trial 23 with value: 0.77.\n"
     ]
    },
    {
     "name": "stdout",
     "output_type": "stream",
     "text": [
      "              precision    recall  f1-score   support\n",
      "\n",
      "        Bach       0.81      0.93      0.87       453\n",
      "   Beethoven       0.64      0.72      0.68       263\n",
      "      Chopin       0.84      0.21      0.34       147\n",
      "      Mozart       0.49      0.54      0.51       140\n",
      "\n",
      "    accuracy                           0.71      1003\n",
      "   macro avg       0.70      0.60      0.60      1003\n",
      "weighted avg       0.73      0.71      0.69      1003\n",
      "\n",
      "Validation loss: 0.962, Accuracy: 56.31%\n",
      "Validation loss: 0.893, Accuracy: 62.99%\n",
      "Validation loss: 0.895, Accuracy: 66.38%\n"
     ]
    },
    {
     "name": "stderr",
     "output_type": "stream",
     "text": [
      "[I 2024-07-29 10:09:26,331] Trial 41 finished with value: 0.71 and parameters: {'seq_length': 361, 'batch_size': 56, 'lr': 0.00033425600878654116, 'conv1_out_channels': 43, 'conv2_out_channels': 119, 'kernel_size': 3, 'dropout': 0.030044286278525484, 'fc1_out': 125}. Best is trial 23 with value: 0.77.\n"
     ]
    },
    {
     "name": "stdout",
     "output_type": "stream",
     "text": [
      "              precision    recall  f1-score   support\n",
      "\n",
      "        Bach       0.79      0.97      0.87       415\n",
      "   Beethoven       0.64      0.72      0.68       240\n",
      "      Chopin       0.90      0.14      0.24       137\n",
      "      Mozart       0.53      0.48      0.50       124\n",
      "\n",
      "    accuracy                           0.71       916\n",
      "   macro avg       0.71      0.58      0.57       916\n",
      "weighted avg       0.73      0.71      0.67       916\n",
      "\n",
      "Validation loss: 1.161, Accuracy: 44.24%\n",
      "Validation loss: 1.058, Accuracy: 49.56%\n",
      "Validation loss: 0.999, Accuracy: 52.33%\n"
     ]
    },
    {
     "name": "stderr",
     "output_type": "stream",
     "text": [
      "[I 2024-07-29 10:11:15,042] Trial 42 finished with value: 0.6 and parameters: {'seq_length': 377, 'batch_size': 44, 'lr': 1.1481591125543599e-05, 'conv1_out_channels': 40, 'conv2_out_channels': 115, 'kernel_size': 4, 'dropout': 0.0890051833753377, 'fc1_out': 104}. Best is trial 23 with value: 0.77.\n"
     ]
    },
    {
     "name": "stdout",
     "output_type": "stream",
     "text": [
      "              precision    recall  f1-score   support\n",
      "\n",
      "        Bach       0.70      0.85      0.77       399\n",
      "   Beethoven       0.54      0.54      0.54       230\n",
      "      Chopin       0.87      0.20      0.33       129\n",
      "      Mozart       0.30      0.32      0.31       120\n",
      "\n",
      "    accuracy                           0.60       878\n",
      "   macro avg       0.60      0.48      0.49       878\n",
      "weighted avg       0.63      0.60      0.58       878\n",
      "\n",
      "Validation loss: 0.874, Accuracy: 61.10%\n",
      "Validation loss: 0.795, Accuracy: 66.94%\n",
      "Validation loss: 0.762, Accuracy: 71.03%\n"
     ]
    },
    {
     "name": "stderr",
     "output_type": "stream",
     "text": [
      "[I 2024-07-29 10:13:02,345] Trial 43 finished with value: 0.76 and parameters: {'seq_length': 395, 'batch_size': 38, 'lr': 0.00043061824431123825, 'conv1_out_channels': 50, 'conv2_out_channels': 121, 'kernel_size': 3, 'dropout': 0.14931150053820336, 'fc1_out': 147}. Best is trial 23 with value: 0.77.\n"
     ]
    },
    {
     "name": "stdout",
     "output_type": "stream",
     "text": [
      "              precision    recall  f1-score   support\n",
      "\n",
      "        Bach       0.83      0.97      0.89       374\n",
      "   Beethoven       0.69      0.70      0.70       220\n",
      "      Chopin       0.92      0.39      0.55       123\n",
      "      Mozart       0.54      0.56      0.55       114\n",
      "\n",
      "    accuracy                           0.76       831\n",
      "   macro avg       0.74      0.66      0.67       831\n",
      "weighted avg       0.77      0.76      0.74       831\n",
      "\n",
      "Validation loss: 0.806, Accuracy: 66.56%\n",
      "Validation loss: 0.931, Accuracy: 63.98%\n",
      "Validation loss: 0.873, Accuracy: 68.32%\n"
     ]
    },
    {
     "name": "stderr",
     "output_type": "stream",
     "text": [
      "[I 2024-07-29 10:15:03,257] Trial 44 finished with value: 0.77 and parameters: {'seq_length': 350, 'batch_size': 31, 'lr': 0.0006240836248522881, 'conv1_out_channels': 36, 'conv2_out_channels': 110, 'kernel_size': 4, 'dropout': 0.06218267106577346, 'fc1_out': 92}. Best is trial 23 with value: 0.77.\n"
     ]
    },
    {
     "name": "stdout",
     "output_type": "stream",
     "text": [
      "              precision    recall  f1-score   support\n",
      "\n",
      "        Bach       0.84      0.96      0.89       429\n",
      "   Beethoven       0.69      0.72      0.71       247\n",
      "      Chopin       0.81      0.52      0.63       138\n",
      "      Mozart       0.61      0.49      0.54       130\n",
      "\n",
      "    accuracy                           0.77       944\n",
      "   macro avg       0.74      0.67      0.70       944\n",
      "weighted avg       0.76      0.77      0.76       944\n",
      "\n",
      "Validation loss: 0.872, Accuracy: 60.38%\n",
      "Validation loss: 0.904, Accuracy: 64.94%\n",
      "Validation loss: 0.839, Accuracy: 64.94%\n"
     ]
    },
    {
     "name": "stderr",
     "output_type": "stream",
     "text": [
      "[I 2024-07-29 10:17:26,852] Trial 45 finished with value: 0.66 and parameters: {'seq_length': 307, 'batch_size': 30, 'lr': 0.004847270184263602, 'conv1_out_channels': 35, 'conv2_out_channels': 111, 'kernel_size': 5, 'dropout': 0.02914233905581273, 'fc1_out': 89}. Best is trial 23 with value: 0.77.\n"
     ]
    },
    {
     "name": "stdout",
     "output_type": "stream",
     "text": [
      "              precision    recall  f1-score   support\n",
      "\n",
      "        Bach       0.85      0.87      0.86       490\n",
      "   Beethoven       0.52      0.71      0.60       289\n",
      "      Chopin       0.75      0.09      0.17       161\n",
      "      Mozart       0.40      0.48      0.43       149\n",
      "\n",
      "    accuracy                           0.66      1089\n",
      "   macro avg       0.63      0.54      0.52      1089\n",
      "weighted avg       0.69      0.66      0.63      1089\n",
      "\n",
      "Validation loss: 0.965, Accuracy: 59.95%\n",
      "Validation loss: 0.884, Accuracy: 63.95%\n",
      "Validation loss: 0.815, Accuracy: 70.39%\n"
     ]
    },
    {
     "name": "stderr",
     "output_type": "stream",
     "text": [
      "[I 2024-07-29 10:19:38,670] Trial 46 finished with value: 0.73 and parameters: {'seq_length': 282, 'batch_size': 25, 'lr': 0.0015048480258621451, 'conv1_out_channels': 38, 'conv2_out_channels': 96, 'kernel_size': 4, 'dropout': 0.051013034540517574, 'fc1_out': 73}. Best is trial 23 with value: 0.77.\n"
     ]
    },
    {
     "name": "stdout",
     "output_type": "stream",
     "text": [
      "              precision    recall  f1-score   support\n",
      "\n",
      "        Bach       0.85      0.93      0.89       542\n",
      "   Beethoven       0.68      0.64      0.66       312\n",
      "      Chopin       0.73      0.41      0.53       176\n",
      "      Mozart       0.46      0.59      0.52       161\n",
      "\n",
      "    accuracy                           0.73      1191\n",
      "   macro avg       0.68      0.64      0.65      1191\n",
      "weighted avg       0.74      0.73      0.73      1191\n",
      "\n",
      "Validation loss: 0.831, Accuracy: 61.12%\n",
      "Validation loss: 0.710, Accuracy: 68.38%\n",
      "Validation loss: 0.712, Accuracy: 71.51%\n"
     ]
    },
    {
     "name": "stderr",
     "output_type": "stream",
     "text": [
      "[I 2024-07-29 10:21:49,916] Trial 47 finished with value: 0.78 and parameters: {'seq_length': 380, 'batch_size': 32, 'lr': 0.0006434991237428812, 'conv1_out_channels': 32, 'conv2_out_channels': 105, 'kernel_size': 5, 'dropout': 0.3457951897506454, 'fc1_out': 166}. Best is trial 47 with value: 0.78.\n"
     ]
    },
    {
     "name": "stdout",
     "output_type": "stream",
     "text": [
      "              precision    recall  f1-score   support\n",
      "\n",
      "        Bach       0.92      0.93      0.92       395\n",
      "   Beethoven       0.69      0.76      0.72       229\n",
      "      Chopin       0.90      0.43      0.59       129\n",
      "      Mozart       0.50      0.69      0.58       118\n",
      "\n",
      "    accuracy                           0.78       871\n",
      "   macro avg       0.75      0.70      0.70       871\n",
      "weighted avg       0.80      0.78      0.77       871\n",
      "\n",
      "Validation loss: 0.826, Accuracy: 62.74%\n",
      "Validation loss: 0.763, Accuracy: 68.46%\n",
      "Validation loss: 0.732, Accuracy: 70.26%\n"
     ]
    },
    {
     "name": "stderr",
     "output_type": "stream",
     "text": [
      "[I 2024-07-29 10:23:55,945] Trial 48 finished with value: 0.68 and parameters: {'seq_length': 381, 'batch_size': 31, 'lr': 0.0007618519947339772, 'conv1_out_channels': 27, 'conv2_out_channels': 104, 'kernel_size': 5, 'dropout': 0.34933559817592946, 'fc1_out': 170}. Best is trial 47 with value: 0.78.\n"
     ]
    },
    {
     "name": "stdout",
     "output_type": "stream",
     "text": [
      "              precision    recall  f1-score   support\n",
      "\n",
      "        Bach       0.93      0.83      0.88       394\n",
      "   Beethoven       0.60      0.64      0.62       227\n",
      "      Chopin       0.89      0.19      0.32       129\n",
      "      Mozart       0.38      0.80      0.52       117\n",
      "\n",
      "    accuracy                           0.68       867\n",
      "   macro avg       0.70      0.62      0.58       867\n",
      "weighted avg       0.77      0.68      0.68       867\n",
      "\n",
      "Validation loss: 0.847, Accuracy: 64.93%\n",
      "Validation loss: 0.824, Accuracy: 67.18%\n",
      "Validation loss: 0.773, Accuracy: 71.56%\n"
     ]
    },
    {
     "name": "stderr",
     "output_type": "stream",
     "text": [
      "[I 2024-07-29 10:26:03,689] Trial 49 finished with value: 0.73 and parameters: {'seq_length': 346, 'batch_size': 20, 'lr': 0.0010977946345803401, 'conv1_out_channels': 23, 'conv2_out_channels': 98, 'kernel_size': 5, 'dropout': 0.06136179261795735, 'fc1_out': 158}. Best is trial 47 with value: 0.78.\n"
     ]
    },
    {
     "name": "stdout",
     "output_type": "stream",
     "text": [
      "              precision    recall  f1-score   support\n",
      "\n",
      "        Bach       0.91      0.89      0.90       433\n",
      "   Beethoven       0.64      0.64      0.64       252\n",
      "      Chopin       0.91      0.44      0.59       140\n",
      "      Mozart       0.42      0.66      0.51       133\n",
      "\n",
      "    accuracy                           0.73       958\n",
      "   macro avg       0.72      0.66      0.66       958\n",
      "weighted avg       0.77      0.73      0.73       958\n",
      "\n"
     ]
    }
   ],
   "source": [
    "import optuna\n",
    "\n",
    "def objective(trial):\n",
    "    # Define the hyperparameter search space\n",
    "    h_params = {\n",
    "        'use_chroma': False,\n",
    "        'seq_length': trial.suggest_int('seq_length', 50, 400),\n",
    "        'batch_size': trial.suggest_int('batch_size', 2, 64),\n",
    "        'lr': trial.suggest_float('lr', 1e-5, 1e-2, log=True),\n",
    "        'num_epochs': 3,\n",
    "        'conv1_out_channels': trial.suggest_int('conv1_out_channels', 16, 64),\n",
    "        'conv2_out_channels': trial.suggest_int('conv2_out_channels', 32, 128),\n",
    "        'kernel_size': trial.suggest_int('kernel_size', 3, 9),\n",
    "        'stride': 1,\n",
    "        'pool_kernel_size': 2,\n",
    "        'pool_stride': 2,\n",
    "        'dropout': trial.suggest_float('dropout', 0.0, 0.5),\n",
    "        'fc1_out': trial.suggest_int('fc1_out', 64, 256)\n",
    "    }\n",
    "\n",
    "    model, test_loader = training_run(h_params)\n",
    "    report, _, _ = evaluate_performance(model, test_loader)\n",
    "\n",
    "    return float(report.split('\\n')[7].split()[1])\n",
    "\n",
    "study = optuna.create_study(direction='maximize')\n",
    "study.optimize(objective, n_trials=50)"
   ]
  },
  {
   "cell_type": "code",
   "execution_count": null,
   "id": "7693fca6",
   "metadata": {},
   "outputs": [
    {
     "name": "stdout",
     "output_type": "stream",
     "text": [
      "{'seq_length': 380, 'batch_size': 32, 'lr': 0.0006434991237428812, 'conv1_out_channels': 32, 'conv2_out_channels': 105, 'kernel_size': 5, 'dropout': 0.3457951897506454, 'fc1_out': 166}\n",
      "0.78\n"
     ]
    }
   ],
   "source": [
    "# Get results from the optimization\n",
    "\n",
    "print(study.best_params)\n",
    "print(study.best_value)"
   ]
  }
 ],
 "metadata": {
  "kernelspec": {
   "display_name": "Python 3",
   "language": "python",
   "name": "python3"
  },
  "language_info": {
   "codemirror_mode": {
    "name": "ipython",
    "version": 3
   },
   "file_extension": ".py",
   "mimetype": "text/x-python",
   "name": "python",
   "nbconvert_exporter": "python",
   "pygments_lexer": "ipython3",
   "version": "3.10.13"
  }
 },
 "nbformat": 4,
 "nbformat_minor": 5
}
