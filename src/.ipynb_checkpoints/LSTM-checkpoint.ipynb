{
 "cells": [
  {
   "cell_type": "markdown",
   "id": "ca34d902-66b9-4b7c-8ca1-7bd8f68544e3",
   "metadata": {},
   "source": [
    "## Import libraries and Data"
   ]
  },
  {
   "cell_type": "code",
   "execution_count": 1,
   "id": "d2fea45111280c3e",
   "metadata": {
    "ExecuteTime": {
     "end_time": "2024-08-01T02:00:10.840483Z",
     "start_time": "2024-08-01T02:00:10.836515Z"
    }
   },
   "outputs": [],
   "source": [
    "import matplotlib.pyplot as plt\n",
    "import numpy as np\n",
    "import pandas as pd\n",
    "import seaborn as sns\n",
    "import torch\n",
    "import torch.nn as nn\n",
    "import torch.nn.functional as F\n",
    "from sklearn.ensemble import HistGradientBoostingClassifier\n",
    "from sklearn.metrics import classification_report, confusion_matrix\n",
    "from sklearn.model_selection import train_test_split\n",
    "from sklearn.preprocessing import LabelEncoder\n",
    "from torch.utils.data import Dataset, DataLoader\n",
    "import optuna\n",
    "\n",
    "import sys\n",
    "sys.path.append(\"..\")\n",
    "\n",
    "from preprocessing.data_augmentor import DataAugmentor\n",
    "from preprocessing.feature_extractor import FeatureExtractor\n",
    "from preprocessing.sampler import Sampler"
   ]
  },
  {
   "cell_type": "markdown",
   "id": "10c11aae-baa5-4223-bf2c-200aca1351bd",
   "metadata": {},
   "source": [
    "## Data Preprocessing"
   ]
  },
  {
   "cell_type": "code",
   "execution_count": 2,
   "id": "initial_id",
   "metadata": {
    "ExecuteTime": {
     "end_time": "2024-08-01T02:00:20.893780Z",
     "start_time": "2024-08-01T02:00:11.750547Z"
    }
   },
   "outputs": [
    {
     "name": "stdout",
     "output_type": "stream",
     "text": [
      "C:\\Users\\sassy\\OneDrive\\Documents\\GitHub\\ms-aai-511-final-project\\src\n",
      "Loading existing features from ../data/Composer_Dataset\\extracted_features.pkl\n"
     ]
    }
   ],
   "source": [
    "import os\n",
    "print(os.getcwd())\n",
    "\n",
    "data_dir = \"../data/Composer_Dataset\"\n",
    "composers = [\"Bach\", \"Beethoven\", \"Chopin\", \"Mozart\"]\n",
    "scalar_features, multidimensional_features = FeatureExtractor.extract_features_for_directory(data_dir, composers)"
   ]
  },
  {
   "cell_type": "code",
   "execution_count": 3,
   "id": "2e5db583236dfbcb",
   "metadata": {
    "ExecuteTime": {
     "end_time": "2024-08-01T02:00:20.907456Z",
     "start_time": "2024-08-01T02:00:20.894834Z"
    }
   },
   "outputs": [
    {
     "data": {
      "text/html": [
       "<div>\n",
       "<style scoped>\n",
       "    .dataframe tbody tr th:only-of-type {\n",
       "        vertical-align: middle;\n",
       "    }\n",
       "\n",
       "    .dataframe tbody tr th {\n",
       "        vertical-align: top;\n",
       "    }\n",
       "\n",
       "    .dataframe thead th {\n",
       "        text-align: right;\n",
       "    }\n",
       "</style>\n",
       "<table border=\"1\" class=\"dataframe\">\n",
       "  <thead>\n",
       "    <tr style=\"text-align: right;\">\n",
       "      <th></th>\n",
       "      <th>max_independent_voices</th>\n",
       "      <th>avg_independent_voices</th>\n",
       "      <th>var_independent_voices</th>\n",
       "      <th>avg_simultaneity</th>\n",
       "      <th>var_simultaneity</th>\n",
       "      <th>note_density</th>\n",
       "      <th>avg_note_duration</th>\n",
       "      <th>var_note_duration</th>\n",
       "      <th>initial_tempo</th>\n",
       "      <th>time_signature_numerator</th>\n",
       "      <th>...</th>\n",
       "      <th>perfect_vertical_intervals</th>\n",
       "      <th>vertical_minor_seconds</th>\n",
       "      <th>vertical_thirds</th>\n",
       "      <th>vertical_fifths</th>\n",
       "      <th>vertical_tritones</th>\n",
       "      <th>vertical_octaves</th>\n",
       "      <th>avg_chord_duration</th>\n",
       "      <th>length</th>\n",
       "      <th>file_name</th>\n",
       "      <th>composer</th>\n",
       "    </tr>\n",
       "  </thead>\n",
       "  <tbody>\n",
       "    <tr>\n",
       "      <th>0</th>\n",
       "      <td>4.0</td>\n",
       "      <td>3.868889</td>\n",
       "      <td>0.337522</td>\n",
       "      <td>3.829787</td>\n",
       "      <td>0.807390</td>\n",
       "      <td>6.755565</td>\n",
       "      <td>0.592104</td>\n",
       "      <td>0.341892</td>\n",
       "      <td>184.000258</td>\n",
       "      <td>4.0</td>\n",
       "      <td>...</td>\n",
       "      <td>0.401902</td>\n",
       "      <td>0.002774</td>\n",
       "      <td>0.311138</td>\n",
       "      <td>0.168450</td>\n",
       "      <td>0.030123</td>\n",
       "      <td>0.124059</td>\n",
       "      <td>0.441176</td>\n",
       "      <td>46.956456</td>\n",
       "      <td>003706b_.mid</td>\n",
       "      <td>Bach</td>\n",
       "    </tr>\n",
       "    <tr>\n",
       "      <th>1</th>\n",
       "      <td>4.0</td>\n",
       "      <td>3.920000</td>\n",
       "      <td>0.271293</td>\n",
       "      <td>4.000000</td>\n",
       "      <td>0.000000</td>\n",
       "      <td>5.622222</td>\n",
       "      <td>0.711462</td>\n",
       "      <td>0.341781</td>\n",
       "      <td>109.714286</td>\n",
       "      <td>4.0</td>\n",
       "      <td>...</td>\n",
       "      <td>0.408951</td>\n",
       "      <td>0.002315</td>\n",
       "      <td>0.339506</td>\n",
       "      <td>0.179784</td>\n",
       "      <td>0.035880</td>\n",
       "      <td>0.137731</td>\n",
       "      <td>0.576923</td>\n",
       "      <td>45.000000</td>\n",
       "      <td>003806b_.mid</td>\n",
       "      <td>Bach</td>\n",
       "    </tr>\n",
       "    <tr>\n",
       "      <th>2</th>\n",
       "      <td>4.0</td>\n",
       "      <td>3.943529</td>\n",
       "      <td>0.230828</td>\n",
       "      <td>4.000000</td>\n",
       "      <td>0.000000</td>\n",
       "      <td>6.705882</td>\n",
       "      <td>0.596491</td>\n",
       "      <td>0.254569</td>\n",
       "      <td>140.800000</td>\n",
       "      <td>4.0</td>\n",
       "      <td>...</td>\n",
       "      <td>0.414447</td>\n",
       "      <td>0.002421</td>\n",
       "      <td>0.301049</td>\n",
       "      <td>0.168684</td>\n",
       "      <td>0.033091</td>\n",
       "      <td>0.144471</td>\n",
       "      <td>0.456989</td>\n",
       "      <td>42.500000</td>\n",
       "      <td>003907bv.mid</td>\n",
       "      <td>Bach</td>\n",
       "    </tr>\n",
       "    <tr>\n",
       "      <th>3</th>\n",
       "      <td>4.0</td>\n",
       "      <td>3.943529</td>\n",
       "      <td>0.230828</td>\n",
       "      <td>4.000000</td>\n",
       "      <td>0.000000</td>\n",
       "      <td>6.705882</td>\n",
       "      <td>0.596491</td>\n",
       "      <td>0.254569</td>\n",
       "      <td>140.800000</td>\n",
       "      <td>4.0</td>\n",
       "      <td>...</td>\n",
       "      <td>0.414447</td>\n",
       "      <td>0.002421</td>\n",
       "      <td>0.301049</td>\n",
       "      <td>0.168684</td>\n",
       "      <td>0.033091</td>\n",
       "      <td>0.144471</td>\n",
       "      <td>0.456989</td>\n",
       "      <td>42.500000</td>\n",
       "      <td>003907b_.mid</td>\n",
       "      <td>Bach</td>\n",
       "    </tr>\n",
       "    <tr>\n",
       "      <th>4</th>\n",
       "      <td>4.0</td>\n",
       "      <td>3.893238</td>\n",
       "      <td>0.308810</td>\n",
       "      <td>3.746667</td>\n",
       "      <td>0.974246</td>\n",
       "      <td>7.253333</td>\n",
       "      <td>0.551471</td>\n",
       "      <td>0.186561</td>\n",
       "      <td>147.692308</td>\n",
       "      <td>4.0</td>\n",
       "      <td>...</td>\n",
       "      <td>0.375940</td>\n",
       "      <td>0.005639</td>\n",
       "      <td>0.332707</td>\n",
       "      <td>0.168546</td>\n",
       "      <td>0.052005</td>\n",
       "      <td>0.115288</td>\n",
       "      <td>0.419403</td>\n",
       "      <td>30.000000</td>\n",
       "      <td>004003b_.mid</td>\n",
       "      <td>Bach</td>\n",
       "    </tr>\n",
       "  </tbody>\n",
       "</table>\n",
       "<p>5 rows × 33 columns</p>\n",
       "</div>"
      ],
      "text/plain": [
       "   max_independent_voices  avg_independent_voices  var_independent_voices  \\\n",
       "0                     4.0                3.868889                0.337522   \n",
       "1                     4.0                3.920000                0.271293   \n",
       "2                     4.0                3.943529                0.230828   \n",
       "3                     4.0                3.943529                0.230828   \n",
       "4                     4.0                3.893238                0.308810   \n",
       "\n",
       "   avg_simultaneity  var_simultaneity  note_density  avg_note_duration  \\\n",
       "0          3.829787          0.807390      6.755565           0.592104   \n",
       "1          4.000000          0.000000      5.622222           0.711462   \n",
       "2          4.000000          0.000000      6.705882           0.596491   \n",
       "3          4.000000          0.000000      6.705882           0.596491   \n",
       "4          3.746667          0.974246      7.253333           0.551471   \n",
       "\n",
       "   var_note_duration  initial_tempo  time_signature_numerator  ...  \\\n",
       "0           0.341892     184.000258                       4.0  ...   \n",
       "1           0.341781     109.714286                       4.0  ...   \n",
       "2           0.254569     140.800000                       4.0  ...   \n",
       "3           0.254569     140.800000                       4.0  ...   \n",
       "4           0.186561     147.692308                       4.0  ...   \n",
       "\n",
       "   perfect_vertical_intervals  vertical_minor_seconds  vertical_thirds  \\\n",
       "0                    0.401902                0.002774         0.311138   \n",
       "1                    0.408951                0.002315         0.339506   \n",
       "2                    0.414447                0.002421         0.301049   \n",
       "3                    0.414447                0.002421         0.301049   \n",
       "4                    0.375940                0.005639         0.332707   \n",
       "\n",
       "   vertical_fifths  vertical_tritones  vertical_octaves  avg_chord_duration  \\\n",
       "0         0.168450           0.030123          0.124059            0.441176   \n",
       "1         0.179784           0.035880          0.137731            0.576923   \n",
       "2         0.168684           0.033091          0.144471            0.456989   \n",
       "3         0.168684           0.033091          0.144471            0.456989   \n",
       "4         0.168546           0.052005          0.115288            0.419403   \n",
       "\n",
       "      length     file_name  composer  \n",
       "0  46.956456  003706b_.mid      Bach  \n",
       "1  45.000000  003806b_.mid      Bach  \n",
       "2  42.500000  003907bv.mid      Bach  \n",
       "3  42.500000  003907b_.mid      Bach  \n",
       "4  30.000000  004003b_.mid      Bach  \n",
       "\n",
       "[5 rows x 33 columns]"
      ]
     },
     "execution_count": 3,
     "metadata": {},
     "output_type": "execute_result"
    }
   ],
   "source": [
    "scalar_features.head()"
   ]
  },
  {
   "cell_type": "code",
   "execution_count": 4,
   "id": "b80c176ddbd29940",
   "metadata": {
    "ExecuteTime": {
     "end_time": "2024-08-01T02:00:20.916490Z",
     "start_time": "2024-08-01T02:00:20.908510Z"
    }
   },
   "outputs": [
    {
     "name": "stdout",
     "output_type": "stream",
     "text": [
      "Piano Roll Shape: (128, 469)\n",
      "Chroma Piano Roll Shape: (12, 469)\n",
      "Pitch Class Histogram Shape: (12,)\n",
      "Pitch Class Transition Matrix Shape: (12, 12)\n"
     ]
    }
   ],
   "source": [
    "print(f\"Piano Roll Shape: {multidimensional_features[0]['piano_roll'].shape}\")\n",
    "print(f\"Chroma Piano Roll Shape: {multidimensional_features[0]['chroma_piano_roll'].shape}\")\n",
    "print(f\"Pitch Class Histogram Shape: {multidimensional_features[0]['pitch_class_histogram'].shape}\")\n",
    "print(f\"Pitch Class Transition Matrix Shape: {multidimensional_features[0]['pitch_class_transition_matrix'].shape}\")"
   ]
  },
  {
   "cell_type": "markdown",
   "id": "3393482c-bcd5-429f-9b5b-e9b6ec144798",
   "metadata": {},
   "source": [
    "# Train Test Split Validation"
   ]
  },
  {
   "cell_type": "code",
   "execution_count": 6,
   "id": "1b59f060a8c747d8",
   "metadata": {
    "ExecuteTime": {
     "end_time": "2024-08-01T02:00:21.166268Z",
     "start_time": "2024-08-01T02:00:20.917519Z"
    }
   },
   "outputs": [
    {
     "name": "stderr",
     "output_type": "stream",
     "text": [
      "C:\\Users\\sassy\\AppData\\Local\\Temp\\ipykernel_10896\\2216297816.py:12: SettingWithCopyWarning: \n",
      "A value is trying to be set on a copy of a slice from a DataFrame\n",
      "\n",
      "See the caveats in the documentation: https://pandas.pydata.org/pandas-docs/stable/user_guide/indexing.html#returning-a-view-versus-a-copy\n",
      "  scalar_val.drop(['composer', 'file_name'], axis=1, inplace=True)\n",
      "C:\\Users\\sassy\\AppData\\Local\\Temp\\ipykernel_10896\\2216297816.py:13: SettingWithCopyWarning: \n",
      "A value is trying to be set on a copy of a slice from a DataFrame\n",
      "\n",
      "See the caveats in the documentation: https://pandas.pydata.org/pandas-docs/stable/user_guide/indexing.html#returning-a-view-versus-a-copy\n",
      "  scalar_test.drop(['composer', 'file_name'], axis=1, inplace=True)\n"
     ]
    }
   ],
   "source": [
    "y = scalar_features['composer']\n",
    "label_encoder = LabelEncoder()\n",
    "y = label_encoder.fit_transform(y)\n",
    "\n",
    "scalar_train, scalar_holdout, multidim_train, multidim_holdout, y_train, y_holdout = Sampler.split_data(scalar_features, multidimensional_features, y, test_size=0.2, random_state=1)\n",
    "\n",
    "scalar_val, scalar_test, multidim_val, multidim_test, y_val, y_test = Sampler.split_data(scalar_holdout, multidim_holdout, y_holdout, test_size=0.5, random_state=1)\n",
    "\n",
    "train_composer_files = scalar_train[['composer', 'file_name']]\n",
    "scalar_features = scalar_features.drop('file_name', axis=1)\n",
    "scalar_train.drop(['composer', 'file_name'], axis=1, inplace=True)\n",
    "scalar_val.drop(['composer', 'file_name'], axis=1, inplace=True)\n",
    "scalar_test.drop(['composer', 'file_name'], axis=1, inplace=True)"
   ]
  },
  {
   "cell_type": "code",
   "execution_count": 7,
   "id": "b7a3237189099396",
   "metadata": {
    "ExecuteTime": {
     "end_time": "2024-08-01T02:00:21.274526Z",
     "start_time": "2024-08-01T02:00:21.167272Z"
    }
   },
   "outputs": [
    {
     "name": "stdout",
     "output_type": "stream",
     "text": [
      "{'Bach': 815, 'Mozart': 215, 'Beethoven': 176, 'Chopin': 102}\n"
     ]
    },
    {
     "data": {
      "image/png": "[encoded data removed]",
      "text/plain": [
       "<Figure size 640x480 with 1 Axes>"
      ]
     },
     "metadata": {},
     "output_type": "display_data"
    }
   ],
   "source": [
    "def plot_column_distribution(data: pd.DataFrame, column: str) -> None:\n",
    "    print(dict(data[column].value_counts()))\n",
    "    data[column].value_counts().plot(kind='bar')\n",
    "    plt.title(f'{column} Distribution')\n",
    "    plt.xlabel(f'{column}')\n",
    "    plt.ylabel(f'Count')\n",
    "    plt.show()\n",
    "    \n",
    "train_composers = pd.DataFrame(label_encoder.inverse_transform(y_train), columns=['composer'])\n",
    "plot_column_distribution(train_composers, 'composer')"
   ]
  },
  {
   "cell_type": "code",
   "execution_count": 8,
   "id": "8bbbd992adda234",
   "metadata": {
    "ExecuteTime": {
     "end_time": "2024-08-01T02:00:21.394322Z",
     "start_time": "2024-08-01T02:00:21.275590Z"
    }
   },
   "outputs": [
    {
     "name": "stdout",
     "output_type": "stream",
     "text": [
      "{'Mozart': 815, 'Bach': 815, 'Beethoven': 815, 'Chopin': 815}\n"
     ]
    },
    {
     "data": {
      "image/png": "[encoded data removed]",
      "text/plain": [
       "<Figure size 640x480 with 1 Axes>"
      ]
     },
     "metadata": {},
     "output_type": "display_data"
    }
   ],
   "source": [
    "scalar_train, multidim_train, y_train = Sampler.oversample_balance(scalar_train, multidim_train, y_train)\n",
    "train_composers = pd.DataFrame(label_encoder.inverse_transform(y_train), columns=['composer'])\n",
    "plot_column_distribution(train_composers, 'composer')"
   ]
  },
  {
   "cell_type": "code",
   "execution_count": 9,
   "id": "2f5c2f4d0833572f",
   "metadata": {
    "ExecuteTime": {
     "end_time": "2024-08-01T02:00:26.917827Z",
     "start_time": "2024-08-01T02:00:26.910775Z"
    }
   },
   "outputs": [
    {
     "name": "stderr",
     "output_type": "stream",
     "text": [
      "Generating Augmented Songs:  11%|█████▌                                             | 11/100 [00:53<07:39,  5.17s/song]C:\\Users\\sassy\\anaconda3\\Lib\\site-packages\\numpy\\lib\\histograms.py:1124: RuntimeWarning: invalid value encountered in divide\n",
      "  hist /= s\n",
      "Generating Augmented Songs:  29%|██████████████▊                                    | 29/100 [02:07<02:05,  1.77s/song]C:\\Users\\sassy\\anaconda3\\Lib\\site-packages\\pretty_midi\\pretty_midi.py:100: RuntimeWarning: Tempo, Key or Time signature change events found on non-zero tracks.  This is not a valid type 0 or type 1 MIDI file.  Tempo, Key or Time Signature may be wrong.\n",
      "  warnings.warn(\n",
      "Generating Augmented Songs: 100%|██████████████████████████████████████████████████| 100/100 [05:29<00:00,  3.29s/song]\n",
      "Generating Augmented Songs:  77%|███████████████████████████████████████▎           | 77/100 [00:31<00:21,  1.05song/s]C:\\Users\\sassy\\anaconda3\\Lib\\site-packages\\pretty_midi\\pretty_midi.py:100: RuntimeWarning: Tempo, Key or Time signature change events found on non-zero tracks.  This is not a valid type 0 or type 1 MIDI file.  Tempo, Key or Time Signature may be wrong.\n",
      "  warnings.warn(\n",
      "Generating Augmented Songs:  79%|████████████████████████████████████████▎          | 79/100 [00:34<00:24,  1.15s/song]C:\\Users\\sassy\\anaconda3\\Lib\\site-packages\\numpy\\lib\\histograms.py:1124: RuntimeWarning: invalid value encountered in divide\n",
      "  hist /= s\n",
      "Generating Augmented Songs: 100%|██████████████████████████████████████████████████| 100/100 [00:55<00:00,  1.81song/s]\n",
      "Generating Augmented Songs:   9%|████▋                                               | 9/100 [00:52<11:14,  7.41s/song]C:\\Users\\sassy\\anaconda3\\Lib\\site-packages\\numpy\\lib\\histograms.py:1124: RuntimeWarning: invalid value encountered in divide\n",
      "  hist /= s\n",
      "Generating Augmented Songs:  48%|████████████████████████▍                          | 48/100 [06:03<14:32, 16.77s/song]C:\\Users\\sassy\\anaconda3\\Lib\\site-packages\\pretty_midi\\pretty_midi.py:100: RuntimeWarning: Tempo, Key or Time signature change events found on non-zero tracks.  This is not a valid type 0 or type 1 MIDI file.  Tempo, Key or Time Signature may be wrong.\n",
      "  warnings.warn(\n",
      "Generating Augmented Songs: 100%|██████████████████████████████████████████████████| 100/100 [12:35<00:00,  7.56s/song]\n",
      "Generating Augmented Songs:  11%|█████▌                                             | 11/100 [00:09<01:20,  1.10song/s]C:\\Users\\sassy\\anaconda3\\Lib\\site-packages\\pretty_midi\\pretty_midi.py:100: RuntimeWarning: Tempo, Key or Time signature change events found on non-zero tracks.  This is not a valid type 0 or type 1 MIDI file.  Tempo, Key or Time Signature may be wrong.\n",
      "  warnings.warn(\n",
      "Generating Augmented Songs:  64%|████████████████████████████████▋                  | 64/100 [02:03<01:06,  1.84s/song]C:\\Users\\sassy\\anaconda3\\Lib\\site-packages\\numpy\\lib\\histograms.py:1124: RuntimeWarning: invalid value encountered in divide\n",
      "  hist /= s\n",
      "Generating Augmented Songs: 100%|██████████████████████████████████████████████████| 100/100 [02:24<00:00,  1.44s/song]\n"
     ]
    }
   ],
   "source": [
    "num_augmented_songs = 100\n",
    "mozart_aug_scalars, mozart_aug_multidim = DataAugmentor.generate_augmented_songs(data_dir, train_composer_files[train_composer_files['composer'] == 'Mozart'], num_augmented_songs)\n",
    "bach_aug_scalars, bach_aug_multidim = DataAugmentor.generate_augmented_songs(data_dir, train_composer_files[train_composer_files['composer'] == 'Bach'], num_augmented_songs)\n",
    "beethoven_aug_scalars, beethoven_aug_multidim = DataAugmentor.generate_augmented_songs(data_dir, train_composer_files[train_composer_files['composer'] == 'Beethoven'], num_augmented_songs)\n",
    "chopin_aug_scalars, chopin_aug_multidim = DataAugmentor.generate_augmented_songs(data_dir, train_composer_files[train_composer_files['composer'] == 'Chopin'], num_augmented_songs)\n",
    "\n",
    "scalar_train = pd.concat([scalar_train, mozart_aug_scalars, bach_aug_scalars, beethoven_aug_scalars, chopin_aug_scalars], axis=0)\n",
    "multidim_train = multidim_train + mozart_aug_multidim + bach_aug_multidim + beethoven_aug_multidim + chopin_aug_multidim"
   ]
  },
  {
   "cell_type": "code",
   "execution_count": 10,
   "id": "1543866b-0b34-4133-936f-6a2d82f83ed1",
   "metadata": {},
   "outputs": [],
   "source": [
    "mozart_aug_y = np.full(num_augmented_songs, label_encoder.transform(['Mozart']))\n",
    "bach_aug_y = np.full(num_augmented_songs, label_encoder.transform(['Bach']))\n",
    "beethoven_aug_y = np.full(num_augmented_songs, label_encoder.transform(['Beethoven']))\n",
    "chopin_aug_y = np.full(num_augmented_songs, label_encoder.transform(['Chopin']))\n",
    "y_train = np.hstack((y_train, mozart_aug_y, bach_aug_y, beethoven_aug_y, chopin_aug_y))"
   ]
  },
  {
   "cell_type": "code",
   "execution_count": 11,
   "id": "1d162ede4fc6fae2",
   "metadata": {
    "ExecuteTime": {
     "end_time": "2024-08-01T02:00:28.134193Z",
     "start_time": "2024-08-01T02:00:28.033949Z"
    }
   },
   "outputs": [
    {
     "name": "stdout",
     "output_type": "stream",
     "text": [
      "{'Mozart': 915, 'Bach': 915, 'Beethoven': 915, 'Chopin': 915}\n"
     ]
    },
    {
     "data": {
      "image/png": "[encoded data removed]",
      "text/plain": [
       "<Figure size 640x480 with 1 Axes>"
      ]
     },
     "metadata": {},
     "output_type": "display_data"
    }
   ],
   "source": [
    "train_composers = pd.DataFrame(label_encoder.inverse_transform(y_train), columns=['composer'])\n",
    "plot_column_distribution(train_composers, 'composer')"
   ]
  },
  {
   "cell_type": "markdown",
   "id": "ec258f21",
   "metadata": {},
   "source": [
    "### Chunk Into Sequences"
   ]
  },
  {
   "cell_type": "code",
   "execution_count": 47,
   "id": "c06b249a",
   "metadata": {},
   "outputs": [],
   "source": [
    "def chunk_sequences(X_in, y_in, feature, sequence_length=100):\n",
    "    X_out = []\n",
    "    y_out = []\n",
    "\n",
    "    # Make sure you are slicing along the time axis\n",
    "    for i in range(len(X_in)):\n",
    "        feature_matrix = X_in[i][feature]\n",
    "        num_time_steps = feature_matrix.shape[1]\n",
    "        \n",
    "        for j in range(0, num_time_steps - sequence_length, sequence_length):\n",
    "            X_out.append(feature_matrix[:, j:j + sequence_length].T)  # Transpose to (sequence_length, feature_dim)\n",
    "            y_out.append(y_in[i])\n",
    "\n",
    "    return X_out, y_out"
   ]
  },
  {
   "cell_type": "markdown",
   "id": "e9ab6134",
   "metadata": {},
   "source": [
    "### Make Dataloader\n",
    "\n",
    "PyTorch utilized for laoding, training, and evlation of LSTM model."
   ]
  },
  {
   "cell_type": "code",
   "execution_count": 50,
   "id": "bcc5b271",
   "metadata": {},
   "outputs": [],
   "source": [
    "class PianoRollDataset(Dataset):\n",
    "    def __init__(self, X, y):\n",
    "        self.X = X\n",
    "        self.y = y\n",
    "\n",
    "    def __len__(self):\n",
    "        return len(self.X)\n",
    "\n",
    "    def __getitem__(self, idx):\n",
    "        X = torch.tensor(self.X[idx], dtype=torch.float32) \n",
    "        y = torch.tensor(self.y[idx], dtype=torch.long)\n",
    "        return X, y"
   ]
  },
  {
   "cell_type": "code",
   "execution_count": 52,
   "id": "b1697e69",
   "metadata": {},
   "outputs": [],
   "source": [
    "def get_dataloaders(use_chroma, seq_length=100, batch_size=8):\n",
    "    \n",
    "    # Set random seed for PyTorch\n",
    "    torch.manual_seed(42) \n",
    "    \n",
    "    feature_set = 'chroma_piano_roll' if use_chroma else 'piano_roll'\n",
    "\n",
    "    X_train_seq, y_train_seq = chunk_sequences(multidim_train, y_train, feature_set, seq_length)\n",
    "    X_val_seq, y_val_seq = chunk_sequences(multidim_val, y_val, feature_set, seq_length)\n",
    "    X_test_seq, y_test_seq = chunk_sequences(multidim_test, y_test, feature_set, seq_length)\n",
    "\n",
    "    train_dataset = PianoRollDataset(X_train_seq, y_train_seq)\n",
    "    val_dataset = PianoRollDataset(X_val_seq, y_val_seq)\n",
    "    test_dataset = PianoRollDataset(X_test_seq, y_test_seq)\n",
    "\n",
    "    train_loader = DataLoader(train_dataset, batch_size=batch_size, shuffle=True)\n",
    "    val_loader = DataLoader(val_dataset, batch_size=batch_size, shuffle=False)\n",
    "    test_loader = DataLoader(test_dataset, batch_size=batch_size, shuffle=False)\n",
    "\n",
    "    return train_loader, val_loader, test_loader"
   ]
  },
  {
   "cell_type": "markdown",
   "id": "ec00e3c2",
   "metadata": {},
   "source": [
    "### Define LSTM\n",
    "\n",
    "Long short-term memory is a type of recurrent neural network aimed at dealing with the vanishing gradient problem present in traditional RNNs. Its relative insensitivity to gap length is its advantage over other RNNs, hidden Markov models and other sequence learning methods. The LSTM was trained to take multi-dimensional data and predict the composer of each song in the data file. After LSTM training the outputs were fed into a separate classifier along with scalar features to predict the composer optimally."
   ]
  },
  {
   "cell_type": "code",
   "execution_count": 55,
   "id": "b7cffeca-03d2-4945-9a42-c67ebf5b011c",
   "metadata": {},
   "outputs": [],
   "source": [
    "class PianoRollLSTM(nn.Module):\n",
    "    def __init__(self, h_params):\n",
    "        super(PianoRollLSTM, self).__init__()\n",
    "\n",
    "        self.h_params = h_params  # Store h_params in the class\n",
    "        input_size = 12 if h_params['use_chroma'] else 128\n",
    "        hidden_size = h_params['hidden_size']\n",
    "        num_layers = h_params['num_layers']\n",
    "        \n",
    "        self.lstm = nn.LSTM(input_size, hidden_size, num_layers, batch_first=True, dropout=h_params['dropout'])\n",
    "        self.fc = nn.Linear(hidden_size, 4)  # Output of 4 classes (composers)\n",
    "\n",
    "    def forward(self, x):\n",
    "        # Forward pass through LSTM\n",
    "        h0 = torch.zeros(self.h_params['num_layers'], x.size(0), self.h_params['hidden_size']).to(x.device)\n",
    "        c0 = torch.zeros(self.h_params['num_layers'], x.size(0), self.h_params['hidden_size']).to(x.device)\n",
    "        out, _ = self.lstm(x, (h0, c0))\n",
    "        # Take the output of the last time step\n",
    "        out = self.fc(out[:, -1, :])\n",
    "        return out"
   ]
  },
  {
   "cell_type": "markdown",
   "id": "8bc730b0-dc89-45b4-b749-1fd299ffeba0",
   "metadata": {},
   "source": [
    "## Training LSTM"
   ]
  },
  {
   "cell_type": "code",
   "execution_count": 57,
   "id": "9e93b3d3-ebea-4d68-af3b-a019c4593f15",
   "metadata": {},
   "outputs": [],
   "source": [
    "def train_lstm(model, train_loader, val_loader, num_epochs, criterion, optimizer, silent=False):\n",
    "\n",
    "    for epoch in range(num_epochs):\n",
    "        model.train()\n",
    "        running_loss = 0.0\n",
    "        report_interval = 1000\n",
    "        for i, data in enumerate(train_loader):\n",
    "            inputs, labels = data\n",
    "            optimizer.zero_grad()\n",
    "            outputs = model(inputs)\n",
    "            loss = criterion(outputs, labels)\n",
    "            loss.backward()\n",
    "            optimizer.step()\n",
    "            running_loss += loss.item()\n",
    "            if i % report_interval == (report_interval - 1) and not silent:\n",
    "                print(f'[Epoch {epoch + 1}, Batch {i + 1}] loss: {running_loss / report_interval:.3f}')\n",
    "                running_loss = 0.0\n",
    "\n",
    "        model.eval()\n",
    "        val_loss = 0.0\n",
    "        correct = 0\n",
    "        total = 0\n",
    "        with torch.no_grad():\n",
    "            for data in val_loader:\n",
    "                inputs, labels = data\n",
    "                outputs = model(inputs)\n",
    "                loss = criterion(outputs, labels)\n",
    "                val_loss += loss.item()\n",
    "                _, predicted = torch.max(outputs.data, 1)\n",
    "                total += labels.size(0)\n",
    "                correct += (predicted == labels).sum().item()\n",
    "        if not silent:\n",
    "            print(f'Validation loss: {val_loss / len(val_loader):.3f}, Accuracy: {100 * correct / total:.2f}%')"
   ]
  },
  {
   "cell_type": "markdown",
   "id": "80cc1829-9a29-4a7f-882c-9e410cb53fa6",
   "metadata": {},
   "source": [
    "## Hyperparaameter Search Via Optuna Library"
   ]
  },
  {
   "cell_type": "code",
   "execution_count": 86,
   "id": "4b529693-7abd-4825-bcdd-1421568f290f",
   "metadata": {},
   "outputs": [
    {
     "name": "stderr",
     "output_type": "stream",
     "text": [
      "[I 2024-08-09 18:35:32,910] A new study created in memory with name: no-name-7c4e17fc-b1e1-4a8a-9d25-631554f836e4\n",
      "C:\\Users\\sassy\\AppData\\Local\\Temp\\ipykernel_10896\\3600206045.py:5: FutureWarning: suggest_uniform has been deprecated in v3.0.0. This feature will be removed in v6.0.0. See https://github.com/optuna/optuna/releases/tag/v3.0.0. Use suggest_float instead.\n",
      "  'dropout': trial.suggest_uniform('dropout', 0.1, 0.5),\n",
      "C:\\Users\\sassy\\AppData\\Local\\Temp\\ipykernel_10896\\3600206045.py:8: FutureWarning: suggest_loguniform has been deprecated in v3.0.0. This feature will be removed in v6.0.0. See https://github.com/optuna/optuna/releases/tag/v3.0.0. Use suggest_float(..., log=True) instead.\n",
      "  'learning_rate': trial.suggest_loguniform('learning_rate', 1e-5, 1e-1),\n",
      "C:\\Users\\sassy\\anaconda3\\Lib\\site-packages\\torch\\nn\\modules\\rnn.py:88: UserWarning: dropout option adds dropout after all but last recurrent layer, so non-zero dropout expects num_layers greater than 1, but got dropout=0.4034842606935758 and num_layers=1\n",
      "  warnings.warn(\"dropout option adds dropout after all but last \"\n",
      "[I 2024-08-09 18:36:33,221] Trial 0 finished with value: 29.003021148036254 and parameters: {'hidden_size': 33, 'num_layers': 1, 'dropout': 0.4034842606935758, 'num_epochs': 1, 'batch_size': 16, 'learning_rate': 0.01938588469445459, 'use_chroma': True, 'seq_length': 53}. Best is trial 0 with value: 29.003021148036254.\n"
     ]
    },
    {
     "name": "stdout",
     "output_type": "stream",
     "text": [
      "\n",
      "Trial results: Loss = 1.574, Accuracy = 29.00%\n"
     ]
    },
    {
     "name": "stderr",
     "output_type": "stream",
     "text": [
      "[I 2024-08-09 18:46:16,003] Trial 1 finished with value: 67.90611201487334 and parameters: {'hidden_size': 87, 'num_layers': 2, 'dropout': 0.1264963296603957, 'num_epochs': 4, 'batch_size': 8, 'learning_rate': 0.00013402860147670366, 'use_chroma': False, 'seq_length': 61}. Best is trial 1 with value: 67.90611201487334.\n"
     ]
    },
    {
     "name": "stdout",
     "output_type": "stream",
     "text": [
      "\n",
      "Trial results: Loss = 0.963, Accuracy = 67.91%\n"
     ]
    },
    {
     "name": "stderr",
     "output_type": "stream",
     "text": [
      "[I 2024-08-09 18:51:14,815] Trial 2 finished with value: 65.53567278642808 and parameters: {'hidden_size': 61, 'num_layers': 2, 'dropout': 0.13090377675339573, 'num_epochs': 4, 'batch_size': 32, 'learning_rate': 0.00043421159095370063, 'use_chroma': False, 'seq_length': 60}. Best is trial 1 with value: 67.90611201487334.\n"
     ]
    },
    {
     "name": "stdout",
     "output_type": "stream",
     "text": [
      "\n",
      "Trial results: Loss = 1.035, Accuracy = 65.54%\n"
     ]
    },
    {
     "name": "stderr",
     "output_type": "stream",
     "text": [
      "[I 2024-08-09 19:17:23,229] Trial 3 finished with value: 60.19056472228678 and parameters: {'hidden_size': 124, 'num_layers': 3, 'dropout': 0.3273517615040821, 'num_epochs': 5, 'batch_size': 8, 'learning_rate': 1.578020257998018e-05, 'use_chroma': False, 'seq_length': 71}. Best is trial 1 with value: 67.90611201487334.\n"
     ]
    },
    {
     "name": "stdout",
     "output_type": "stream",
     "text": [
      "\n",
      "Trial results: Loss = 1.097, Accuracy = 60.19%\n"
     ]
    },
    {
     "name": "stderr",
     "output_type": "stream",
     "text": [
      "C:\\Users\\sassy\\anaconda3\\Lib\\site-packages\\torch\\nn\\modules\\rnn.py:88: UserWarning: dropout option adds dropout after all but last recurrent layer, so non-zero dropout expects num_layers greater than 1, but got dropout=0.12753558165558823 and num_layers=1\n",
      "  warnings.warn(\"dropout option adds dropout after all but last \"\n",
      "[I 2024-08-09 19:24:04,051] Trial 4 finished with value: 54.915175458982105 and parameters: {'hidden_size': 115, 'num_layers': 1, 'dropout': 0.12753558165558823, 'num_epochs': 5, 'batch_size': 16, 'learning_rate': 0.00037429501447240154, 'use_chroma': True, 'seq_length': 82}. Best is trial 1 with value: 67.90611201487334.\n"
     ]
    },
    {
     "name": "stdout",
     "output_type": "stream",
     "text": [
      "\n",
      "Trial results: Loss = 1.161, Accuracy = 54.92%\n"
     ]
    },
    {
     "name": "stderr",
     "output_type": "stream",
     "text": [
      "C:\\Users\\sassy\\anaconda3\\Lib\\site-packages\\torch\\nn\\modules\\rnn.py:88: UserWarning: dropout option adds dropout after all but last recurrent layer, so non-zero dropout expects num_layers greater than 1, but got dropout=0.3768713708000576 and num_layers=1\n",
      "  warnings.warn(\"dropout option adds dropout after all but last \"\n",
      "[I 2024-08-09 19:25:36,063] Trial 5 finished with value: 30.32767836393214 and parameters: {'hidden_size': 66, 'num_layers': 1, 'dropout': 0.3768713708000576, 'num_epochs': 2, 'batch_size': 32, 'learning_rate': 1.1911127076785665e-05, 'use_chroma': True, 'seq_length': 74}. Best is trial 1 with value: 67.90611201487334.\n"
     ]
    },
    {
     "name": "stdout",
     "output_type": "stream",
     "text": [
      "\n",
      "Trial results: Loss = 1.414, Accuracy = 30.33%\n"
     ]
    },
    {
     "name": "stderr",
     "output_type": "stream",
     "text": [
      "[I 2024-08-09 19:33:45,089] Trial 6 finished with value: 52.14966302579596 and parameters: {'hidden_size': 38, 'num_layers': 2, 'dropout': 0.48715934900233826, 'num_epochs': 5, 'batch_size': 8, 'learning_rate': 0.00019752341355939562, 'use_chroma': True, 'seq_length': 124}. Best is trial 1 with value: 67.90611201487334.\n"
     ]
    },
    {
     "name": "stdout",
     "output_type": "stream",
     "text": [
      "\n",
      "Trial results: Loss = 1.153, Accuracy = 52.15%\n"
     ]
    },
    {
     "name": "stderr",
     "output_type": "stream",
     "text": [
      "[I 2024-08-09 19:44:38,171] Trial 7 finished with value: 63.397629560771556 and parameters: {'hidden_size': 127, 'num_layers': 3, 'dropout': 0.2577733872878794, 'num_epochs': 2, 'batch_size': 8, 'learning_rate': 5.573315977687826e-05, 'use_chroma': False, 'seq_length': 84}. Best is trial 1 with value: 67.90611201487334.\n"
     ]
    },
    {
     "name": "stdout",
     "output_type": "stream",
     "text": [
      "\n",
      "Trial results: Loss = 0.999, Accuracy = 63.40%\n"
     ]
    },
    {
     "name": "stderr",
     "output_type": "stream",
     "text": [
      "C:\\Users\\sassy\\anaconda3\\Lib\\site-packages\\torch\\nn\\modules\\rnn.py:88: UserWarning: dropout option adds dropout after all but last recurrent layer, so non-zero dropout expects num_layers greater than 1, but got dropout=0.3495648427242617 and num_layers=1\n",
      "  warnings.warn(\"dropout option adds dropout after all but last \"\n",
      "[I 2024-08-09 19:47:04,100] Trial 8 finished with value: 29.21217755054613 and parameters: {'hidden_size': 73, 'num_layers': 1, 'dropout': 0.3495648427242617, 'num_epochs': 3, 'batch_size': 32, 'learning_rate': 2.0036568318078185e-05, 'use_chroma': True, 'seq_length': 94}. Best is trial 1 with value: 67.90611201487334.\n"
     ]
    },
    {
     "name": "stdout",
     "output_type": "stream",
     "text": [
      "\n",
      "Trial results: Loss = 1.421, Accuracy = 29.21%\n"
     ]
    },
    {
     "name": "stderr",
     "output_type": "stream",
     "text": [
      "[I 2024-08-09 19:52:52,073] Trial 9 finished with value: 46.78131536137578 and parameters: {'hidden_size': 45, 'num_layers': 2, 'dropout': 0.45486921176071193, 'num_epochs': 5, 'batch_size': 16, 'learning_rate': 8.522115083097052e-05, 'use_chroma': True, 'seq_length': 69}. Best is trial 1 with value: 67.90611201487334.\n"
     ]
    },
    {
     "name": "stdout",
     "output_type": "stream",
     "text": [
      "\n",
      "Trial results: Loss = 1.314, Accuracy = 46.78%\n",
      "\n",
      "Best Trial:\n",
      "Best Parameters: {'hidden_size': 87, 'num_layers': 2, 'dropout': 0.1264963296603957, 'num_epochs': 4, 'batch_size': 8, 'learning_rate': 0.00013402860147670366, 'use_chroma': False, 'seq_length': 61}\n",
      "Best Value: 67.90611201487334\n"
     ]
    }
   ],
   "source": [
    "def objective(trial):\n",
    "    h_params = {\n",
    "        'hidden_size': trial.suggest_int('hidden_size', 32, 128),\n",
    "        'num_layers': trial.suggest_int('num_layers', 1, 3),\n",
    "        'dropout': trial.suggest_uniform('dropout', 0.1, 0.5),\n",
    "        'num_epochs': trial.suggest_int('num_epochs', 1, 5),\n",
    "        'batch_size': trial.suggest_categorical('batch_size', [8, 16, 32]),\n",
    "        'learning_rate': trial.suggest_loguniform('learning_rate', 1e-5, 1e-1),\n",
    "        'use_chroma': trial.suggest_categorical('use_chroma', [True, False]),\n",
    "        'seq_length': trial.suggest_int('seq_length', 50, 150)\n",
    "    }\n",
    "    \n",
    "    train_loader, val_loader, _ = get_dataloaders(h_params['use_chroma'], seq_length=100, batch_size=h_params['batch_size'])\n",
    "\n",
    "    model = PianoRollLSTM(h_params)\n",
    "    criterion = nn.CrossEntropyLoss()\n",
    "    optimizer = torch.optim.Adam(model.parameters(), lr=h_params['learning_rate'])\n",
    "\n",
    "    train_lstm(model, train_loader, val_loader, h_params['num_epochs'], criterion, optimizer, silent=True)\n",
    "    \n",
    "    val_loss = 0.0\n",
    "    correct = 0\n",
    "    total = 0\n",
    "\n",
    "    with torch.no_grad():\n",
    "        for data in val_loader:\n",
    "            inputs, labels = data\n",
    "            outputs = model(inputs)\n",
    "            loss = criterion(outputs, labels)\n",
    "            val_loss += loss.item()\n",
    "            _, predicted = torch.max(outputs.data, 1)\n",
    "            total += labels.size(0)\n",
    "            correct += (predicted == labels).sum().item()\n",
    "\n",
    "    accuracy = 100 * correct / total\n",
    "    print(f\"\\nTrial results: Loss = {val_loss / len(val_loader):.3f}, Accuracy = {accuracy:.2f}%\")\n",
    "    return accuracy\n",
    "\n",
    "study = optuna.create_study(direction='maximize')\n",
    "study.optimize(objective, n_trials=10)\n",
    "\n",
    "print(\"\\nBest Trial:\")\n",
    "print(f\"Best Parameters: {study.best_trial.params}\")\n",
    "print(f\"Best Value: {study.best_value}\")"
   ]
  },
  {
   "cell_type": "markdown",
   "id": "97852af7-e416-4afd-89ef-b4e29e3e60ba",
   "metadata": {},
   "source": [
    "## Single Training Run\n",
    "\n",
    "Best parameters from hyperparameter search"
   ]
  },
  {
   "cell_type": "code",
   "execution_count": 88,
   "id": "63993c70-b0b4-4ceb-bd58-1e2186029035",
   "metadata": {},
   "outputs": [],
   "source": [
    "# Define the training_run function\n",
    "def training_run(h_params):\n",
    "    use_chroma = h_params['use_chroma']\n",
    "    batch_size = h_params['batch_size']\n",
    "    num_epochs = h_params['num_epochs']\n",
    "    learning_rate = h_params['learning_rate']\n",
    "    \n",
    "    train_loader, val_loader, test_loader = get_dataloaders(use_chroma, seq_length=100, batch_size=batch_size)\n",
    "\n",
    "    model = PianoRollLSTM(h_params)\n",
    "    criterion = nn.CrossEntropyLoss()\n",
    "    optimizer = torch.optim.Adam(model.parameters(), lr=learning_rate)\n",
    "\n",
    "    train_lstm(model, train_loader, val_loader, num_epochs, criterion, optimizer, silent=False)\n",
    "    \n",
    "    return model, test_loader"
   ]
  },
  {
   "cell_type": "markdown",
   "id": "c9f00b83-dbe7-4889-9ebb-79c3717fba52",
   "metadata": {},
   "source": [
    "## Performance Metrics"
   ]
  },
  {
   "cell_type": "code",
   "execution_count": 89,
   "id": "b3b31303-7047-4beb-a63a-abb14497be09",
   "metadata": {},
   "outputs": [
    {
     "name": "stdout",
     "output_type": "stream",
     "text": [
      "[Epoch 1, Batch 1000] loss: 1.267\n",
      "[Epoch 1, Batch 2000] loss: 1.145\n",
      "[Epoch 1, Batch 3000] loss: 1.074\n",
      "[Epoch 1, Batch 4000] loss: 1.039\n",
      "[Epoch 1, Batch 5000] loss: 1.005\n",
      "[Epoch 1, Batch 6000] loss: 0.949\n",
      "[Epoch 1, Batch 7000] loss: 0.913\n",
      "[Epoch 1, Batch 8000] loss: 0.901\n",
      "[Epoch 1, Batch 9000] loss: 0.883\n",
      "[Epoch 1, Batch 10000] loss: 0.841\n",
      "[Epoch 1, Batch 11000] loss: 0.837\n",
      "[Epoch 1, Batch 12000] loss: 0.806\n",
      "[Epoch 1, Batch 13000] loss: 0.804\n",
      "Validation loss: 1.030, Accuracy: 62.33%\n",
      "[Epoch 2, Batch 1000] loss: 0.721\n",
      "[Epoch 2, Batch 2000] loss: 0.696\n",
      "[Epoch 2, Batch 3000] loss: 0.711\n",
      "[Epoch 2, Batch 4000] loss: 0.701\n",
      "[Epoch 2, Batch 5000] loss: 0.673\n",
      "[Epoch 2, Batch 6000] loss: 0.656\n",
      "[Epoch 2, Batch 7000] loss: 0.663\n",
      "[Epoch 2, Batch 8000] loss: 0.637\n",
      "[Epoch 2, Batch 9000] loss: 0.622\n",
      "[Epoch 2, Batch 10000] loss: 0.595\n",
      "[Epoch 2, Batch 11000] loss: 0.595\n",
      "[Epoch 2, Batch 12000] loss: 0.598\n",
      "[Epoch 2, Batch 13000] loss: 0.565\n",
      "Validation loss: 1.009, Accuracy: 63.61%\n",
      "[Epoch 3, Batch 1000] loss: 0.509\n",
      "[Epoch 3, Batch 2000] loss: 0.509\n",
      "[Epoch 3, Batch 3000] loss: 0.505\n",
      "[Epoch 3, Batch 4000] loss: 0.482\n",
      "[Epoch 3, Batch 5000] loss: 0.493\n",
      "[Epoch 3, Batch 6000] loss: 0.472\n",
      "[Epoch 3, Batch 7000] loss: 0.493\n",
      "[Epoch 3, Batch 8000] loss: 0.480\n",
      "[Epoch 3, Batch 9000] loss: 0.453\n",
      "[Epoch 3, Batch 10000] loss: 0.459\n",
      "[Epoch 3, Batch 11000] loss: 0.444\n",
      "[Epoch 3, Batch 12000] loss: 0.435\n",
      "[Epoch 3, Batch 13000] loss: 0.436\n",
      "Validation loss: 1.022, Accuracy: 63.37%\n",
      "[Epoch 4, Batch 1000] loss: 0.389\n",
      "[Epoch 4, Batch 2000] loss: 0.363\n",
      "[Epoch 4, Batch 3000] loss: 0.391\n",
      "[Epoch 4, Batch 4000] loss: 0.378\n",
      "[Epoch 4, Batch 5000] loss: 0.371\n",
      "[Epoch 4, Batch 6000] loss: 0.391\n",
      "[Epoch 4, Batch 7000] loss: 0.386\n",
      "[Epoch 4, Batch 8000] loss: 0.385\n",
      "[Epoch 4, Batch 9000] loss: 0.347\n",
      "[Epoch 4, Batch 10000] loss: 0.359\n",
      "[Epoch 4, Batch 11000] loss: 0.335\n",
      "[Epoch 4, Batch 12000] loss: 0.356\n",
      "[Epoch 4, Batch 13000] loss: 0.358\n",
      "Validation loss: 0.963, Accuracy: 67.91%\n",
      "[Epoch 5, Batch 1000] loss: 0.312\n",
      "[Epoch 5, Batch 2000] loss: 0.292\n",
      "[Epoch 5, Batch 3000] loss: 0.310\n",
      "[Epoch 5, Batch 4000] loss: 0.324\n",
      "[Epoch 5, Batch 5000] loss: 0.307\n",
      "[Epoch 5, Batch 6000] loss: 0.310\n",
      "[Epoch 5, Batch 7000] loss: 0.288\n",
      "[Epoch 5, Batch 8000] loss: 0.305\n",
      "[Epoch 5, Batch 9000] loss: 0.293\n",
      "[Epoch 5, Batch 10000] loss: 0.297\n",
      "[Epoch 5, Batch 11000] loss: 0.298\n",
      "[Epoch 5, Batch 12000] loss: 0.291\n",
      "[Epoch 5, Batch 13000] loss: 0.305\n",
      "Validation loss: 1.061, Accuracy: 66.88%\n",
      "Classification Report:\n",
      "              precision    recall  f1-score   support\n",
      "\n",
      "        Bach       0.83      0.72      0.77      1594\n",
      "   Beethoven       0.61      0.61      0.61      1112\n",
      "      Chopin       0.67      0.54      0.60       453\n",
      "      Mozart       0.44      0.61      0.51       829\n",
      "\n",
      "    accuracy                           0.64      3988\n",
      "   macro avg       0.64      0.62      0.62      3988\n",
      "weighted avg       0.67      0.64      0.65      3988\n",
      "\n",
      "Confusion Matrix:\n",
      "[[1140  136   39  279]\n",
      " [  73  673   63  303]\n",
      " [  37  124  244   48]\n",
      " [ 130  175   20  504]]\n"
     ]
    }
   ],
   "source": [
    "# Define the evaluate_performance function\n",
    "def evaluate_performance(model, test_loader):\n",
    "    model.eval()\n",
    "    all_labels = []\n",
    "    all_predictions = []\n",
    "\n",
    "    # Define the device\n",
    "    device = torch.device(\"cuda\" if torch.cuda.is_available() else \"cpu\")\n",
    "    \n",
    "    # Move the model to the device\n",
    "    model.to(device)\n",
    "    \n",
    "    with torch.no_grad():\n",
    "        for features, labels in test_loader:\n",
    "            features, labels = features.to(device), labels.to(device)\n",
    "            outputs = model(features)\n",
    "            _, predicted = torch.max(outputs.data, 1)\n",
    "            all_labels.extend(labels.cpu().numpy())\n",
    "            all_predictions.extend(predicted.cpu().numpy())\n",
    "\n",
    "    all_labels = np.array(all_labels)\n",
    "    all_predictions = np.array(all_predictions)\n",
    "\n",
    "    report = classification_report(all_labels, all_predictions, target_names=['Bach', 'Beethoven', 'Chopin', 'Mozart'])\n",
    "    conf_matrix = confusion_matrix(all_labels, all_predictions)\n",
    "\n",
    "    return report, conf_matrix\n",
    "\n",
    "# Set best hyperparameters\n",
    "test_params = {}\n",
    "for key, value in study.best_params.items():\n",
    "    test_params[key] = value\n",
    "\n",
    "test_params['use_chroma'] = False\n",
    "test_params['num_epochs'] = 5\n",
    "test_params['stride'] = 1\n",
    "test_params['pool_kernel_size'] = 2\n",
    "test_params['pool_stride'] = 2\n",
    "\n",
    "# Train the model and evaluate\n",
    "model, test_dataloader = training_run(test_params)\n",
    "report, conf_matrix = evaluate_performance(model, test_dataloader)\n",
    "\n",
    "print(\"Classification Report:\")\n",
    "print(report)\n",
    "print(\"Confusion Matrix:\")\n",
    "print(conf_matrix)"
   ]
  },
  {
   "cell_type": "markdown",
   "id": "96ad2186-5a83-4f18-8bf5-658d0b2efc15",
   "metadata": {},
   "source": [
    "## LSTM Predictions and Scalar Feaures for Classification"
   ]
  },
  {
   "cell_type": "code",
   "execution_count": 90,
   "id": "60f3facc-757b-42ed-ab0c-7f94c591b4f1",
   "metadata": {},
   "outputs": [],
   "source": [
    "def get_prediction(X_in, feature, sequence_length=100, device=None):\n",
    "    model.eval()  # Set the model to evaluation mode\n",
    "\n",
    "    X_sequences = []\n",
    "\n",
    "    # Make sequences split along the time axis\n",
    "    for j in range(0, len(X_in[feature][1]) - sequence_length, sequence_length):\n",
    "        X_sequences.append(X_in[feature][:, j:j + sequence_length])\n",
    "\n",
    "    predictions = []\n",
    "\n",
    "    for seq in X_sequences:\n",
    "        # Move input sequence to the appropriate device\n",
    "        inputs = torch.tensor(seq, dtype=torch.float32).unsqueeze(0).to(device)\n",
    "        \n",
    "        with torch.no_grad():  # No need to compute gradients\n",
    "            outputs = model(inputs)\n",
    "        \n",
    "        # Collect the prediction (model outputs)\n",
    "        predictions.append(outputs.cpu().numpy())  # Move outputs back to CPU\n",
    "\n",
    "    # Average the prediction values across the sequences\n",
    "    predictions = np.mean(predictions, axis=0)\n",
    "\n",
    "    return predictions[0]"
   ]
  },
  {
   "cell_type": "code",
   "execution_count": 96,
   "id": "c3ce80f4-63d1-4e1e-96d0-b7b28adc992b",
   "metadata": {
    "scrolled": true
   },
   "outputs": [],
   "source": [
    "def add_lstm_predictions(X, scalar_df, feature, sequence_length, model, device):\n",
    "    model.eval()\n",
    "    lstm_predictions = []\n",
    "    \n",
    "    for i in range(len(X)):\n",
    "        feature_matrix = X[i][feature]\n",
    "        num_time_steps = feature_matrix.shape[1]\n",
    "        \n",
    "        all_preds = []\n",
    "        for j in range(0, num_time_steps - sequence_length, sequence_length):\n",
    "            input_seq = torch.tensor(feature_matrix[:, j:j + sequence_length].T, dtype=torch.float32).unsqueeze(0).to(device)\n",
    "            with torch.no_grad():\n",
    "                output = model(input_seq)\n",
    "                pred = torch.softmax(output, dim=1).cpu().numpy()\n",
    "                all_preds.append(pred)\n",
    "        \n",
    "        avg_pred = np.mean(all_preds, axis=0).squeeze() if all_preds else np.zeros((1, 4))\n",
    "        lstm_predictions.append(avg_pred)\n",
    "    \n",
    "    lstm_predictions_df = pd.DataFrame(lstm_predictions, columns=[f'LSTM_{label}' for label in label_encoder.classes_])\n",
    "    scalar_df.reset_index(drop=True, inplace=True)\n",
    "    scalar_df = pd.concat([scalar_df, lstm_predictions_df], axis=1)\n",
    "    \n",
    "    return scalar_df\n"
   ]
  },
  {
   "cell_type": "code",
   "execution_count": 117,
   "id": "d112c8ca-3a99-485b-ae0e-f5334d6dc470",
   "metadata": {},
   "outputs": [
    {
     "name": "stdout",
     "output_type": "stream",
     "text": [
      "Test Accuracy: 0.87\n"
     ]
    }
   ],
   "source": [
    "device = torch.device(\"cuda\" if torch.cuda.is_available() else \"cpu\")\n",
    "model.to(device)\n",
    "\n",
    "# Generate LSTM features for training data\n",
    "lstm_scalar_train = scalar_train.copy()\n",
    "lstm_scalar_train = add_lstm_predictions(multidim_train, lstm_scalar_train, 'piano_roll', study.best_params['seq_length'], model, device)\n",
    "\n",
    "# Fit HistGradientBoostingClassifier to LSTM features\n",
    "classifier = HistGradientBoostingClassifier(random_state=1)\n",
    "classifier.fit(lstm_scalar_train, y_train)\n",
    "\n",
    "# Generate LSTM features for test data\n",
    "lstm_scalar_test = scalar_test.copy()\n",
    "lstm_scalar_test = add_lstm_predictions(multidim_test, lstm_scalar_test, 'piano_roll', study.best_params['seq_length'], model, device)\n",
    "\n",
    "# Predict using the classifier\n",
    "y_pred = classifier.predict(lstm_scalar_test)\n",
    "\n",
    "# (Optional) Evaluate the predictions\n",
    "from sklearn.metrics import accuracy_score\n",
    "print(f\"Test Accuracy: {accuracy_score(y_test, y_pred):.2f}\")"
   ]
  },
  {
   "cell_type": "code",
   "execution_count": 118,
   "id": "15074ebe-98d3-460d-a354-600cd9dff139",
   "metadata": {},
   "outputs": [
    {
     "name": "stdout",
     "output_type": "stream",
     "text": [
      "Classification Report:\n",
      "              precision    recall  f1-score   support\n",
      "\n",
      "        Bach       0.95      0.93      0.94       101\n",
      "   Beethoven       0.72      0.82      0.77        22\n",
      "      Chopin       0.94      0.73      0.82        22\n",
      "      Mozart       0.61      0.74      0.67        19\n",
      "\n",
      "    accuracy                           0.87       164\n",
      "   macro avg       0.80      0.80      0.80       164\n",
      "weighted avg       0.88      0.87      0.87       164\n",
      "\n"
     ]
    }
   ],
   "source": [
    "y_pred = classifier.predict(lstm_scalar_test)\n",
    "print(\"Classification Report:\")\n",
    "print(classification_report(y_test, y_pred, target_names=label_encoder.classes_))"
   ]
  },
  {
   "cell_type": "markdown",
   "id": "84e2a233-18b4-451d-992d-402d86df7e00",
   "metadata": {},
   "source": [
    "## Fine Tune Classifier"
   ]
  },
  {
   "cell_type": "code",
   "execution_count": 120,
   "id": "c4add7d2-446c-455b-b185-d47f28761db5",
   "metadata": {},
   "outputs": [],
   "source": [
    "# Define the hyperparameter grid\n",
    "param_grid = {\n",
    "    'learning_rate': [0.01, 0.1, 0.2],\n",
    "    'max_iter': [100, 200, 300],\n",
    "    'max_leaf_nodes': [31, 50, 100],\n",
    "    'max_depth': [3, 5, 7],\n",
    "}"
   ]
  },
  {
   "cell_type": "code",
   "execution_count": 121,
   "id": "7fcb4eea-a336-461a-bbba-0efb87caf79b",
   "metadata": {},
   "outputs": [
    {
     "data": {
      "text/html": [
       "<style>#sk-container-id-2 {\n",
       "  /* Definition of color scheme common for light and dark mode */\n",
       "  --sklearn-color-text: black;\n",
       "  --sklearn-color-line: gray;\n",
       "  /* Definition of color scheme for unfitted estimators */\n",
       "  --sklearn-color-unfitted-level-0: #fff5e6;\n",
       "  --sklearn-color-unfitted-level-1: #f6e4d2;\n",
       "  --sklearn-color-unfitted-level-2: #ffe0b3;\n",
       "  --sklearn-color-unfitted-level-3: chocolate;\n",
       "  /* Definition of color scheme for fitted estimators */\n",
       "  --sklearn-color-fitted-level-0: #f0f8ff;\n",
       "  --sklearn-color-fitted-level-1: #d4ebff;\n",
       "  --sklearn-color-fitted-level-2: #b3dbfd;\n",
       "  --sklearn-color-fitted-level-3: cornflowerblue;\n",
       "\n",
       "  /* Specific color for light theme */\n",
       "  --sklearn-color-text-on-default-background: var(--sg-text-color, var(--theme-code-foreground, var(--jp-content-font-color1, black)));\n",
       "  --sklearn-color-background: var(--sg-background-color, var(--theme-background, var(--jp-layout-color0, white)));\n",
       "  --sklearn-color-border-box: var(--sg-text-color, var(--theme-code-foreground, var(--jp-content-font-color1, black)));\n",
       "  --sklearn-color-icon: #696969;\n",
       "\n",
       "  @media (prefers-color-scheme: dark) {\n",
       "    /* Redefinition of color scheme for dark theme */\n",
       "    --sklearn-color-text-on-default-background: var(--sg-text-color, var(--theme-code-foreground, var(--jp-content-font-color1, white)));\n",
       "    --sklearn-color-background: var(--sg-background-color, var(--theme-background, var(--jp-layout-color0, #111)));\n",
       "    --sklearn-color-border-box: var(--sg-text-color, var(--theme-code-foreground, var(--jp-content-font-color1, white)));\n",
       "    --sklearn-color-icon: #878787;\n",
       "  }\n",
       "}\n",
       "\n",
       "#sk-container-id-2 {\n",
       "  color: var(--sklearn-color-text);\n",
       "}\n",
       "\n",
       "#sk-container-id-2 pre {\n",
       "  padding: 0;\n",
       "}\n",
       "\n",
       "#sk-container-id-2 input.sk-hidden--visually {\n",
       "  border: 0;\n",
       "  clip: rect(1px 1px 1px 1px);\n",
       "  clip: rect(1px, 1px, 1px, 1px);\n",
       "  height: 1px;\n",
       "  margin: -1px;\n",
       "  overflow: hidden;\n",
       "  padding: 0;\n",
       "  position: absolute;\n",
       "  width: 1px;\n",
       "}\n",
       "\n",
       "#sk-container-id-2 div.sk-dashed-wrapped {\n",
       "  border: 1px dashed var(--sklearn-color-line);\n",
       "  margin: 0 0.4em 0.5em 0.4em;\n",
       "  box-sizing: border-box;\n",
       "  padding-bottom: 0.4em;\n",
       "  background-color: var(--sklearn-color-background);\n",
       "}\n",
       "\n",
       "#sk-container-id-2 div.sk-container {\n",
       "  /* jupyter's `normalize.less` sets `[hidden] { display: none; }`\n",
       "     but bootstrap.min.css set `[hidden] { display: none !important; }`\n",
       "     so we also need the `!important` here to be able to override the\n",
       "     default hidden behavior on the sphinx rendered scikit-learn.org.\n",
       "     See: https://github.com/scikit-learn/scikit-learn/issues/21755 */\n",
       "  display: inline-block !important;\n",
       "  position: relative;\n",
       "}\n",
       "\n",
       "#sk-container-id-2 div.sk-text-repr-fallback {\n",
       "  display: none;\n",
       "}\n",
       "\n",
       "div.sk-parallel-item,\n",
       "div.sk-serial,\n",
       "div.sk-item {\n",
       "  /* draw centered vertical line to link estimators */\n",
       "  background-image: linear-gradient(var(--sklearn-color-text-on-default-background), var(--sklearn-color-text-on-default-background));\n",
       "  background-size: 2px 100%;\n",
       "  background-repeat: no-repeat;\n",
       "  background-position: center center;\n",
       "}\n",
       "\n",
       "/* Parallel-specific style estimator block */\n",
       "\n",
       "#sk-container-id-2 div.sk-parallel-item::after {\n",
       "  content: \"\";\n",
       "  width: 100%;\n",
       "  border-bottom: 2px solid var(--sklearn-color-text-on-default-background);\n",
       "  flex-grow: 1;\n",
       "}\n",
       "\n",
       "#sk-container-id-2 div.sk-parallel {\n",
       "  display: flex;\n",
       "  align-items: stretch;\n",
       "  justify-content: center;\n",
       "  background-color: var(--sklearn-color-background);\n",
       "  position: relative;\n",
       "}\n",
       "\n",
       "#sk-container-id-2 div.sk-parallel-item {\n",
       "  display: flex;\n",
       "  flex-direction: column;\n",
       "}\n",
       "\n",
       "#sk-container-id-2 div.sk-parallel-item:first-child::after {\n",
       "  align-self: flex-end;\n",
       "  width: 50%;\n",
       "}\n",
       "\n",
       "#sk-container-id-2 div.sk-parallel-item:last-child::after {\n",
       "  align-self: flex-start;\n",
       "  width: 50%;\n",
       "}\n",
       "\n",
       "#sk-container-id-2 div.sk-parallel-item:only-child::after {\n",
       "  width: 0;\n",
       "}\n",
       "\n",
       "/* Serial-specific style estimator block */\n",
       "\n",
       "#sk-container-id-2 div.sk-serial {\n",
       "  display: flex;\n",
       "  flex-direction: column;\n",
       "  align-items: center;\n",
       "  background-color: var(--sklearn-color-background);\n",
       "  padding-right: 1em;\n",
       "  padding-left: 1em;\n",
       "}\n",
       "\n",
       "\n",
       "/* Toggleable style: style used for estimator/Pipeline/ColumnTransformer box that is\n",
       "clickable and can be expanded/collapsed.\n",
       "- Pipeline and ColumnTransformer use this feature and define the default style\n",
       "- Estimators will overwrite some part of the style using the `sk-estimator` class\n",
       "*/\n",
       "\n",
       "/* Pipeline and ColumnTransformer style (default) */\n",
       "\n",
       "#sk-container-id-2 div.sk-toggleable {\n",
       "  /* Default theme specific background. It is overwritten whether we have a\n",
       "  specific estimator or a Pipeline/ColumnTransformer */\n",
       "  background-color: var(--sklearn-color-background);\n",
       "}\n",
       "\n",
       "/* Toggleable label */\n",
       "#sk-container-id-2 label.sk-toggleable__label {\n",
       "  cursor: pointer;\n",
       "  display: block;\n",
       "  width: 100%;\n",
       "  margin-bottom: 0;\n",
       "  padding: 0.5em;\n",
       "  box-sizing: border-box;\n",
       "  text-align: center;\n",
       "}\n",
       "\n",
       "#sk-container-id-2 label.sk-toggleable__label-arrow:before {\n",
       "  /* Arrow on the left of the label */\n",
       "  content: \"▸\";\n",
       "  float: left;\n",
       "  margin-right: 0.25em;\n",
       "  color: var(--sklearn-color-icon);\n",
       "}\n",
       "\n",
       "#sk-container-id-2 label.sk-toggleable__label-arrow:hover:before {\n",
       "  color: var(--sklearn-color-text);\n",
       "}\n",
       "\n",
       "/* Toggleable content - dropdown */\n",
       "\n",
       "#sk-container-id-2 div.sk-toggleable__content {\n",
       "  max-height: 0;\n",
       "  max-width: 0;\n",
       "  overflow: hidden;\n",
       "  text-align: left;\n",
       "  /* unfitted */\n",
       "  background-color: var(--sklearn-color-unfitted-level-0);\n",
       "}\n",
       "\n",
       "#sk-container-id-2 div.sk-toggleable__content.fitted {\n",
       "  /* fitted */\n",
       "  background-color: var(--sklearn-color-fitted-level-0);\n",
       "}\n",
       "\n",
       "#sk-container-id-2 div.sk-toggleable__content pre {\n",
       "  margin: 0.2em;\n",
       "  border-radius: 0.25em;\n",
       "  color: var(--sklearn-color-text);\n",
       "  /* unfitted */\n",
       "  background-color: var(--sklearn-color-unfitted-level-0);\n",
       "}\n",
       "\n",
       "#sk-container-id-2 div.sk-toggleable__content.fitted pre {\n",
       "  /* unfitted */\n",
       "  background-color: var(--sklearn-color-fitted-level-0);\n",
       "}\n",
       "\n",
       "#sk-container-id-2 input.sk-toggleable__control:checked~div.sk-toggleable__content {\n",
       "  /* Expand drop-down */\n",
       "  max-height: 200px;\n",
       "  max-width: 100%;\n",
       "  overflow: auto;\n",
       "}\n",
       "\n",
       "#sk-container-id-2 input.sk-toggleable__control:checked~label.sk-toggleable__label-arrow:before {\n",
       "  content: \"▾\";\n",
       "}\n",
       "\n",
       "/* Pipeline/ColumnTransformer-specific style */\n",
       "\n",
       "#sk-container-id-2 div.sk-label input.sk-toggleable__control:checked~label.sk-toggleable__label {\n",
       "  color: var(--sklearn-color-text);\n",
       "  background-color: var(--sklearn-color-unfitted-level-2);\n",
       "}\n",
       "\n",
       "#sk-container-id-2 div.sk-label.fitted input.sk-toggleable__control:checked~label.sk-toggleable__label {\n",
       "  background-color: var(--sklearn-color-fitted-level-2);\n",
       "}\n",
       "\n",
       "/* Estimator-specific style */\n",
       "\n",
       "/* Colorize estimator box */\n",
       "#sk-container-id-2 div.sk-estimator input.sk-toggleable__control:checked~label.sk-toggleable__label {\n",
       "  /* unfitted */\n",
       "  background-color: var(--sklearn-color-unfitted-level-2);\n",
       "}\n",
       "\n",
       "#sk-container-id-2 div.sk-estimator.fitted input.sk-toggleable__control:checked~label.sk-toggleable__label {\n",
       "  /* fitted */\n",
       "  background-color: var(--sklearn-color-fitted-level-2);\n",
       "}\n",
       "\n",
       "#sk-container-id-2 div.sk-label label.sk-toggleable__label,\n",
       "#sk-container-id-2 div.sk-label label {\n",
       "  /* The background is the default theme color */\n",
       "  color: var(--sklearn-color-text-on-default-background);\n",
       "}\n",
       "\n",
       "/* On hover, darken the color of the background */\n",
       "#sk-container-id-2 div.sk-label:hover label.sk-toggleable__label {\n",
       "  color: var(--sklearn-color-text);\n",
       "  background-color: var(--sklearn-color-unfitted-level-2);\n",
       "}\n",
       "\n",
       "/* Label box, darken color on hover, fitted */\n",
       "#sk-container-id-2 div.sk-label.fitted:hover label.sk-toggleable__label.fitted {\n",
       "  color: var(--sklearn-color-text);\n",
       "  background-color: var(--sklearn-color-fitted-level-2);\n",
       "}\n",
       "\n",
       "/* Estimator label */\n",
       "\n",
       "#sk-container-id-2 div.sk-label label {\n",
       "  font-family: monospace;\n",
       "  font-weight: bold;\n",
       "  display: inline-block;\n",
       "  line-height: 1.2em;\n",
       "}\n",
       "\n",
       "#sk-container-id-2 div.sk-label-container {\n",
       "  text-align: center;\n",
       "}\n",
       "\n",
       "/* Estimator-specific */\n",
       "#sk-container-id-2 div.sk-estimator {\n",
       "  font-family: monospace;\n",
       "  border: 1px dotted var(--sklearn-color-border-box);\n",
       "  border-radius: 0.25em;\n",
       "  box-sizing: border-box;\n",
       "  margin-bottom: 0.5em;\n",
       "  /* unfitted */\n",
       "  background-color: var(--sklearn-color-unfitted-level-0);\n",
       "}\n",
       "\n",
       "#sk-container-id-2 div.sk-estimator.fitted {\n",
       "  /* fitted */\n",
       "  background-color: var(--sklearn-color-fitted-level-0);\n",
       "}\n",
       "\n",
       "/* on hover */\n",
       "#sk-container-id-2 div.sk-estimator:hover {\n",
       "  /* unfitted */\n",
       "  background-color: var(--sklearn-color-unfitted-level-2);\n",
       "}\n",
       "\n",
       "#sk-container-id-2 div.sk-estimator.fitted:hover {\n",
       "  /* fitted */\n",
       "  background-color: var(--sklearn-color-fitted-level-2);\n",
       "}\n",
       "\n",
       "/* Specification for estimator info (e.g. \"i\" and \"?\") */\n",
       "\n",
       "/* Common style for \"i\" and \"?\" */\n",
       "\n",
       ".sk-estimator-doc-link,\n",
       "a:link.sk-estimator-doc-link,\n",
       "a:visited.sk-estimator-doc-link {\n",
       "  float: right;\n",
       "  font-size: smaller;\n",
       "  line-height: 1em;\n",
       "  font-family: monospace;\n",
       "  background-color: var(--sklearn-color-background);\n",
       "  border-radius: 1em;\n",
       "  height: 1em;\n",
       "  width: 1em;\n",
       "  text-decoration: none !important;\n",
       "  margin-left: 1ex;\n",
       "  /* unfitted */\n",
       "  border: var(--sklearn-color-unfitted-level-1) 1pt solid;\n",
       "  color: var(--sklearn-color-unfitted-level-1);\n",
       "}\n",
       "\n",
       ".sk-estimator-doc-link.fitted,\n",
       "a:link.sk-estimator-doc-link.fitted,\n",
       "a:visited.sk-estimator-doc-link.fitted {\n",
       "  /* fitted */\n",
       "  border: var(--sklearn-color-fitted-level-1) 1pt solid;\n",
       "  color: var(--sklearn-color-fitted-level-1);\n",
       "}\n",
       "\n",
       "/* On hover */\n",
       "div.sk-estimator:hover .sk-estimator-doc-link:hover,\n",
       ".sk-estimator-doc-link:hover,\n",
       "div.sk-label-container:hover .sk-estimator-doc-link:hover,\n",
       ".sk-estimator-doc-link:hover {\n",
       "  /* unfitted */\n",
       "  background-color: var(--sklearn-color-unfitted-level-3);\n",
       "  color: var(--sklearn-color-background);\n",
       "  text-decoration: none;\n",
       "}\n",
       "\n",
       "div.sk-estimator.fitted:hover .sk-estimator-doc-link.fitted:hover,\n",
       ".sk-estimator-doc-link.fitted:hover,\n",
       "div.sk-label-container:hover .sk-estimator-doc-link.fitted:hover,\n",
       ".sk-estimator-doc-link.fitted:hover {\n",
       "  /* fitted */\n",
       "  background-color: var(--sklearn-color-fitted-level-3);\n",
       "  color: var(--sklearn-color-background);\n",
       "  text-decoration: none;\n",
       "}\n",
       "\n",
       "/* Span, style for the box shown on hovering the info icon */\n",
       ".sk-estimator-doc-link span {\n",
       "  display: none;\n",
       "  z-index: 9999;\n",
       "  position: relative;\n",
       "  font-weight: normal;\n",
       "  right: .2ex;\n",
       "  padding: .5ex;\n",
       "  margin: .5ex;\n",
       "  width: min-content;\n",
       "  min-width: 20ex;\n",
       "  max-width: 50ex;\n",
       "  color: var(--sklearn-color-text);\n",
       "  box-shadow: 2pt 2pt 4pt #999;\n",
       "  /* unfitted */\n",
       "  background: var(--sklearn-color-unfitted-level-0);\n",
       "  border: .5pt solid var(--sklearn-color-unfitted-level-3);\n",
       "}\n",
       "\n",
       ".sk-estimator-doc-link.fitted span {\n",
       "  /* fitted */\n",
       "  background: var(--sklearn-color-fitted-level-0);\n",
       "  border: var(--sklearn-color-fitted-level-3);\n",
       "}\n",
       "\n",
       ".sk-estimator-doc-link:hover span {\n",
       "  display: block;\n",
       "}\n",
       "\n",
       "/* \"?\"-specific style due to the `<a>` HTML tag */\n",
       "\n",
       "#sk-container-id-2 a.estimator_doc_link {\n",
       "  float: right;\n",
       "  font-size: 1rem;\n",
       "  line-height: 1em;\n",
       "  font-family: monospace;\n",
       "  background-color: var(--sklearn-color-background);\n",
       "  border-radius: 1rem;\n",
       "  height: 1rem;\n",
       "  width: 1rem;\n",
       "  text-decoration: none;\n",
       "  /* unfitted */\n",
       "  color: var(--sklearn-color-unfitted-level-1);\n",
       "  border: var(--sklearn-color-unfitted-level-1) 1pt solid;\n",
       "}\n",
       "\n",
       "#sk-container-id-2 a.estimator_doc_link.fitted {\n",
       "  /* fitted */\n",
       "  border: var(--sklearn-color-fitted-level-1) 1pt solid;\n",
       "  color: var(--sklearn-color-fitted-level-1);\n",
       "}\n",
       "\n",
       "/* On hover */\n",
       "#sk-container-id-2 a.estimator_doc_link:hover {\n",
       "  /* unfitted */\n",
       "  background-color: var(--sklearn-color-unfitted-level-3);\n",
       "  color: var(--sklearn-color-background);\n",
       "  text-decoration: none;\n",
       "}\n",
       "\n",
       "#sk-container-id-2 a.estimator_doc_link.fitted:hover {\n",
       "  /* fitted */\n",
       "  background-color: var(--sklearn-color-fitted-level-3);\n",
       "}\n",
       "</style><div id=\"sk-container-id-2\" class=\"sk-top-container\"><div class=\"sk-text-repr-fallback\"><pre>GridSearchCV(cv=5, estimator=HistGradientBoostingClassifier(random_state=42),\n",
       "             n_jobs=-1,\n",
       "             param_grid={&#x27;learning_rate&#x27;: [0.01, 0.1, 0.2],\n",
       "                         &#x27;max_depth&#x27;: [3, 5, 7], &#x27;max_iter&#x27;: [100, 200, 300],\n",
       "                         &#x27;max_leaf_nodes&#x27;: [31, 50, 100]},\n",
       "             scoring=&#x27;accuracy&#x27;)</pre><b>In a Jupyter environment, please rerun this cell to show the HTML representation or trust the notebook. <br />On GitHub, the HTML representation is unable to render, please try loading this page with nbviewer.org.</b></div><div class=\"sk-container\" hidden><div class=\"sk-item sk-dashed-wrapped\"><div class=\"sk-label-container\"><div class=\"sk-label fitted sk-toggleable\"><input class=\"sk-toggleable__control sk-hidden--visually\" id=\"sk-estimator-id-4\" type=\"checkbox\" ><label for=\"sk-estimator-id-4\" class=\"sk-toggleable__label fitted sk-toggleable__label-arrow fitted\">&nbsp;&nbsp;GridSearchCV<a class=\"sk-estimator-doc-link fitted\" rel=\"noreferrer\" target=\"_blank\" href=\"https://scikit-learn.org/1.5/modules/generated/sklearn.model_selection.GridSearchCV.html\">?<span>Documentation for GridSearchCV</span></a><span class=\"sk-estimator-doc-link fitted\">i<span>Fitted</span></span></label><div class=\"sk-toggleable__content fitted\"><pre>GridSearchCV(cv=5, estimator=HistGradientBoostingClassifier(random_state=42),\n",
       "             n_jobs=-1,\n",
       "             param_grid={&#x27;learning_rate&#x27;: [0.01, 0.1, 0.2],\n",
       "                         &#x27;max_depth&#x27;: [3, 5, 7], &#x27;max_iter&#x27;: [100, 200, 300],\n",
       "                         &#x27;max_leaf_nodes&#x27;: [31, 50, 100]},\n",
       "             scoring=&#x27;accuracy&#x27;)</pre></div> </div></div><div class=\"sk-parallel\"><div class=\"sk-parallel-item\"><div class=\"sk-item\"><div class=\"sk-label-container\"><div class=\"sk-label fitted sk-toggleable\"><input class=\"sk-toggleable__control sk-hidden--visually\" id=\"sk-estimator-id-5\" type=\"checkbox\" ><label for=\"sk-estimator-id-5\" class=\"sk-toggleable__label fitted sk-toggleable__label-arrow fitted\">best_estimator_: HistGradientBoostingClassifier</label><div class=\"sk-toggleable__content fitted\"><pre>HistGradientBoostingClassifier(learning_rate=0.2, max_depth=3, max_iter=300,\n",
       "                               random_state=42)</pre></div> </div></div><div class=\"sk-serial\"><div class=\"sk-item\"><div class=\"sk-estimator fitted sk-toggleable\"><input class=\"sk-toggleable__control sk-hidden--visually\" id=\"sk-estimator-id-6\" type=\"checkbox\" ><label for=\"sk-estimator-id-6\" class=\"sk-toggleable__label fitted sk-toggleable__label-arrow fitted\">&nbsp;HistGradientBoostingClassifier<a class=\"sk-estimator-doc-link fitted\" rel=\"noreferrer\" target=\"_blank\" href=\"https://scikit-learn.org/1.5/modules/generated/sklearn.ensemble.HistGradientBoostingClassifier.html\">?<span>Documentation for HistGradientBoostingClassifier</span></a></label><div class=\"sk-toggleable__content fitted\"><pre>HistGradientBoostingClassifier(learning_rate=0.2, max_depth=3, max_iter=300,\n",
       "                               random_state=42)</pre></div> </div></div></div></div></div></div></div></div></div>"
      ],
      "text/plain": [
       "GridSearchCV(cv=5, estimator=HistGradientBoostingClassifier(random_state=42),\n",
       "             n_jobs=-1,\n",
       "             param_grid={'learning_rate': [0.01, 0.1, 0.2],\n",
       "                         'max_depth': [3, 5, 7], 'max_iter': [100, 200, 300],\n",
       "                         'max_leaf_nodes': [31, 50, 100]},\n",
       "             scoring='accuracy')"
      ]
     },
     "execution_count": 121,
     "metadata": {},
     "output_type": "execute_result"
    }
   ],
   "source": [
    "from sklearn.model_selection import GridSearchCV\n",
    "\n",
    "# Initialize the classifier\n",
    "hgb_clf = HistGradientBoostingClassifier(random_state=42)\n",
    "\n",
    "# Set up the GridSearchCV\n",
    "grid_search = GridSearchCV(estimator=hgb_clf, param_grid=param_grid, \n",
    "                           scoring='accuracy', cv=5, n_jobs=-1, verbose=0)\n",
    "\n",
    "# Fit the grid search to the data\n",
    "grid_search.fit(lstm_scalar_train, y_train)"
   ]
  },
  {
   "cell_type": "code",
   "execution_count": 122,
   "id": "91b646af-4d4f-4f35-a0cd-028110718039",
   "metadata": {},
   "outputs": [
    {
     "name": "stdout",
     "output_type": "stream",
     "text": [
      "Best Hyperparameters: {'learning_rate': 0.2, 'max_depth': 3, 'max_iter': 300, 'max_leaf_nodes': 31}\n",
      "Best Cross-Validated Score: 0.9923497267759563\n",
      "Test Set Accuracy: 0.8597560975609756\n"
     ]
    }
   ],
   "source": [
    "# Get the best parameters and best score\n",
    "best_params = grid_search.best_params_\n",
    "best_score = grid_search.best_score_\n",
    "\n",
    "print(\"Best Hyperparameters:\", best_params)\n",
    "print(\"Best Cross-Validated Score:\", best_score)\n",
    "\n",
    "# Evaluate on the test set\n",
    "best_model = grid_search.best_estimator_\n",
    "test_score = best_model.score(lstm_scalar_test, y_test)\n",
    "print(\"Test Set Accuracy:\", test_score)"
   ]
  }
 ],
 "metadata": {
  "kernelspec": {
   "display_name": "Python 3 (ipykernel)",
   "language": "python",
   "name": "python3"
  },
  "language_info": {
   "codemirror_mode": {
    "name": "ipython",
    "version": 3
   },
   "file_extension": ".py",
   "mimetype": "text/x-python",
   "name": "python",
   "nbconvert_exporter": "python",
   "pygments_lexer": "ipython3",
   "version": "3.11.7"
  }
 },
 "nbformat": 4,
 "nbformat_minor": 5
}
